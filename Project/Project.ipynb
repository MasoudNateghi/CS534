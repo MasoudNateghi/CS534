{
 "cells": [
  {
   "cell_type": "markdown",
   "source": [
    "\n",
    "# Cardiovascular Disease Prediction Dataset\n",
    "\n",
    "[Link to Dataset](https://www.kaggle.com/datasets/colewelkins/cardiovascular-disease/data)\n",
    "\n",
    "The primary objective of this dataset is to predict the presence or absence of cardiovascular disease based on various patient metrics.\n",
    "\n",
    "## Variables\n",
    "\n",
    "- **ID:** Unique identifier for each patient.\n",
    "- **age:** Age of the patient in days.\n",
    "- **age_years:** Age of the patient in years (derived from age).\n",
    "- **gender:** Gender of the patient. Categorical variable (1: Female, 2: Male).\n",
    "- **height:** Height of the patient in centimeters.\n",
    "- **weight:** Weight of the patient in kilograms.\n",
    "- **ap_hi:** Systolic blood pressure.\n",
    "- **ap_lo:** Diastolic blood pressure.\n",
    "- **cholesterol:** Cholesterol levels. Categorical variable (1: Normal, 2: Above Normal, 3: Well Above Normal).\n",
    "- **gluc:** Glucose levels. Categorical variable (1: Normal, 2: Above Normal, 3: Well Above Normal).\n",
    "- **smoke:** Smoking status. Binary variable (0: Non-smoker, 1: Smoker).\n",
    "- **alco:** Alcohol intake. Binary variable (0: Does not consume alcohol, 1: Consumes alcohol).\n",
    "- **active:** Physical activity. Binary variable (0: Not physically active, 1: Physically active).\n",
    "- **cardio:** Presence or absence of cardiovascular disease. Target variable. Binary (0: Absence, 1: Presence).\n",
    "- **bmi:** Body Mass Index, derived from weight and height. Calculated as \\(BMI = \\frac{\\text{weight (kg)}}{\\text{height (m)}^2}\\).\n",
    "- **bp_category:** Blood pressure category based on ap_hi and ap_lo. Categories include \"Normal\", \"Elevated\", \"Hypertension Stage 1\", \"Hypertension Stage 2\".\n",
    "- **bp_category_encoded:** Encoded form of bp_category for machine learning purposes.\n"
   ],
   "metadata": {
    "collapsed": false
   }
  },
  {
   "cell_type": "markdown",
   "source": [
    "# Importing Libraries"
   ],
   "metadata": {
    "collapsed": false
   }
  },
  {
   "cell_type": "code",
   "execution_count": 232,
   "outputs": [],
   "source": [
    "import pandas as pd\n",
    "import numpy as np\n",
    "import matplotlib.pyplot as plt\n",
    "from sklearn.model_selection import train_test_split\n",
    "from sklearn.preprocessing import StandardScaler"
   ],
   "metadata": {
    "collapsed": false,
    "ExecuteTime": {
     "end_time": "2023-11-24T20:17:02.237667500Z",
     "start_time": "2023-11-24T20:17:02.122714900Z"
    }
   }
  },
  {
   "cell_type": "markdown",
   "source": [
    "# Data Preprocessing\n",
    "**Importing the Dataset**\n"
   ],
   "metadata": {
    "collapsed": false
   }
  },
  {
   "cell_type": "code",
   "execution_count": 233,
   "outputs": [],
   "source": [
    "# List of non-standard representations for missing values\n",
    "non_standard_missing_values = ['?', '--', ' ', 'NA', 'N/A', '-']\n",
    "# Reading the data from the specified CSV file into a pandas DataFrame using the 'na_values' parameter to interpret the specified missing values\n",
    "df = pd.read_csv('Data/cardio_data_processed.csv', na_values=non_standard_missing_values)\n",
    "# Drop the specified columns from the DataFrame as they are considered excessive\n",
    "df = df.drop(columns=['id', 'bp_category_encoded'])\n",
    "\n",
    "# Initial Pre-processing for 'bmi', 'height', and 'weight'\n",
    "# https://www.cdc.gov/healthyweight/assessing/index.html#:~:text=If%20your%20BMI%20is%20less,falls%20within%20the%20obese%20range.\n",
    "# https://en.wikipedia.org/wiki/Average_human_height_by_country\n",
    "# df = df[(df['bmi'] >= 9) & (df['bmi'] <= 60) & (df['height'] >= 100) & (df['weight'] >= 30) & (df['height'] <= 250) & (df['weight'] <= 500)]"
   ],
   "metadata": {
    "collapsed": false,
    "ExecuteTime": {
     "end_time": "2023-11-24T20:17:02.505930300Z",
     "start_time": "2023-11-24T20:17:02.128250800Z"
    }
   }
  },
  {
   "cell_type": "markdown",
   "source": [
    "**One-hot encoding for categorical features**"
   ],
   "metadata": {
    "collapsed": false
   }
  },
  {
   "cell_type": "code",
   "execution_count": 234,
   "outputs": [
    {
     "data": {
      "text/plain": "         age  gender  height  weight  ap_hi  ap_lo  cholesterol  gluc  smoke  \\\n0      18393       2     168    62.0    110     80            1     1      0   \n1      20228       1     156    85.0    140     90            3     1      0   \n2      18857       1     165    64.0    130     70            3     1      0   \n3      17623       2     169    82.0    150    100            1     1      0   \n4      17474       1     156    56.0    100     60            1     1      0   \n...      ...     ...     ...     ...    ...    ...          ...   ...    ...   \n68200  19240       2     168    76.0    120     80            1     1      1   \n68201  22601       1     158   126.0    140     90            2     2      0   \n68202  19066       2     183   105.0    180     90            3     1      0   \n68203  22431       1     163    72.0    135     80            1     2      0   \n68204  20540       1     170    72.0    120     80            2     1      0   \n\n       alco  active  cardio  age_years        bmi  bp_category_Elevated  \\\n0         0       1       0         50  21.967120                     0   \n1         0       1       1         55  34.927679                     0   \n2         0       0       1         51  23.507805                     0   \n3         0       1       1         48  28.710479                     0   \n4         0       0       0         47  23.011177                     0   \n...     ...     ...     ...        ...        ...                   ...   \n68200     0       1       0         52  26.927438                     0   \n68201     0       1       1         61  50.472681                     0   \n68202     1       0       1         52  31.353579                     0   \n68203     0       0       1         61  27.099251                     0   \n68204     0       1       0         56  24.913495                     0   \n\n       bp_category_Hypertension Stage 1  bp_category_Hypertension Stage 2  \\\n0                                     1                                 0   \n1                                     0                                 1   \n2                                     1                                 0   \n3                                     0                                 1   \n4                                     0                                 0   \n...                                 ...                               ...   \n68200                                 1                                 0   \n68201                                 0                                 1   \n68202                                 0                                 1   \n68203                                 1                                 0   \n68204                                 1                                 0   \n\n       bp_category_Normal  \n0                       0  \n1                       0  \n2                       0  \n3                       0  \n4                       1  \n...                   ...  \n68200                   0  \n68201                   0  \n68202                   0  \n68203                   0  \n68204                   0  \n\n[68205 rows x 18 columns]",
      "text/html": "<div>\n<style scoped>\n    .dataframe tbody tr th:only-of-type {\n        vertical-align: middle;\n    }\n\n    .dataframe tbody tr th {\n        vertical-align: top;\n    }\n\n    .dataframe thead th {\n        text-align: right;\n    }\n</style>\n<table border=\"1\" class=\"dataframe\">\n  <thead>\n    <tr style=\"text-align: right;\">\n      <th></th>\n      <th>age</th>\n      <th>gender</th>\n      <th>height</th>\n      <th>weight</th>\n      <th>ap_hi</th>\n      <th>ap_lo</th>\n      <th>cholesterol</th>\n      <th>gluc</th>\n      <th>smoke</th>\n      <th>alco</th>\n      <th>active</th>\n      <th>cardio</th>\n      <th>age_years</th>\n      <th>bmi</th>\n      <th>bp_category_Elevated</th>\n      <th>bp_category_Hypertension Stage 1</th>\n      <th>bp_category_Hypertension Stage 2</th>\n      <th>bp_category_Normal</th>\n    </tr>\n  </thead>\n  <tbody>\n    <tr>\n      <th>0</th>\n      <td>18393</td>\n      <td>2</td>\n      <td>168</td>\n      <td>62.0</td>\n      <td>110</td>\n      <td>80</td>\n      <td>1</td>\n      <td>1</td>\n      <td>0</td>\n      <td>0</td>\n      <td>1</td>\n      <td>0</td>\n      <td>50</td>\n      <td>21.967120</td>\n      <td>0</td>\n      <td>1</td>\n      <td>0</td>\n      <td>0</td>\n    </tr>\n    <tr>\n      <th>1</th>\n      <td>20228</td>\n      <td>1</td>\n      <td>156</td>\n      <td>85.0</td>\n      <td>140</td>\n      <td>90</td>\n      <td>3</td>\n      <td>1</td>\n      <td>0</td>\n      <td>0</td>\n      <td>1</td>\n      <td>1</td>\n      <td>55</td>\n      <td>34.927679</td>\n      <td>0</td>\n      <td>0</td>\n      <td>1</td>\n      <td>0</td>\n    </tr>\n    <tr>\n      <th>2</th>\n      <td>18857</td>\n      <td>1</td>\n      <td>165</td>\n      <td>64.0</td>\n      <td>130</td>\n      <td>70</td>\n      <td>3</td>\n      <td>1</td>\n      <td>0</td>\n      <td>0</td>\n      <td>0</td>\n      <td>1</td>\n      <td>51</td>\n      <td>23.507805</td>\n      <td>0</td>\n      <td>1</td>\n      <td>0</td>\n      <td>0</td>\n    </tr>\n    <tr>\n      <th>3</th>\n      <td>17623</td>\n      <td>2</td>\n      <td>169</td>\n      <td>82.0</td>\n      <td>150</td>\n      <td>100</td>\n      <td>1</td>\n      <td>1</td>\n      <td>0</td>\n      <td>0</td>\n      <td>1</td>\n      <td>1</td>\n      <td>48</td>\n      <td>28.710479</td>\n      <td>0</td>\n      <td>0</td>\n      <td>1</td>\n      <td>0</td>\n    </tr>\n    <tr>\n      <th>4</th>\n      <td>17474</td>\n      <td>1</td>\n      <td>156</td>\n      <td>56.0</td>\n      <td>100</td>\n      <td>60</td>\n      <td>1</td>\n      <td>1</td>\n      <td>0</td>\n      <td>0</td>\n      <td>0</td>\n      <td>0</td>\n      <td>47</td>\n      <td>23.011177</td>\n      <td>0</td>\n      <td>0</td>\n      <td>0</td>\n      <td>1</td>\n    </tr>\n    <tr>\n      <th>...</th>\n      <td>...</td>\n      <td>...</td>\n      <td>...</td>\n      <td>...</td>\n      <td>...</td>\n      <td>...</td>\n      <td>...</td>\n      <td>...</td>\n      <td>...</td>\n      <td>...</td>\n      <td>...</td>\n      <td>...</td>\n      <td>...</td>\n      <td>...</td>\n      <td>...</td>\n      <td>...</td>\n      <td>...</td>\n      <td>...</td>\n    </tr>\n    <tr>\n      <th>68200</th>\n      <td>19240</td>\n      <td>2</td>\n      <td>168</td>\n      <td>76.0</td>\n      <td>120</td>\n      <td>80</td>\n      <td>1</td>\n      <td>1</td>\n      <td>1</td>\n      <td>0</td>\n      <td>1</td>\n      <td>0</td>\n      <td>52</td>\n      <td>26.927438</td>\n      <td>0</td>\n      <td>1</td>\n      <td>0</td>\n      <td>0</td>\n    </tr>\n    <tr>\n      <th>68201</th>\n      <td>22601</td>\n      <td>1</td>\n      <td>158</td>\n      <td>126.0</td>\n      <td>140</td>\n      <td>90</td>\n      <td>2</td>\n      <td>2</td>\n      <td>0</td>\n      <td>0</td>\n      <td>1</td>\n      <td>1</td>\n      <td>61</td>\n      <td>50.472681</td>\n      <td>0</td>\n      <td>0</td>\n      <td>1</td>\n      <td>0</td>\n    </tr>\n    <tr>\n      <th>68202</th>\n      <td>19066</td>\n      <td>2</td>\n      <td>183</td>\n      <td>105.0</td>\n      <td>180</td>\n      <td>90</td>\n      <td>3</td>\n      <td>1</td>\n      <td>0</td>\n      <td>1</td>\n      <td>0</td>\n      <td>1</td>\n      <td>52</td>\n      <td>31.353579</td>\n      <td>0</td>\n      <td>0</td>\n      <td>1</td>\n      <td>0</td>\n    </tr>\n    <tr>\n      <th>68203</th>\n      <td>22431</td>\n      <td>1</td>\n      <td>163</td>\n      <td>72.0</td>\n      <td>135</td>\n      <td>80</td>\n      <td>1</td>\n      <td>2</td>\n      <td>0</td>\n      <td>0</td>\n      <td>0</td>\n      <td>1</td>\n      <td>61</td>\n      <td>27.099251</td>\n      <td>0</td>\n      <td>1</td>\n      <td>0</td>\n      <td>0</td>\n    </tr>\n    <tr>\n      <th>68204</th>\n      <td>20540</td>\n      <td>1</td>\n      <td>170</td>\n      <td>72.0</td>\n      <td>120</td>\n      <td>80</td>\n      <td>2</td>\n      <td>1</td>\n      <td>0</td>\n      <td>0</td>\n      <td>1</td>\n      <td>0</td>\n      <td>56</td>\n      <td>24.913495</td>\n      <td>0</td>\n      <td>1</td>\n      <td>0</td>\n      <td>0</td>\n    </tr>\n  </tbody>\n</table>\n<p>68205 rows × 18 columns</p>\n</div>"
     },
     "execution_count": 234,
     "metadata": {},
     "output_type": "execute_result"
    }
   ],
   "source": [
    "# This converts categorical variables into binary vectors, creating new columns for each unique category and using binary values (0 or 1) to represent the presence or absence of each category. The new columns are prefixed with 'bp_category' to distinguish them.\n",
    "df = pd.get_dummies(df, columns=['bp_category'], prefix='bp_category')\n",
    "\n",
    "# Display the modified DataFrame after one-hot encoding\n",
    "df"
   ],
   "metadata": {
    "collapsed": false,
    "ExecuteTime": {
     "end_time": "2023-11-24T20:17:02.505930300Z",
     "start_time": "2023-11-24T20:17:02.285059900Z"
    }
   }
  },
  {
   "cell_type": "markdown",
   "source": [
    "**Identifying and dealing with missing values**"
   ],
   "metadata": {
    "collapsed": false
   }
  },
  {
   "cell_type": "code",
   "execution_count": 235,
   "outputs": [
    {
     "name": "stdout",
     "output_type": "stream",
     "text": [
      "None of the features contain data samples with missing values\n",
      "Total data samples: 68205 | Variables (Features + Label): 18\n",
      "________________________________________________________________\n",
      "<class 'pandas.core.frame.DataFrame'>\n",
      "RangeIndex: 68205 entries, 0 to 68204\n",
      "Data columns (total 18 columns):\n",
      " #   Column                            Non-Null Count  Dtype  \n",
      "---  ------                            --------------  -----  \n",
      " 0   age                               68205 non-null  int64  \n",
      " 1   gender                            68205 non-null  int64  \n",
      " 2   height                            68205 non-null  int64  \n",
      " 3   weight                            68205 non-null  float64\n",
      " 4   ap_hi                             68205 non-null  int64  \n",
      " 5   ap_lo                             68205 non-null  int64  \n",
      " 6   cholesterol                       68205 non-null  int64  \n",
      " 7   gluc                              68205 non-null  int64  \n",
      " 8   smoke                             68205 non-null  int64  \n",
      " 9   alco                              68205 non-null  int64  \n",
      " 10  active                            68205 non-null  int64  \n",
      " 11  cardio                            68205 non-null  int64  \n",
      " 12  age_years                         68205 non-null  int64  \n",
      " 13  bmi                               68205 non-null  float64\n",
      " 14  bp_category_Elevated              68205 non-null  uint8  \n",
      " 15  bp_category_Hypertension Stage 1  68205 non-null  uint8  \n",
      " 16  bp_category_Hypertension Stage 2  68205 non-null  uint8  \n",
      " 17  bp_category_Normal                68205 non-null  uint8  \n",
      "dtypes: float64(2), int64(12), uint8(4)\n",
      "memory usage: 7.5 MB\n"
     ]
    }
   ],
   "source": [
    "# Create a list of features that have missing values by checking the sum of null values for each feature\n",
    "features_containing_null_values = [feature for feature in df.columns if df[feature].isnull().sum() > 0]\n",
    "\n",
    "# Check if there are features with missing values\n",
    "if features_containing_null_values:\n",
    "    # Print the features that contain missing values\n",
    "    print('This features contain data samples with missing values: {}'.format(features_containing_null_values))\n",
    "\n",
    "    # Drop rows with missing values in specified features\n",
    "    df.dropna(subset=features_containing_null_values, inplace=True)\n",
    "\n",
    "    # Display information about the modified DataFrame\n",
    "    print('Total data samples after dropping missing values: {} | Variables (Features + Label): {}'.format(df.shape[0], df.shape[1]))\n",
    "    print('________________________________________________________________')\n",
    "\n",
    "else:\n",
    "    print('None of the features contain data samples with missing values')\n",
    "\n",
    "    # Display information about the DataFrame\n",
    "    print('Total data samples: {} | Variables (Features + Label): {}'.format(df.shape[0], df.shape[1]))\n",
    "    print('________________________________________________________________')\n",
    "\n",
    "# Display information about the DataFrame after handling missing values\n",
    "df.info()"
   ],
   "metadata": {
    "collapsed": false,
    "ExecuteTime": {
     "end_time": "2023-11-24T20:17:02.505930300Z",
     "start_time": "2023-11-24T20:17:02.324832Z"
    }
   }
  },
  {
   "cell_type": "markdown",
   "source": [
    "**Identifying and dealing with duplicate values**"
   ],
   "metadata": {
    "collapsed": false
   }
  },
  {
   "cell_type": "code",
   "execution_count": 236,
   "outputs": [
    {
     "name": "stdout",
     "output_type": "stream",
     "text": [
      "Number of duplicate data samples in the Dataset : 24\n",
      "________________________________________________________________\n",
      "         age  gender  height  weight  ap_hi  ap_lo  cholesterol  gluc  smoke  \\\n",
      "10225  16937       2     170    70.0    120     80            1     1      0   \n",
      "43508  16937       2     170    70.0    120     80            1     1      0   \n",
      "1114   17493       2     169    74.0    120     80            1     1      0   \n",
      "49133  17493       2     169    74.0    120     80            1     1      0   \n",
      "31841  17535       2     165    65.0    120     80            1     1      0   \n",
      "55194  17535       2     165    65.0    120     80            1     1      0   \n",
      "2611   22077       1     175    69.0    120     80            1     1      0   \n",
      "44565  22077       1     175    69.0    120     80            1     1      0   \n",
      "22108  18353       1     169    67.0    120     80            1     1      0   \n",
      "41361  18353       1     169    67.0    120     80            1     1      0   \n",
      "16677  16160       1     168    65.0    120     80            1     1      0   \n",
      "62521  16160       1     168    65.0    120     80            1     1      0   \n",
      "53328  18955       1     165    75.0    120     80            1     1      0   \n",
      "56460  18955       1     165    75.0    120     80            1     1      0   \n",
      "2250   20495       1     165    70.0    120     80            1     1      0   \n",
      "10290  20495       1     165    70.0    120     80            1     1      0   \n",
      "1176   16793       1     165    68.0    120     80            1     1      0   \n",
      "15924  19858       1     165    68.0    120     80            1     1      0   \n",
      "21217  16793       1     165    68.0    120     80            1     1      0   \n",
      "57229  19858       1     165    68.0    120     80            1     1      0   \n",
      "19522  19059       1     165    65.0    120     80            1     1      0   \n",
      "21303  21280       1     165    65.0    120     80            1     1      0   \n",
      "39265  21943       1     165    65.0    120     80            1     1      0   \n",
      "43967  21280       1     165    65.0    120     80            1     1      0   \n",
      "46507  18979       1     165    65.0    120     80            1     1      0   \n",
      "51212  21943       1     165    65.0    120     80            1     1      0   \n",
      "60722  18979       1     165    65.0    120     80            1     1      0   \n",
      "64492  19059       1     165    65.0    120     80            1     1      0   \n",
      "1536   21945       1     165    60.0    120     80            1     1      0   \n",
      "47663  21945       1     165    60.0    120     80            1     1      0   \n",
      "23736  20516       1     164    66.0    120     80            1     1      0   \n",
      "58899  20516       1     164    66.0    120     80            1     1      0   \n",
      "10501  18988       1     164    65.0    120     80            1     1      0   \n",
      "37520  18988       1     164    65.0    120     80            1     1      0   \n",
      "16744  21230       1     164    62.0    120     80            1     1      0   \n",
      "44625  21230       1     164    62.0    120     80            1     1      0   \n",
      "1577   20293       1     162    70.0    110     70            1     1      0   \n",
      "55453  20293       1     162    70.0    110     70            1     1      0   \n",
      "28244  18210       1     160    60.0    120     80            1     1      0   \n",
      "37603  21119       1     160    60.0    120     80            1     1      0   \n",
      "63403  18210       1     160    60.0    120     80            1     1      0   \n",
      "66533  21119       1     160    60.0    120     80            1     1      0   \n",
      "7981   21778       1     160    58.0    120     80            1     1      0   \n",
      "63937  21778       1     160    58.0    120     80            1     1      0   \n",
      "6161   14552       1     158    64.0    120     80            1     1      0   \n",
      "39328  14552       1     158    64.0    120     80            1     1      0   \n",
      "27565  16805       1     157    67.0    120     80            1     1      0   \n",
      "58919  16805       1     157    67.0    120     80            1     1      0   \n",
      "\n",
      "       alco  active  cardio  age_years        bmi  bp_category_Elevated  \\\n",
      "10225     0       0       0         46  24.221453                     0   \n",
      "43508     0       0       0         46  24.221453                     0   \n",
      "1114      0       1       1         47  25.909457                     0   \n",
      "49133     0       1       1         47  25.909457                     0   \n",
      "31841     0       1       0         48  23.875115                     0   \n",
      "55194     0       1       0         48  23.875115                     0   \n",
      "2611      0       1       1         60  22.530612                     0   \n",
      "44565     0       1       1         60  22.530612                     0   \n",
      "22108     0       1       0         50  23.458562                     0   \n",
      "41361     0       1       0         50  23.458562                     0   \n",
      "16677     0       1       1         44  23.030045                     0   \n",
      "62521     0       1       1         44  23.030045                     0   \n",
      "53328     0       1       1         51  27.548209                     0   \n",
      "56460     0       1       1         51  27.548209                     0   \n",
      "2250      0       1       0         56  25.711662                     0   \n",
      "10290     0       1       0         56  25.711662                     0   \n",
      "1176      0       1       0         46  24.977043                     0   \n",
      "15924     0       1       0         54  24.977043                     0   \n",
      "21217     0       1       0         46  24.977043                     0   \n",
      "57229     0       1       0         54  24.977043                     0   \n",
      "19522     0       1       1         52  23.875115                     0   \n",
      "21303     0       1       0         58  23.875115                     0   \n",
      "39265     0       1       1         60  23.875115                     0   \n",
      "43967     0       1       0         58  23.875115                     0   \n",
      "46507     0       0       0         51  23.875115                     0   \n",
      "51212     0       1       1         60  23.875115                     0   \n",
      "60722     0       0       0         51  23.875115                     0   \n",
      "64492     0       1       1         52  23.875115                     0   \n",
      "1536      0       1       0         60  22.038567                     0   \n",
      "47663     0       1       0         60  22.038567                     0   \n",
      "23736     0       0       0         56  24.538965                     0   \n",
      "58899     0       0       0         56  24.538965                     0   \n",
      "10501     0       1       0         52  24.167162                     0   \n",
      "37520     0       1       0         52  24.167162                     0   \n",
      "16744     0       1       0         58  23.051755                     0   \n",
      "44625     0       1       0         58  23.051755                     0   \n",
      "1577      0       1       0         55  26.672763                     0   \n",
      "55453     0       1       0         55  26.672763                     0   \n",
      "28244     0       1       0         49  23.437500                     0   \n",
      "37603     0       0       1         57  23.437500                     0   \n",
      "63403     0       1       0         49  23.437500                     0   \n",
      "66533     0       0       1         57  23.437500                     0   \n",
      "7981      0       1       0         59  22.656250                     0   \n",
      "63937     0       1       0         59  22.656250                     0   \n",
      "6161      0       1       0         39  25.636917                     0   \n",
      "39328     0       1       0         39  25.636917                     0   \n",
      "27565     0       1       0         46  27.181630                     0   \n",
      "58919     0       1       0         46  27.181630                     0   \n",
      "\n",
      "       bp_category_Hypertension Stage 1  bp_category_Hypertension Stage 2  \\\n",
      "10225                                 1                                 0   \n",
      "43508                                 1                                 0   \n",
      "1114                                  1                                 0   \n",
      "49133                                 1                                 0   \n",
      "31841                                 1                                 0   \n",
      "55194                                 1                                 0   \n",
      "2611                                  1                                 0   \n",
      "44565                                 1                                 0   \n",
      "22108                                 1                                 0   \n",
      "41361                                 1                                 0   \n",
      "16677                                 1                                 0   \n",
      "62521                                 1                                 0   \n",
      "53328                                 1                                 0   \n",
      "56460                                 1                                 0   \n",
      "2250                                  1                                 0   \n",
      "10290                                 1                                 0   \n",
      "1176                                  1                                 0   \n",
      "15924                                 1                                 0   \n",
      "21217                                 1                                 0   \n",
      "57229                                 1                                 0   \n",
      "19522                                 1                                 0   \n",
      "21303                                 1                                 0   \n",
      "39265                                 1                                 0   \n",
      "43967                                 1                                 0   \n",
      "46507                                 1                                 0   \n",
      "51212                                 1                                 0   \n",
      "60722                                 1                                 0   \n",
      "64492                                 1                                 0   \n",
      "1536                                  1                                 0   \n",
      "47663                                 1                                 0   \n",
      "23736                                 1                                 0   \n",
      "58899                                 1                                 0   \n",
      "10501                                 1                                 0   \n",
      "37520                                 1                                 0   \n",
      "16744                                 1                                 0   \n",
      "44625                                 1                                 0   \n",
      "1577                                  0                                 0   \n",
      "55453                                 0                                 0   \n",
      "28244                                 1                                 0   \n",
      "37603                                 1                                 0   \n",
      "63403                                 1                                 0   \n",
      "66533                                 1                                 0   \n",
      "7981                                  1                                 0   \n",
      "63937                                 1                                 0   \n",
      "6161                                  1                                 0   \n",
      "39328                                 1                                 0   \n",
      "27565                                 1                                 0   \n",
      "58919                                 1                                 0   \n",
      "\n",
      "       bp_category_Normal  \n",
      "10225                   0  \n",
      "43508                   0  \n",
      "1114                    0  \n",
      "49133                   0  \n",
      "31841                   0  \n",
      "55194                   0  \n",
      "2611                    0  \n",
      "44565                   0  \n",
      "22108                   0  \n",
      "41361                   0  \n",
      "16677                   0  \n",
      "62521                   0  \n",
      "53328                   0  \n",
      "56460                   0  \n",
      "2250                    0  \n",
      "10290                   0  \n",
      "1176                    0  \n",
      "15924                   0  \n",
      "21217                   0  \n",
      "57229                   0  \n",
      "19522                   0  \n",
      "21303                   0  \n",
      "39265                   0  \n",
      "43967                   0  \n",
      "46507                   0  \n",
      "51212                   0  \n",
      "60722                   0  \n",
      "64492                   0  \n",
      "1536                    0  \n",
      "47663                   0  \n",
      "23736                   0  \n",
      "58899                   0  \n",
      "10501                   0  \n",
      "37520                   0  \n",
      "16744                   0  \n",
      "44625                   0  \n",
      "1577                    1  \n",
      "55453                   1  \n",
      "28244                   0  \n",
      "37603                   0  \n",
      "63403                   0  \n",
      "66533                   0  \n",
      "7981                    0  \n",
      "63937                   0  \n",
      "6161                    0  \n",
      "39328                   0  \n",
      "27565                   0  \n",
      "58919                   0  \n",
      "________________________________________________________________\n",
      "Total data samples after removing duplicates: 68181 | Variables (Features + Label): 18\n"
     ]
    }
   ],
   "source": [
    "# Counting the number of duplicate data samples\n",
    "duplicate_datasamples_sum = df.duplicated().sum()\n",
    "\n",
    "# Check if there are duplicate data samples\n",
    "if duplicate_datasamples_sum:\n",
    "    print('Number of duplicate data samples in the Dataset : {}'.format(duplicate_datasamples_sum))\n",
    "    print('________________________________________________________________')\n",
    "\n",
    "    # Identify the duplicate data samples\n",
    "    duplicate = df[df.duplicated(keep=False)]\n",
    "    # Sort the duplicates based on specified columns\n",
    "    duplicate = duplicate.sort_values(by=['gender', 'height', 'weight'], ascending=False)\n",
    "    print(duplicate)\n",
    "\n",
    "    # Remove duplicates, keeping the first occurrence\n",
    "    df.drop_duplicates(keep='first', inplace=True)\n",
    "\n",
    "    # Display information about the DataFrame after removing duplicates\n",
    "    print('________________________________________________________________')\n",
    "    print('Total data samples after removing duplicates: {} | Variables (Features + Label): {}'.format(df.shape[0], df.shape[1]))\n",
    "\n",
    "else:\n",
    "    print('Dataset contains no duplicate data samples')\n",
    "    print('________________________________________________________________')\n",
    "\n",
    "    # Display information about the DataFrame\n",
    "    print('Total data samples: {} | Variables (Features + Label): {}'.format(df.shape[0], df.shape[1]))"
   ],
   "metadata": {
    "collapsed": false,
    "ExecuteTime": {
     "end_time": "2023-11-24T20:17:02.505930300Z",
     "start_time": "2023-11-24T20:17:02.351477300Z"
    }
   }
  },
  {
   "cell_type": "markdown",
   "source": [
    "**Statistical information of the numerical features**"
   ],
   "metadata": {
    "collapsed": false
   }
  },
  {
   "cell_type": "code",
   "execution_count": 237,
   "outputs": [
    {
     "name": "stdout",
     "output_type": "stream",
     "text": [
      "Numerical Values : ['age', 'height', 'weight', 'ap_hi', 'ap_lo', 'age_years', 'bmi']\n"
     ]
    },
    {
     "data": {
      "text/plain": "                age        height        weight         ap_hi         ap_lo  \\\ncount  68181.000000  68181.000000  68181.000000  68181.000000  68181.000000   \nmean   19462.752086    164.372787     74.103554    126.437336     81.264517   \nstd     2468.508598      8.177870     14.290349     15.963932      9.145463   \nmin    10798.000000     55.000000     11.000000     90.000000     60.000000   \n25%    17656.000000    159.000000     65.000000    120.000000     80.000000   \n50%    19700.000000    165.000000     72.000000    120.000000     80.000000   \n75%    21323.000000    170.000000     82.000000    140.000000     90.000000   \nmax    23713.000000    250.000000    200.000000    180.000000    120.000000   \n\n          age_years           bmi  \ncount  68181.000000  68181.000000  \nmean      52.823837     27.511623  \nstd        6.770249      6.027207  \nmin       29.000000      3.471784  \n25%       48.000000     23.875115  \n50%       53.000000     26.346494  \n75%       58.000000     30.116213  \nmax       64.000000    298.666667  ",
      "text/html": "<div>\n<style scoped>\n    .dataframe tbody tr th:only-of-type {\n        vertical-align: middle;\n    }\n\n    .dataframe tbody tr th {\n        vertical-align: top;\n    }\n\n    .dataframe thead th {\n        text-align: right;\n    }\n</style>\n<table border=\"1\" class=\"dataframe\">\n  <thead>\n    <tr style=\"text-align: right;\">\n      <th></th>\n      <th>age</th>\n      <th>height</th>\n      <th>weight</th>\n      <th>ap_hi</th>\n      <th>ap_lo</th>\n      <th>age_years</th>\n      <th>bmi</th>\n    </tr>\n  </thead>\n  <tbody>\n    <tr>\n      <th>count</th>\n      <td>68181.000000</td>\n      <td>68181.000000</td>\n      <td>68181.000000</td>\n      <td>68181.000000</td>\n      <td>68181.000000</td>\n      <td>68181.000000</td>\n      <td>68181.000000</td>\n    </tr>\n    <tr>\n      <th>mean</th>\n      <td>19462.752086</td>\n      <td>164.372787</td>\n      <td>74.103554</td>\n      <td>126.437336</td>\n      <td>81.264517</td>\n      <td>52.823837</td>\n      <td>27.511623</td>\n    </tr>\n    <tr>\n      <th>std</th>\n      <td>2468.508598</td>\n      <td>8.177870</td>\n      <td>14.290349</td>\n      <td>15.963932</td>\n      <td>9.145463</td>\n      <td>6.770249</td>\n      <td>6.027207</td>\n    </tr>\n    <tr>\n      <th>min</th>\n      <td>10798.000000</td>\n      <td>55.000000</td>\n      <td>11.000000</td>\n      <td>90.000000</td>\n      <td>60.000000</td>\n      <td>29.000000</td>\n      <td>3.471784</td>\n    </tr>\n    <tr>\n      <th>25%</th>\n      <td>17656.000000</td>\n      <td>159.000000</td>\n      <td>65.000000</td>\n      <td>120.000000</td>\n      <td>80.000000</td>\n      <td>48.000000</td>\n      <td>23.875115</td>\n    </tr>\n    <tr>\n      <th>50%</th>\n      <td>19700.000000</td>\n      <td>165.000000</td>\n      <td>72.000000</td>\n      <td>120.000000</td>\n      <td>80.000000</td>\n      <td>53.000000</td>\n      <td>26.346494</td>\n    </tr>\n    <tr>\n      <th>75%</th>\n      <td>21323.000000</td>\n      <td>170.000000</td>\n      <td>82.000000</td>\n      <td>140.000000</td>\n      <td>90.000000</td>\n      <td>58.000000</td>\n      <td>30.116213</td>\n    </tr>\n    <tr>\n      <th>max</th>\n      <td>23713.000000</td>\n      <td>250.000000</td>\n      <td>200.000000</td>\n      <td>180.000000</td>\n      <td>120.000000</td>\n      <td>64.000000</td>\n      <td>298.666667</td>\n    </tr>\n  </tbody>\n</table>\n</div>"
     },
     "execution_count": 237,
     "metadata": {},
     "output_type": "execute_result"
    }
   ],
   "source": [
    "# Identifying numerical features with more than 3 unique values\n",
    "Continuous_features = [feature for feature in df.columns if len(df[feature].unique()) > 3]\n",
    "print('Numerical Values : {}'.format(Continuous_features))\n",
    "\n",
    "# Display statistical information of the identified continuous features\n",
    "df[Continuous_features].describe()"
   ],
   "metadata": {
    "collapsed": false,
    "ExecuteTime": {
     "end_time": "2023-11-24T20:17:02.687311600Z",
     "start_time": "2023-11-24T20:17:02.505930300Z"
    }
   }
  },
  {
   "cell_type": "markdown",
   "source": [
    "**Identifying and dealing with outliers**"
   ],
   "metadata": {
    "collapsed": false
   }
  },
  {
   "cell_type": "code",
   "execution_count": 238,
   "outputs": [
    {
     "data": {
      "text/plain": "<Figure size 1500x500 with 2 Axes>",
      "image/png": "[encoded data removed]"
     },
     "metadata": {},
     "output_type": "display_data"
    }
   ],
   "source": [
    "# Create a new figure for the box plots\n",
    "fig, axs = plt.subplots(1, 2, figsize=(15, 5))\n",
    "\n",
    "# Box plots for features (except 'age') with outliers displayed (using IQR method)\n",
    "axs[0].boxplot([df['height'], df['weight'], df['ap_hi'], df['ap_lo'], df['age_years'], df['bmi']], labels=['Height', 'Weight', 'ap_hi', 'ap_lo', 'Age_years', 'BMI'], vert=False, flierprops=dict(markerfacecolor='red', marker='o'))\n",
    "\n",
    "# Box plot for the 'age' feature with outliers displayed (using IQR method)\n",
    "axs[1].boxplot(df['age'], labels=['Age'], vert=False, flierprops=dict(markerfacecolor='red', marker='o'))\n",
    "\n",
    "# Set titles for the subplots\n",
    "axs[0].set_title(\"Box Plot for numerical features (except 'age')\")\n",
    "axs[1].set_title(\"Box Plot for 'age'\")\n",
    "\n",
    "plt.show()"
   ],
   "metadata": {
    "collapsed": false,
    "ExecuteTime": {
     "end_time": "2023-11-24T20:17:03.084332200Z",
     "start_time": "2023-11-24T20:17:02.577928300Z"
    }
   }
  },
  {
   "cell_type": "code",
   "execution_count": 239,
   "outputs": [
    {
     "data": {
      "text/plain": "<Figure size 1500x500 with 7 Axes>",
      "image/png": "[encoded data removed]"
     },
     "metadata": {},
     "output_type": "display_data"
    }
   ],
   "source": [
    "# Distribution histograms of numerical features\n",
    "\n",
    "# Setting up a subplot with 1 row and 7 columns\n",
    "fig, axs = plt.subplots(1, 7, figsize=(15, 5), sharey=True)\n",
    "\n",
    "# Create histograms for each feature and add them to the subplot\n",
    "axs[0].hist(df['height'], bins=20, color='skyblue', edgecolor='black')\n",
    "axs[1].hist(df['weight'], bins=20, color='salmon', edgecolor='black')\n",
    "axs[2].hist(df['ap_lo'], bins=20, color='gold', edgecolor='black')\n",
    "axs[3].hist(df['ap_hi'], bins=20, color='lightgreen', edgecolor='black')\n",
    "axs[4].hist(df['bmi'], bins=20, color='lightcoral', edgecolor='black')\n",
    "axs[5].hist(df['age'], bins=20, color='darkblue', edgecolor='black')\n",
    "axs[6].hist(df['age_years'], bins=20, color='darkgreen', edgecolor='black')\n",
    "\n",
    "# Set titles for the subplots\n",
    "axs[0].set_title(\"Height\")\n",
    "axs[1].set_title(\"Weight\")\n",
    "axs[2].set_title(\"ap_lo\")\n",
    "axs[3].set_title(\"ap_hi\")\n",
    "axs[4].set_title(\"BMI\")\n",
    "axs[5].set_title(\"Age (Day)\")\n",
    "axs[6].set_title(\"Age (Year)\")\n",
    "\n",
    "# Set common y-axis label\n",
    "axs[0].set_ylabel(\"Total Count\")\n",
    "\n",
    "# Set common title for the entire figure\n",
    "plt.suptitle(\"Distribution Histograms\")\n",
    "\n",
    "plt.show()"
   ],
   "metadata": {
    "collapsed": false,
    "ExecuteTime": {
     "end_time": "2023-11-24T20:17:04.692370800Z",
     "start_time": "2023-11-24T20:17:03.084332200Z"
    }
   }
  },
  {
   "cell_type": "code",
   "execution_count": 240,
   "outputs": [
    {
     "name": "stdout",
     "output_type": "stream",
     "text": [
      "Feature: age_years | Number of Outliers: 4\n",
      "Feature: height | Number of Outliers: 502\n",
      "Feature: weight | Number of Outliers: 1711\n",
      "Feature: bmi | Number of Outliers: 1988\n",
      "Feature: ap_hi | Number of Outliers: 648\n",
      "Feature: ap_lo | Number of Outliers: 3188\n"
     ]
    }
   ],
   "source": [
    "# Function to identify outliers in numerical features using IQR method\n",
    "def num_outliers_IQR(df_out, drop=False):\n",
    "    # Loop through each feature in the DataFrame\n",
    "    for each_feature in df_out.columns:\n",
    "        feature_data = df_out[each_feature]\n",
    "\n",
    "        # Calculate the 25th and 75th percentiles (Q1 and Q3)\n",
    "        Q1 = np.percentile(feature_data, 25.)\n",
    "        Q3 = np.percentile(feature_data, 75.)\n",
    "\n",
    "        # Calculate the Interquartile Range (IQR)\n",
    "        IQR = Q3 - Q1\n",
    "\n",
    "        # Define the outlier step as 1.5 times the IQR\n",
    "        outlier_step = IQR * 1.5\n",
    "\n",
    "        # Identify the indices of outliers\n",
    "        outliers = feature_data[~((feature_data >= Q1 - outlier_step) & (feature_data <= Q3 + outlier_step))].index.tolist()\n",
    "\n",
    "        print('Feature: {} | Number of Outliers: {}'.format(each_feature, len(outliers)))\n",
    "\n",
    "# Identify outliers for the numerical features in the DataFrame\n",
    "num_outliers_IQR(df[['age_years', 'height', 'weight', 'bmi', 'ap_hi', 'ap_lo']])"
   ],
   "metadata": {
    "collapsed": false,
    "ExecuteTime": {
     "end_time": "2023-11-24T20:17:04.722700800Z",
     "start_time": "2023-11-24T20:17:04.692370800Z"
    }
   }
  },
  {
   "cell_type": "code",
   "execution_count": 241,
   "outputs": [
    {
     "name": "stdout",
     "output_type": "stream",
     "text": [
      "Number of outliers in numerical features after applying logarithm transformation:\n",
      "Feature: age_years | Number of Outliers: 4\n",
      "Feature: height | Number of Outliers: 472\n",
      "Feature: weight | Number of Outliers: 1108\n",
      "Feature: bmi | Number of Outliers: 1120\n",
      "________________________________________________________________\n",
      "Number of outliers in numerical features after applying StandardScaler transformation:\n",
      "Feature: age_years | Number of Outliers: 4\n",
      "Feature: height | Number of Outliers: 502\n",
      "Feature: weight | Number of Outliers: 1711\n",
      "Feature: bmi | Number of Outliers: 1988\n"
     ]
    }
   ],
   "source": [
    "# Transformations (log and std) are applied to reduce the impact of extreme values and improve the data distribution\n",
    "\n",
    "# Create a copy of the DataFrame to modify without affecting the original\n",
    "df_log = df.copy()\n",
    "df_std = df.copy()\n",
    "\n",
    "# Apply the logarithm transformation on the numerical features\n",
    "df_log[['age_years', 'height', 'weight', 'bmi']] = np.log(df_log[['age_years', 'height', 'weight', 'bmi']])\n",
    "\n",
    "# Apply the StandardScalar transformation on the numerical features\n",
    "scaler = StandardScaler()\n",
    "# scaler = RobustScaler()\n",
    "# scaler = MinMaxScaler()\n",
    "df_std[['age_years', 'height', 'weight', 'bmi']] = scaler.fit_transform(df_std[['age_years', 'height', 'weight', 'bmi']])\n",
    "\n",
    "# Identify outliers in the transformed numerical features\n",
    "print('Number of outliers in numerical features after applying logarithm transformation:')\n",
    "num_outliers_IQR(df_log[['age_years', 'height', 'weight', 'bmi']])\n",
    "print('________________________________________________________________')\n",
    "print('Number of outliers in numerical features after applying StandardScaler transformation:')\n",
    "num_outliers_IQR(df_std[['age_years', 'height', 'weight', 'bmi']])"
   ],
   "metadata": {
    "collapsed": false,
    "ExecuteTime": {
     "end_time": "2023-11-24T20:17:04.870997200Z",
     "start_time": "2023-11-24T20:17:04.722700800Z"
    }
   }
  },
  {
   "cell_type": "code",
   "execution_count": 242,
   "outputs": [
    {
     "name": "stdout",
     "output_type": "stream",
     "text": [
      "Feature: age_years | Number of Outliers: 0\n",
      "Feature: height | Number of Outliers: 0\n",
      "Feature: weight | Number of Outliers: 175\n",
      "Feature: bmi | Number of Outliers: 243\n",
      "________________________________________________________________\n",
      "Total data samples: 62214 | Variables (Features + Label): 18\n"
     ]
    }
   ],
   "source": [
    "# Removing outliers from the log transformed Dataframe\n",
    "df_log = df_log[(df_log['age_years'] > df_log['age_years'].quantile(0.005)) & (df_log['age_years'] < df_log['age_years'].quantile(0.995))]\n",
    "df_log = df_log[(df_log['weight'] > df_log['weight'].quantile(0.005)) & (df_log['weight'] < df_log['weight'].quantile(0.995))]\n",
    "df_log = df_log[(df_log['height'] > df_log['height'].quantile(0.005)) & (df_log['height'] < df_log['height'].quantile(0.995))]\n",
    "df_log = df_log[(df_log['bmi'] > df_log['bmi'].quantile(0.005)) & (df_log['bmi'] < df_log['bmi'].quantile(0.995))]\n",
    "# df_log = df_log[(df_log['ap_lo'] > df_log['ap_lo'].quantile(0.005)) & (df_log['ap_lo'] < df_log['ap_lo'].quantile(0.995))]\n",
    "# df_log = df_log[(df_log['ap_hi'] > df_log['ap_hi'].quantile(0.005)) & (df_log['ap_hi'] < df_log['ap_hi'].quantile(0.995))]\n",
    "num_outliers_IQR(df_log[['age_years', 'height', 'weight', 'bmi']])\n",
    "print('________________________________________________________________')\n",
    "print('Total data samples: {} | Variables (Features + Label): {}'.format(df_log.shape[0], df_log.shape[1]))"
   ],
   "metadata": {
    "collapsed": false,
    "ExecuteTime": {
     "end_time": "2023-11-24T20:17:04.870997200Z",
     "start_time": "2023-11-24T20:17:04.795534300Z"
    }
   }
  },
  {
   "cell_type": "code",
   "execution_count": 243,
   "outputs": [
    {
     "name": "stdout",
     "output_type": "stream",
     "text": [
      "Feature: age_years | Number of Outliers: 0\n",
      "Feature: height | Number of Outliers: 0\n",
      "Feature: weight | Number of Outliers: 927\n",
      "Feature: bmi | Number of Outliers: 1158\n",
      "________________________________________________________________\n",
      "Total data samples: 62214 | Variables (Features + Label): 18\n"
     ]
    }
   ],
   "source": [
    "# Dropping outliers from the log transformed Dataframe\n",
    "df_std = df_std[(df_std['age_years'] > df_std['age_years'].quantile(0.005)) & (df_std['age_years'] < df_std['age_years'].quantile(0.995))]\n",
    "df_std = df_std[(df_std['weight'] > df_std['weight'].quantile(0.005)) & (df_std['weight'] < df_std['weight'].quantile(0.995))]\n",
    "df_std = df_std[(df_std['height'] > df_std['height'].quantile(0.005)) & (df_std['height'] < df_std['height'].quantile(0.995))]\n",
    "df_std = df_std[(df_std['bmi'] > df_std['bmi'].quantile(0.005)) & (df_std['bmi'] < df_std['bmi'].quantile(0.995))]\n",
    "# df_std = df_std[(df_std['ap_lo'] > df_std['ap_lo'].quantile(0.005)) & (df_std['ap_lo'] < df_std['ap_lo'].quantile(0.995))]\n",
    "# df_std = df_std[(df_std['ap_hi'] > df_std['ap_hi'].quantile(0.005)) & (df_std['ap_hi'] < df_std['ap_hi'].quantile(0.995))]\n",
    "num_outliers_IQR(df_std[['age_years', 'height', 'weight', 'bmi']])\n",
    "print('________________________________________________________________')\n",
    "print('Total data samples: {} | Variables (Features + Label): {}'.format(df_std.shape[0], df_std.shape[1]))"
   ],
   "metadata": {
    "collapsed": false,
    "ExecuteTime": {
     "end_time": "2023-11-24T20:17:04.972961300Z",
     "start_time": "2023-11-24T20:17:04.855363400Z"
    }
   }
  },
  {
   "cell_type": "code",
   "execution_count": 244,
   "outputs": [
    {
     "name": "stdout",
     "output_type": "stream",
     "text": [
      "Number of data samples in which ap_hi is less than ap_lo (Error): 3 \n",
      "Total data samples after removing the cases that ap_hi is less than ap_lo : 62211 | Variables (Features + Label): 18\n",
      "Total outliers related to the ap_lo and ap_hi values: 0\n",
      "Total data samples after defining the reasonable value range for ap_hi nd ap_lo the : 62211 | Variables (Features + Label): 18\n"
     ]
    }
   ],
   "source": [
    "# Using log transformation, we lose fewer data samples, so we will continue with log transformed Dataframe\n",
    "\n",
    "# (Systolic blood pressure - Diastolic blood pressure) = Pulse Pressure => can't be negative, therefore we must have ap_hi > ap_lo\n",
    "print('Number of data samples in which ap_hi is less than ap_lo (Error): {} '.format(len(df_log[df_log['ap_hi'] < df_log['ap_lo']])))\n",
    "df_log = df_log[df_log['ap_hi'] >= df_log['ap_lo']].reset_index(drop=True)\n",
    "print('Total data samples after removing the cases that ap_hi is less than ap_lo : {} | Variables (Features + Label): {}'.format(df_log.shape[0], df_log.shape[1]))\n",
    "\n",
    "# https://www.nia.nih.gov/health/high-blood-pressure/high-blood-pressure-and-older-adults#:~:text=Normal%20blood%20pressure%20for%20most,pressure%20of%20less%20than%2080.\n",
    "print('Total outliers related to the ap_lo and ap_hi values: {}'.format(len(df_log[(df_log[\"ap_hi\"]>200) | (df_log[\"ap_lo\"]>140) | (df_log[\"ap_hi\"]<80) | (df_log[\"ap_lo\"]<50)])))\n",
    "df_log = df_log[(df_log[\"ap_hi\"]<=200) & (df_log[\"ap_lo\"]<=140)]\n",
    "df_log = df_log[(df_log[\"ap_hi\"]>=80) & (df_log[\"ap_lo\"]>=50)]\n",
    "print('Total data samples after defining the reasonable value range for ap_hi nd ap_lo the : {} | Variables (Features + Label): {}'.format(df_log.shape[0], df_log.shape[1]))"
   ],
   "metadata": {
    "collapsed": false,
    "ExecuteTime": {
     "end_time": "2023-11-24T20:17:04.972961300Z",
     "start_time": "2023-11-24T20:17:04.915959400Z"
    }
   }
  },
  {
   "cell_type": "code",
   "execution_count": 245,
   "outputs": [
    {
     "data": {
      "text/plain": "     age  gender    height    weight  ap_hi  ap_lo  cholesterol  gluc  smoke  \\\n0  18393       2  5.123964  4.127134    110     80            1     1      0   \n1  20228       1  5.049856  4.442651    140     90            3     1      0   \n2  18857       1  5.105945  4.158883    130     70            3     1      0   \n3  17623       2  5.129899  4.406719    150    100            1     1      0   \n4  17474       1  5.049856  4.025352    100     60            1     1      0   \n\n   alco  active  cardio  age_years       bmi  bp_category_Elevated  \\\n0     0       1       0   3.912023  3.089547                     0   \n1     0       1       1   4.007333  3.553280                     0   \n2     0       0       1   3.931826  3.157333                     0   \n3     0       1       1   3.871201  3.357262                     0   \n4     0       0       0   3.850148  3.135980                     0   \n\n   bp_category_Hypertension Stage 1  bp_category_Hypertension Stage 2  \\\n0                                 1                                 0   \n1                                 0                                 1   \n2                                 1                                 0   \n3                                 0                                 1   \n4                                 0                                 0   \n\n   bp_category_Normal  \n0                   0  \n1                   0  \n2                   0  \n3                   0  \n4                   1  ",
      "text/html": "<div>\n<style scoped>\n    .dataframe tbody tr th:only-of-type {\n        vertical-align: middle;\n    }\n\n    .dataframe tbody tr th {\n        vertical-align: top;\n    }\n\n    .dataframe thead th {\n        text-align: right;\n    }\n</style>\n<table border=\"1\" class=\"dataframe\">\n  <thead>\n    <tr style=\"text-align: right;\">\n      <th></th>\n      <th>age</th>\n      <th>gender</th>\n      <th>height</th>\n      <th>weight</th>\n      <th>ap_hi</th>\n      <th>ap_lo</th>\n      <th>cholesterol</th>\n      <th>gluc</th>\n      <th>smoke</th>\n      <th>alco</th>\n      <th>active</th>\n      <th>cardio</th>\n      <th>age_years</th>\n      <th>bmi</th>\n      <th>bp_category_Elevated</th>\n      <th>bp_category_Hypertension Stage 1</th>\n      <th>bp_category_Hypertension Stage 2</th>\n      <th>bp_category_Normal</th>\n    </tr>\n  </thead>\n  <tbody>\n    <tr>\n      <th>0</th>\n      <td>18393</td>\n      <td>2</td>\n      <td>5.123964</td>\n      <td>4.127134</td>\n      <td>110</td>\n      <td>80</td>\n      <td>1</td>\n      <td>1</td>\n      <td>0</td>\n      <td>0</td>\n      <td>1</td>\n      <td>0</td>\n      <td>3.912023</td>\n      <td>3.089547</td>\n      <td>0</td>\n      <td>1</td>\n      <td>0</td>\n      <td>0</td>\n    </tr>\n    <tr>\n      <th>1</th>\n      <td>20228</td>\n      <td>1</td>\n      <td>5.049856</td>\n      <td>4.442651</td>\n      <td>140</td>\n      <td>90</td>\n      <td>3</td>\n      <td>1</td>\n      <td>0</td>\n      <td>0</td>\n      <td>1</td>\n      <td>1</td>\n      <td>4.007333</td>\n      <td>3.553280</td>\n      <td>0</td>\n      <td>0</td>\n      <td>1</td>\n      <td>0</td>\n    </tr>\n    <tr>\n      <th>2</th>\n      <td>18857</td>\n      <td>1</td>\n      <td>5.105945</td>\n      <td>4.158883</td>\n      <td>130</td>\n      <td>70</td>\n      <td>3</td>\n      <td>1</td>\n      <td>0</td>\n      <td>0</td>\n      <td>0</td>\n      <td>1</td>\n      <td>3.931826</td>\n      <td>3.157333</td>\n      <td>0</td>\n      <td>1</td>\n      <td>0</td>\n      <td>0</td>\n    </tr>\n    <tr>\n      <th>3</th>\n      <td>17623</td>\n      <td>2</td>\n      <td>5.129899</td>\n      <td>4.406719</td>\n      <td>150</td>\n      <td>100</td>\n      <td>1</td>\n      <td>1</td>\n      <td>0</td>\n      <td>0</td>\n      <td>1</td>\n      <td>1</td>\n      <td>3.871201</td>\n      <td>3.357262</td>\n      <td>0</td>\n      <td>0</td>\n      <td>1</td>\n      <td>0</td>\n    </tr>\n    <tr>\n      <th>4</th>\n      <td>17474</td>\n      <td>1</td>\n      <td>5.049856</td>\n      <td>4.025352</td>\n      <td>100</td>\n      <td>60</td>\n      <td>1</td>\n      <td>1</td>\n      <td>0</td>\n      <td>0</td>\n      <td>0</td>\n      <td>0</td>\n      <td>3.850148</td>\n      <td>3.135980</td>\n      <td>0</td>\n      <td>0</td>\n      <td>0</td>\n      <td>1</td>\n    </tr>\n  </tbody>\n</table>\n</div>"
     },
     "execution_count": 245,
     "metadata": {},
     "output_type": "execute_result"
    }
   ],
   "source": [
    "df_log.head()"
   ],
   "metadata": {
    "collapsed": false,
    "ExecuteTime": {
     "end_time": "2023-11-24T20:17:04.972961300Z",
     "start_time": "2023-11-24T20:17:04.951290900Z"
    }
   }
  },
  {
   "cell_type": "code",
   "execution_count": 246,
   "outputs": [
    {
     "name": "stdout",
     "output_type": "stream",
     "text": [
      "Final data samples: 62211 | Number of features: 18\n"
     ]
    }
   ],
   "source": [
    "print('Final data samples: {} | Number of features: {}'.format(df_log.shape[0], df.shape[1]))"
   ],
   "metadata": {
    "collapsed": false,
    "ExecuteTime": {
     "end_time": "2023-11-24T20:17:04.976998400Z",
     "start_time": "2023-11-24T20:17:04.965655800Z"
    }
   }
  },
  {
   "cell_type": "markdown",
   "source": [
    "| Preprocessing                                                 | Remaining Data samples | Lost data samples |\n",
    "|---------------------------------------------------------------|:----------------------:|------------------:|\n",
    "| Removing missing records                                      |         68205          |                 0 |\n",
    "| Removing duplicates records                                   |         68181          |                24 |\n",
    "| Removing Outliers                                             |         62237          |              5968 |\n",
    "| Removing Unacceptable Values (in samples where ap_hi < ap_lo) |         62234          |                 3 |\n",
    "| Removing out of range values (in ap_hi and ap_lo)             |         62234          |                 0 |"
   ],
   "metadata": {
    "collapsed": false
   }
  },
  {
   "cell_type": "code",
   "execution_count": 246,
   "outputs": [],
   "source": [],
   "metadata": {
    "collapsed": false,
    "ExecuteTime": {
     "end_time": "2023-11-24T20:17:04.997222700Z",
     "start_time": "2023-11-24T20:17:04.977507100Z"
    }
   }
  },
  {
   "cell_type": "code",
   "execution_count": 246,
   "outputs": [],
   "source": [],
   "metadata": {
    "collapsed": false,
    "ExecuteTime": {
     "end_time": "2023-11-24T20:17:04.997222700Z",
     "start_time": "2023-11-24T20:17:04.981784600Z"
    }
   }
  },
  {
   "cell_type": "code",
   "execution_count": 246,
   "outputs": [],
   "source": [],
   "metadata": {
    "collapsed": false,
    "ExecuteTime": {
     "end_time": "2023-11-24T20:17:04.997222700Z",
     "start_time": "2023-11-24T20:17:04.986524600Z"
    }
   }
  },
  {
   "cell_type": "code",
   "execution_count": 246,
   "outputs": [],
   "source": [],
   "metadata": {
    "collapsed": false,
    "ExecuteTime": {
     "end_time": "2023-11-24T20:17:04.997222700Z",
     "start_time": "2023-11-24T20:17:04.987032100Z"
    }
   }
  },
  {
   "cell_type": "code",
   "execution_count": 246,
   "outputs": [],
   "source": [],
   "metadata": {
    "collapsed": false,
    "ExecuteTime": {
     "end_time": "2023-11-24T20:17:05.071003200Z",
     "start_time": "2023-11-24T20:17:04.991899800Z"
    }
   }
  },
  {
   "cell_type": "code",
   "execution_count": 246,
   "outputs": [],
   "source": [],
   "metadata": {
    "collapsed": false,
    "ExecuteTime": {
     "end_time": "2023-11-24T20:17:05.087142700Z",
     "start_time": "2023-11-24T20:17:04.997222700Z"
    }
   }
  },
  {
   "cell_type": "code",
   "execution_count": 247,
   "outputs": [],
   "source": [
    "# data-label separation\n",
    "labels = df['cardio'].to_numpy()\n",
    "df = df.drop(columns=['cardio'])\n",
    "# convert to numpy\n",
    "data = df.to_numpy()\n",
    "# train-test split\n",
    "trainx, testx, trainy, testy = train_test_split(data, labels, test_size=0.15, random_state=42)"
   ],
   "metadata": {
    "collapsed": false,
    "ExecuteTime": {
     "end_time": "2023-11-24T20:17:05.134018800Z",
     "start_time": "2023-11-24T20:17:05.003584600Z"
    }
   }
  },
  {
   "cell_type": "code",
   "execution_count": 248,
   "outputs": [],
   "source": [
    "# normalization\n",
    "scaler = StandardScaler()\n",
    "# Fit the scaler on the training data and transform both the training and test data\n",
    "trainx = scaler.fit_transform(trainx)\n",
    "testx = scaler.transform(testx)"
   ],
   "metadata": {
    "collapsed": false,
    "ExecuteTime": {
     "end_time": "2023-11-24T20:17:05.165268100Z",
     "start_time": "2023-11-24T20:17:05.039665800Z"
    }
   }
  },
  {
   "cell_type": "code",
   "execution_count": 249,
   "outputs": [
    {
     "name": "stdout",
     "output_type": "stream",
     "text": [
      "Accuracy: 0.7319123973406335\n",
      "Classification Report:\n",
      "               precision    recall  f1-score   support\n",
      "\n",
      "           0       0.70      0.80      0.75      5105\n",
      "           1       0.77      0.66      0.71      5123\n",
      "\n",
      "    accuracy                           0.73     10228\n",
      "   macro avg       0.74      0.73      0.73     10228\n",
      "weighted avg       0.74      0.73      0.73     10228\n",
      "\n"
     ]
    }
   ],
   "source": [
    "from sklearn.linear_model import LogisticRegression\n",
    "from sklearn.metrics import accuracy_score, classification_report\n",
    "from sklearn.tree import DecisionTreeClassifier\n",
    "model = LogisticRegression()\n",
    "\n",
    "# Train the model on the training set\n",
    "model.fit(trainx, trainy)\n",
    "\n",
    "# Make predictions on the test set\n",
    "testy_pred = model.predict(testx)\n",
    "\n",
    "# Evaluate the model\n",
    "accuracy = accuracy_score(testy, testy_pred)\n",
    "report = classification_report(testy, testy_pred)\n",
    "\n",
    "# Print the results\n",
    "print(\"Accuracy:\", accuracy)\n",
    "print(\"Classification Report:\\n\", report)"
   ],
   "metadata": {
    "collapsed": false,
    "ExecuteTime": {
     "end_time": "2023-11-24T20:17:05.236773400Z",
     "start_time": "2023-11-24T20:17:05.071510800Z"
    }
   }
  },
  {
   "cell_type": "code",
   "execution_count": 249,
   "outputs": [],
   "source": [],
   "metadata": {
    "collapsed": false,
    "ExecuteTime": {
     "end_time": "2023-11-24T20:17:05.236773400Z",
     "start_time": "2023-11-24T20:17:05.231017600Z"
    }
   }
  }
 ],
 "metadata": {
  "kernelspec": {
   "display_name": "Python 3 (ipykernel)",
   "language": "python",
   "name": "python3"
  },
  "language_info": {
   "codemirror_mode": {
    "name": "ipython",
    "version": 3
   },
   "file_extension": ".py",
   "mimetype": "text/x-python",
   "name": "python",
   "nbconvert_exporter": "python",
   "pygments_lexer": "ipython3",
   "version": "3.11.4"
  }
 },
 "nbformat": 4,
 "nbformat_minor": 5
}
