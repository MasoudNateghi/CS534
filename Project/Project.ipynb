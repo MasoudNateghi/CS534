{
 "cells": [
  {
   "cell_type": "code",
   "execution_count": 1,
   "id": "0c05a544",
   "metadata": {
    "ExecuteTime": {
     "end_time": "2023-11-23T20:37:32.217634800Z",
     "start_time": "2023-11-23T20:37:30.443240600Z"
    }
   },
   "outputs": [],
   "source": [
    "import pandas as pd\n",
    "import numpy as np\n",
    "from sklearn.model_selection import train_test_split\n",
    "from sklearn.preprocessing import StandardScaler"
   ]
  },
  {
   "cell_type": "code",
   "execution_count": 2,
   "id": "ab42f04a",
   "metadata": {
    "ExecuteTime": {
     "end_time": "2023-11-23T20:37:36.282234800Z",
     "start_time": "2023-11-23T20:37:36.115626200Z"
    }
   },
   "outputs": [],
   "source": [
    "# read data\n",
    "df = pd.read_csv('Data/cardio_data_processed.csv')\n",
    "# remove excessive columns\n",
    "df = df.drop(columns=['id', 'bp_category_encoded'])"
   ]
  },
  {
   "cell_type": "code",
   "execution_count": 3,
   "id": "2230ac1a",
   "metadata": {
    "scrolled": false,
    "ExecuteTime": {
     "end_time": "2023-11-23T20:37:36.997423200Z",
     "start_time": "2023-11-23T20:37:36.977125200Z"
    }
   },
   "outputs": [],
   "source": [
    "# basic pre-processing\n",
    "df = df[(df['bmi'] >= 15) & (df['bmi'] <= 70) & (df['height'] >= 150) & (df['height'] <= 220) & (df['weight'] > 50)]"
   ]
  },
  {
   "cell_type": "code",
   "execution_count": 4,
   "id": "d0e8d894",
   "metadata": {
    "ExecuteTime": {
     "end_time": "2023-11-23T20:37:37.843966Z",
     "start_time": "2023-11-23T20:37:37.801880300Z"
    }
   },
   "outputs": [
    {
     "data": {
      "text/plain": "         age  gender  height  weight  ap_hi  ap_lo  cholesterol  gluc  smoke  \\\n0      18393       2     168    62.0    110     80            1     1      0   \n1      20228       1     156    85.0    140     90            3     1      0   \n2      18857       1     165    64.0    130     70            3     1      0   \n3      17623       2     169    82.0    150    100            1     1      0   \n4      17474       1     156    56.0    100     60            1     1      0   \n...      ...     ...     ...     ...    ...    ...          ...   ...    ...   \n68200  19240       2     168    76.0    120     80            1     1      1   \n68201  22601       1     158   126.0    140     90            2     2      0   \n68202  19066       2     183   105.0    180     90            3     1      0   \n68203  22431       1     163    72.0    135     80            1     2      0   \n68204  20540       1     170    72.0    120     80            2     1      0   \n\n       alco  active  age_years        bmi  bp_category_Elevated  \\\n0         0       1         50  21.967120                     0   \n1         0       1         55  34.927679                     0   \n2         0       0         51  23.507805                     0   \n3         0       1         48  28.710479                     0   \n4         0       0         47  23.011177                     0   \n...     ...     ...        ...        ...                   ...   \n68200     0       1         52  26.927438                     0   \n68201     0       1         61  50.472681                     0   \n68202     1       0         52  31.353579                     0   \n68203     0       0         61  27.099251                     0   \n68204     0       1         56  24.913495                     0   \n\n       bp_category_Hypertension Stage 1  bp_category_Hypertension Stage 2  \\\n0                                     1                                 0   \n1                                     0                                 1   \n2                                     1                                 0   \n3                                     0                                 1   \n4                                     0                                 0   \n...                                 ...                               ...   \n68200                                 1                                 0   \n68201                                 0                                 1   \n68202                                 0                                 1   \n68203                                 1                                 0   \n68204                                 1                                 0   \n\n       bp_category_Normal  \n0                       0  \n1                       0  \n2                       0  \n3                       0  \n4                       1  \n...                   ...  \n68200                   0  \n68201                   0  \n68202                   0  \n68203                   0  \n68204                   0  \n\n[65509 rows x 17 columns]",
      "text/html": "<div>\n<style scoped>\n    .dataframe tbody tr th:only-of-type {\n        vertical-align: middle;\n    }\n\n    .dataframe tbody tr th {\n        vertical-align: top;\n    }\n\n    .dataframe thead th {\n        text-align: right;\n    }\n</style>\n<table border=\"1\" class=\"dataframe\">\n  <thead>\n    <tr style=\"text-align: right;\">\n      <th></th>\n      <th>age</th>\n      <th>gender</th>\n      <th>height</th>\n      <th>weight</th>\n      <th>ap_hi</th>\n      <th>ap_lo</th>\n      <th>cholesterol</th>\n      <th>gluc</th>\n      <th>smoke</th>\n      <th>alco</th>\n      <th>active</th>\n      <th>age_years</th>\n      <th>bmi</th>\n      <th>bp_category_Elevated</th>\n      <th>bp_category_Hypertension Stage 1</th>\n      <th>bp_category_Hypertension Stage 2</th>\n      <th>bp_category_Normal</th>\n    </tr>\n  </thead>\n  <tbody>\n    <tr>\n      <th>0</th>\n      <td>18393</td>\n      <td>2</td>\n      <td>168</td>\n      <td>62.0</td>\n      <td>110</td>\n      <td>80</td>\n      <td>1</td>\n      <td>1</td>\n      <td>0</td>\n      <td>0</td>\n      <td>1</td>\n      <td>50</td>\n      <td>21.967120</td>\n      <td>0</td>\n      <td>1</td>\n      <td>0</td>\n      <td>0</td>\n    </tr>\n    <tr>\n      <th>1</th>\n      <td>20228</td>\n      <td>1</td>\n      <td>156</td>\n      <td>85.0</td>\n      <td>140</td>\n      <td>90</td>\n      <td>3</td>\n      <td>1</td>\n      <td>0</td>\n      <td>0</td>\n      <td>1</td>\n      <td>55</td>\n      <td>34.927679</td>\n      <td>0</td>\n      <td>0</td>\n      <td>1</td>\n      <td>0</td>\n    </tr>\n    <tr>\n      <th>2</th>\n      <td>18857</td>\n      <td>1</td>\n      <td>165</td>\n      <td>64.0</td>\n      <td>130</td>\n      <td>70</td>\n      <td>3</td>\n      <td>1</td>\n      <td>0</td>\n      <td>0</td>\n      <td>0</td>\n      <td>51</td>\n      <td>23.507805</td>\n      <td>0</td>\n      <td>1</td>\n      <td>0</td>\n      <td>0</td>\n    </tr>\n    <tr>\n      <th>3</th>\n      <td>17623</td>\n      <td>2</td>\n      <td>169</td>\n      <td>82.0</td>\n      <td>150</td>\n      <td>100</td>\n      <td>1</td>\n      <td>1</td>\n      <td>0</td>\n      <td>0</td>\n      <td>1</td>\n      <td>48</td>\n      <td>28.710479</td>\n      <td>0</td>\n      <td>0</td>\n      <td>1</td>\n      <td>0</td>\n    </tr>\n    <tr>\n      <th>4</th>\n      <td>17474</td>\n      <td>1</td>\n      <td>156</td>\n      <td>56.0</td>\n      <td>100</td>\n      <td>60</td>\n      <td>1</td>\n      <td>1</td>\n      <td>0</td>\n      <td>0</td>\n      <td>0</td>\n      <td>47</td>\n      <td>23.011177</td>\n      <td>0</td>\n      <td>0</td>\n      <td>0</td>\n      <td>1</td>\n    </tr>\n    <tr>\n      <th>...</th>\n      <td>...</td>\n      <td>...</td>\n      <td>...</td>\n      <td>...</td>\n      <td>...</td>\n      <td>...</td>\n      <td>...</td>\n      <td>...</td>\n      <td>...</td>\n      <td>...</td>\n      <td>...</td>\n      <td>...</td>\n      <td>...</td>\n      <td>...</td>\n      <td>...</td>\n      <td>...</td>\n      <td>...</td>\n    </tr>\n    <tr>\n      <th>68200</th>\n      <td>19240</td>\n      <td>2</td>\n      <td>168</td>\n      <td>76.0</td>\n      <td>120</td>\n      <td>80</td>\n      <td>1</td>\n      <td>1</td>\n      <td>1</td>\n      <td>0</td>\n      <td>1</td>\n      <td>52</td>\n      <td>26.927438</td>\n      <td>0</td>\n      <td>1</td>\n      <td>0</td>\n      <td>0</td>\n    </tr>\n    <tr>\n      <th>68201</th>\n      <td>22601</td>\n      <td>1</td>\n      <td>158</td>\n      <td>126.0</td>\n      <td>140</td>\n      <td>90</td>\n      <td>2</td>\n      <td>2</td>\n      <td>0</td>\n      <td>0</td>\n      <td>1</td>\n      <td>61</td>\n      <td>50.472681</td>\n      <td>0</td>\n      <td>0</td>\n      <td>1</td>\n      <td>0</td>\n    </tr>\n    <tr>\n      <th>68202</th>\n      <td>19066</td>\n      <td>2</td>\n      <td>183</td>\n      <td>105.0</td>\n      <td>180</td>\n      <td>90</td>\n      <td>3</td>\n      <td>1</td>\n      <td>0</td>\n      <td>1</td>\n      <td>0</td>\n      <td>52</td>\n      <td>31.353579</td>\n      <td>0</td>\n      <td>0</td>\n      <td>1</td>\n      <td>0</td>\n    </tr>\n    <tr>\n      <th>68203</th>\n      <td>22431</td>\n      <td>1</td>\n      <td>163</td>\n      <td>72.0</td>\n      <td>135</td>\n      <td>80</td>\n      <td>1</td>\n      <td>2</td>\n      <td>0</td>\n      <td>0</td>\n      <td>0</td>\n      <td>61</td>\n      <td>27.099251</td>\n      <td>0</td>\n      <td>1</td>\n      <td>0</td>\n      <td>0</td>\n    </tr>\n    <tr>\n      <th>68204</th>\n      <td>20540</td>\n      <td>1</td>\n      <td>170</td>\n      <td>72.0</td>\n      <td>120</td>\n      <td>80</td>\n      <td>2</td>\n      <td>1</td>\n      <td>0</td>\n      <td>0</td>\n      <td>1</td>\n      <td>56</td>\n      <td>24.913495</td>\n      <td>0</td>\n      <td>1</td>\n      <td>0</td>\n      <td>0</td>\n    </tr>\n  </tbody>\n</table>\n<p>65509 rows × 17 columns</p>\n</div>"
     },
     "execution_count": 4,
     "metadata": {},
     "output_type": "execute_result"
    }
   ],
   "source": [
    "# one-hot encoding for categorical features\n",
    "df = pd.get_dummies(df, columns=['bp_category'], prefix='bp_category')\n",
    "# data-label separation\n",
    "labels = df['cardio'].to_numpy()\n",
    "df = df.drop(columns=['cardio'])\n",
    "df"
   ]
  },
  {
   "cell_type": "code",
   "execution_count": 5,
   "id": "e1e6f2ff",
   "metadata": {
    "ExecuteTime": {
     "end_time": "2023-11-23T20:37:39.355437500Z",
     "start_time": "2023-11-23T20:37:39.316555Z"
    }
   },
   "outputs": [],
   "source": [
    "# convert to numpy\n",
    "data = df.to_numpy()\n",
    "# train-test split\n",
    "trainx, testx, trainy, testy = train_test_split(data, labels, test_size=0.15, random_state=42)"
   ]
  },
  {
   "cell_type": "code",
   "execution_count": 6,
   "id": "52d9912d",
   "metadata": {
    "ExecuteTime": {
     "end_time": "2023-11-23T20:37:40.098923400Z",
     "start_time": "2023-11-23T20:37:40.061132700Z"
    }
   },
   "outputs": [],
   "source": [
    "# normalization\n",
    "scaler = StandardScaler()\n",
    "# Fit the scaler on the training data and transform both the training and test data\n",
    "trainx = scaler.fit_transform(trainx)\n",
    "testx = scaler.transform(testx)"
   ]
  },
  {
   "cell_type": "code",
   "execution_count": 7,
   "id": "4f63f9f0",
   "metadata": {
    "ExecuteTime": {
     "end_time": "2023-11-23T20:37:40.983757500Z",
     "start_time": "2023-11-23T20:37:40.688981900Z"
    }
   },
   "outputs": [
    {
     "name": "stdout",
     "output_type": "stream",
     "text": [
      "Accuracy: 0.7246362063702045\n",
      "Classification Report:\n",
      "               precision    recall  f1-score   support\n",
      "\n",
      "           0       0.70      0.80      0.74      4957\n",
      "           1       0.76      0.65      0.70      4870\n",
      "\n",
      "    accuracy                           0.72      9827\n",
      "   macro avg       0.73      0.72      0.72      9827\n",
      "weighted avg       0.73      0.72      0.72      9827\n",
      "\n"
     ]
    }
   ],
   "source": [
    "from sklearn.linear_model import LogisticRegression\n",
    "from sklearn.metrics import accuracy_score, classification_report\n",
    "from sklearn.tree import DecisionTreeClassifier\n",
    "model = LogisticRegression()\n",
    "\n",
    "# Train the model on the training set\n",
    "model.fit(trainx, trainy)\n",
    "\n",
    "# Make predictions on the test set\n",
    "testy_pred = model.predict(testx)\n",
    "\n",
    "# Evaluate the model\n",
    "accuracy = accuracy_score(testy, testy_pred)\n",
    "report = classification_report(testy, testy_pred)\n",
    "\n",
    "# Print the results\n",
    "print(\"Accuracy:\", accuracy)\n",
    "print(\"Classification Report:\\n\", report)"
   ]
  },
  {
   "cell_type": "code",
   "execution_count": null,
   "id": "7981d08e",
   "metadata": {},
   "outputs": [],
   "source": []
  }
 ],
 "metadata": {
  "kernelspec": {
   "display_name": "Python 3 (ipykernel)",
   "language": "python",
   "name": "python3"
  },
  "language_info": {
   "codemirror_mode": {
    "name": "ipython",
    "version": 3
   },
   "file_extension": ".py",
   "mimetype": "text/x-python",
   "name": "python",
   "nbconvert_exporter": "python",
   "pygments_lexer": "ipython3",
   "version": "3.11.4"
  }
 },
 "nbformat": 4,
 "nbformat_minor": 5
}
