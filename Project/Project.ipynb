{
 "cells": [
  {
   "cell_type": "markdown",
   "source": [
    "# Cardiovascular Disease Dataset Description"
   ],
   "metadata": {
    "collapsed": false
   }
  },
  {
   "cell_type": "code",
   "execution_count": 94,
   "outputs": [
    {
     "data": {
      "text/plain": "'\\n\\nhttps://www.kaggle.com/datasets/colewelkins/cardiovascular-disease/data\\n\\nThe primary aim is to predict the presence or absence of cardiovascular disease based on various patient metrics\\n\\n# Variables\\nID                       | Unique identifier for each patient.\\nage                      | Age of the patient in days.\\nage_years                | Age of the patient in years (derived from age).\\ngender                   | Gender of the patient. Categorical variable (1: Female, 2: Male).\\nheight                   | Height of the patient in centimeters.\\nweight                   | Weight of the patient in kilograms.\\nap_hi                    | Systolic blood pressure.\\nap_lo                    | Diastolic blood pressure.\\ncholesterol              | Cholesterol levels. Categorical variable (1: Normal, 2: Above Normal, 3: Well Above Normal).\\ngluc                     | Glucose levels. Categorical variable (1: Normal, 2: Above Normal, 3: Well Above Normal).\\nsmoke                    | Smoking status. Binary variable (0: Non-smoker, 1: Smoker).\\nalco                     | Alcohol intake. Binary variable (0: Does not consume alcohol, 1: Consumes alcohol).\\nactive                   | Physical activity. Binary variable (0: Not physically active, 1: Physically active).\\ncardio                   | Presence or absence of cardiovascular disease. Target variable. Binary (0: Absence, 1: Presence).\\nbmi                      | Body Mass Index, derived from weight and height. Calculated as ( \\text{BMI} = \\x0crac{\\text{weight (kg)}}{\\text{height (m)}^2} ).\\nbp_category              | Blood pressure category based on ap_hi and ap_lo. Categories include \"Normal\", \"Elevated\", \"Hypertension Stage 1\", \"Hypertension Stage 2\", and \"Hypertensive Crisis\".\\nbp_category_encoded      | Encoded form of bp_category for machine learning purposes.\\n\\n'"
     },
     "execution_count": 94,
     "metadata": {},
     "output_type": "execute_result"
    }
   ],
   "source": [
    "\"\"\"\n",
    "\n",
    "https://www.kaggle.com/datasets/colewelkins/cardiovascular-disease/data\n",
    "\n",
    "The primary aim is to predict the presence or absence of cardiovascular disease based on various patient metrics\n",
    "\n",
    "# Variables\n",
    "ID                       | Unique identifier for each patient.\n",
    "age                      | Age of the patient in days.\n",
    "age_years                | Age of the patient in years (derived from age).\n",
    "gender                   | Gender of the patient. Categorical variable (1: Female, 2: Male).\n",
    "height                   | Height of the patient in centimeters.\n",
    "weight                   | Weight of the patient in kilograms.\n",
    "ap_hi                    | Systolic blood pressure.\n",
    "ap_lo                    | Diastolic blood pressure.\n",
    "cholesterol              | Cholesterol levels. Categorical variable (1: Normal, 2: Above Normal, 3: Well Above Normal).\n",
    "gluc                     | Glucose levels. Categorical variable (1: Normal, 2: Above Normal, 3: Well Above Normal).\n",
    "smoke                    | Smoking status. Binary variable (0: Non-smoker, 1: Smoker).\n",
    "alco                     | Alcohol intake. Binary variable (0: Does not consume alcohol, 1: Consumes alcohol).\n",
    "active                   | Physical activity. Binary variable (0: Not physically active, 1: Physically active).\n",
    "cardio                   | Presence or absence of cardiovascular disease. Target variable. Binary (0: Absence, 1: Presence).\n",
    "bmi                      | Body Mass Index, derived from weight and height. Calculated as ( \\text{BMI} = \\frac{\\text{weight (kg)}}{\\text{height (m)}^2} ).\n",
    "bp_category              | Blood pressure category based on ap_hi and ap_lo. Categories include \"Normal\", \"Elevated\", \"Hypertension Stage 1\", \"Hypertension Stage 2\", and \"Hypertensive Crisis\".\n",
    "bp_category_encoded      | Encoded form of bp_category for machine learning purposes.\n",
    "\n",
    "\"\"\""
   ],
   "metadata": {
    "collapsed": false,
    "ExecuteTime": {
     "end_time": "2023-11-24T16:07:42.389881700Z",
     "start_time": "2023-11-24T16:07:42.301242Z"
    }
   }
  },
  {
   "cell_type": "markdown",
   "source": [
    "# Importing Libraries"
   ],
   "metadata": {
    "collapsed": false
   }
  },
  {
   "cell_type": "code",
   "execution_count": 95,
   "outputs": [],
   "source": [
    "import pandas as pd\n",
    "import numpy as np\n",
    "import matplotlib.pyplot as plt\n",
    "from sklearn.model_selection import train_test_split\n",
    "from sklearn.preprocessing import StandardScaler"
   ],
   "metadata": {
    "collapsed": false,
    "ExecuteTime": {
     "end_time": "2023-11-24T16:07:42.570384200Z",
     "start_time": "2023-11-24T16:07:42.311233200Z"
    }
   }
  },
  {
   "cell_type": "markdown",
   "source": [
    "# Data Preprocessing"
   ],
   "metadata": {
    "collapsed": false
   }
  },
  {
   "cell_type": "code",
   "execution_count": 96,
   "outputs": [],
   "source": [
    "# Reading the data\n",
    "non_standard_missing_values = ['?', '--', ' ', 'NA', 'N/A', '-'] # List of non-standard representations for missing values\n",
    "df = pd.read_csv('Data/cardio_data_processed.csv', na_values=non_standard_missing_values)\n",
    "# Reading the data from the specified CSV file into a pandas DataFrame using the 'na_values' parameter to interpret the specified missing values\n",
    "\n",
    "# Removing excessive columns\n",
    "df = df.drop(columns=['id', 'bp_category_encoded'])\n",
    "# Drop the specified columns from the DataFrame as they are considered excessive"
   ],
   "metadata": {
    "collapsed": false,
    "ExecuteTime": {
     "end_time": "2023-11-24T16:07:42.756856300Z",
     "start_time": "2023-11-24T16:07:42.327371800Z"
    }
   }
  },
  {
   "cell_type": "code",
   "execution_count": 97,
   "id": "d0e8d894",
   "metadata": {
    "ExecuteTime": {
     "end_time": "2023-11-24T16:07:42.756856300Z",
     "start_time": "2023-11-24T16:07:42.498565500Z"
    }
   },
   "outputs": [],
   "source": [
    "# Initial Pre-processing\n",
    "# https://www.cdc.gov/healthyweight/assessing/index.html#:~:text=If%20your%20BMI%20is%20less,falls%20within%20the%20obese%20range.\n",
    "# https://en.wikipedia.org/wiki/Average_human_height_by_country\n",
    "# https://www.nia.nih.gov/health/high-blood-pressure/high-blood-pressure-and-older-adults#:~:text=Normal%20blood%20pressure%20for%20most,pressure%20of%20less%20than%2080.\n",
    "df = df[(df['bmi'] >= 9) & (df['bmi'] <= 60) & (df['height'] >= 130) & (df['weight'] >= 40) & (df['ap_lo'] >= 50) & (df['ap_lo'] <= 140) & (df['ap_hi'] >= 80) & (df['ap_hi'] <= 200)]"
   ]
  },
  {
   "cell_type": "code",
   "execution_count": 98,
   "id": "e1e6f2ff",
   "metadata": {
    "ExecuteTime": {
     "end_time": "2023-11-24T16:07:42.756856300Z",
     "start_time": "2023-11-24T16:07:42.516342Z"
    }
   },
   "outputs": [
    {
     "data": {
      "text/plain": "         age  gender  height  weight  ap_hi  ap_lo  cholesterol  gluc  smoke  \\\n0      18393       2     168    62.0    110     80            1     1      0   \n1      20228       1     156    85.0    140     90            3     1      0   \n2      18857       1     165    64.0    130     70            3     1      0   \n3      17623       2     169    82.0    150    100            1     1      0   \n4      17474       1     156    56.0    100     60            1     1      0   \n...      ...     ...     ...     ...    ...    ...          ...   ...    ...   \n68200  19240       2     168    76.0    120     80            1     1      1   \n68201  22601       1     158   126.0    140     90            2     2      0   \n68202  19066       2     183   105.0    180     90            3     1      0   \n68203  22431       1     163    72.0    135     80            1     2      0   \n68204  20540       1     170    72.0    120     80            2     1      0   \n\n       alco  active  cardio  age_years        bmi  bp_category_Elevated  \\\n0         0       1       0         50  21.967120                     0   \n1         0       1       1         55  34.927679                     0   \n2         0       0       1         51  23.507805                     0   \n3         0       1       1         48  28.710479                     0   \n4         0       0       0         47  23.011177                     0   \n...     ...     ...     ...        ...        ...                   ...   \n68200     0       1       0         52  26.927438                     0   \n68201     0       1       1         61  50.472681                     0   \n68202     1       0       1         52  31.353579                     0   \n68203     0       0       1         61  27.099251                     0   \n68204     0       1       0         56  24.913495                     0   \n\n       bp_category_Hypertension Stage 1  bp_category_Hypertension Stage 2  \\\n0                                     1                                 0   \n1                                     0                                 1   \n2                                     1                                 0   \n3                                     0                                 1   \n4                                     0                                 0   \n...                                 ...                               ...   \n68200                                 1                                 0   \n68201                                 0                                 1   \n68202                                 0                                 1   \n68203                                 1                                 0   \n68204                                 1                                 0   \n\n       bp_category_Normal  \n0                       0  \n1                       0  \n2                       0  \n3                       0  \n4                       1  \n...                   ...  \n68200                   0  \n68201                   0  \n68202                   0  \n68203                   0  \n68204                   0  \n\n[68053 rows x 18 columns]",
      "text/html": "<div>\n<style scoped>\n    .dataframe tbody tr th:only-of-type {\n        vertical-align: middle;\n    }\n\n    .dataframe tbody tr th {\n        vertical-align: top;\n    }\n\n    .dataframe thead th {\n        text-align: right;\n    }\n</style>\n<table border=\"1\" class=\"dataframe\">\n  <thead>\n    <tr style=\"text-align: right;\">\n      <th></th>\n      <th>age</th>\n      <th>gender</th>\n      <th>height</th>\n      <th>weight</th>\n      <th>ap_hi</th>\n      <th>ap_lo</th>\n      <th>cholesterol</th>\n      <th>gluc</th>\n      <th>smoke</th>\n      <th>alco</th>\n      <th>active</th>\n      <th>cardio</th>\n      <th>age_years</th>\n      <th>bmi</th>\n      <th>bp_category_Elevated</th>\n      <th>bp_category_Hypertension Stage 1</th>\n      <th>bp_category_Hypertension Stage 2</th>\n      <th>bp_category_Normal</th>\n    </tr>\n  </thead>\n  <tbody>\n    <tr>\n      <th>0</th>\n      <td>18393</td>\n      <td>2</td>\n      <td>168</td>\n      <td>62.0</td>\n      <td>110</td>\n      <td>80</td>\n      <td>1</td>\n      <td>1</td>\n      <td>0</td>\n      <td>0</td>\n      <td>1</td>\n      <td>0</td>\n      <td>50</td>\n      <td>21.967120</td>\n      <td>0</td>\n      <td>1</td>\n      <td>0</td>\n      <td>0</td>\n    </tr>\n    <tr>\n      <th>1</th>\n      <td>20228</td>\n      <td>1</td>\n      <td>156</td>\n      <td>85.0</td>\n      <td>140</td>\n      <td>90</td>\n      <td>3</td>\n      <td>1</td>\n      <td>0</td>\n      <td>0</td>\n      <td>1</td>\n      <td>1</td>\n      <td>55</td>\n      <td>34.927679</td>\n      <td>0</td>\n      <td>0</td>\n      <td>1</td>\n      <td>0</td>\n    </tr>\n    <tr>\n      <th>2</th>\n      <td>18857</td>\n      <td>1</td>\n      <td>165</td>\n      <td>64.0</td>\n      <td>130</td>\n      <td>70</td>\n      <td>3</td>\n      <td>1</td>\n      <td>0</td>\n      <td>0</td>\n      <td>0</td>\n      <td>1</td>\n      <td>51</td>\n      <td>23.507805</td>\n      <td>0</td>\n      <td>1</td>\n      <td>0</td>\n      <td>0</td>\n    </tr>\n    <tr>\n      <th>3</th>\n      <td>17623</td>\n      <td>2</td>\n      <td>169</td>\n      <td>82.0</td>\n      <td>150</td>\n      <td>100</td>\n      <td>1</td>\n      <td>1</td>\n      <td>0</td>\n      <td>0</td>\n      <td>1</td>\n      <td>1</td>\n      <td>48</td>\n      <td>28.710479</td>\n      <td>0</td>\n      <td>0</td>\n      <td>1</td>\n      <td>0</td>\n    </tr>\n    <tr>\n      <th>4</th>\n      <td>17474</td>\n      <td>1</td>\n      <td>156</td>\n      <td>56.0</td>\n      <td>100</td>\n      <td>60</td>\n      <td>1</td>\n      <td>1</td>\n      <td>0</td>\n      <td>0</td>\n      <td>0</td>\n      <td>0</td>\n      <td>47</td>\n      <td>23.011177</td>\n      <td>0</td>\n      <td>0</td>\n      <td>0</td>\n      <td>1</td>\n    </tr>\n    <tr>\n      <th>...</th>\n      <td>...</td>\n      <td>...</td>\n      <td>...</td>\n      <td>...</td>\n      <td>...</td>\n      <td>...</td>\n      <td>...</td>\n      <td>...</td>\n      <td>...</td>\n      <td>...</td>\n      <td>...</td>\n      <td>...</td>\n      <td>...</td>\n      <td>...</td>\n      <td>...</td>\n      <td>...</td>\n      <td>...</td>\n      <td>...</td>\n    </tr>\n    <tr>\n      <th>68200</th>\n      <td>19240</td>\n      <td>2</td>\n      <td>168</td>\n      <td>76.0</td>\n      <td>120</td>\n      <td>80</td>\n      <td>1</td>\n      <td>1</td>\n      <td>1</td>\n      <td>0</td>\n      <td>1</td>\n      <td>0</td>\n      <td>52</td>\n      <td>26.927438</td>\n      <td>0</td>\n      <td>1</td>\n      <td>0</td>\n      <td>0</td>\n    </tr>\n    <tr>\n      <th>68201</th>\n      <td>22601</td>\n      <td>1</td>\n      <td>158</td>\n      <td>126.0</td>\n      <td>140</td>\n      <td>90</td>\n      <td>2</td>\n      <td>2</td>\n      <td>0</td>\n      <td>0</td>\n      <td>1</td>\n      <td>1</td>\n      <td>61</td>\n      <td>50.472681</td>\n      <td>0</td>\n      <td>0</td>\n      <td>1</td>\n      <td>0</td>\n    </tr>\n    <tr>\n      <th>68202</th>\n      <td>19066</td>\n      <td>2</td>\n      <td>183</td>\n      <td>105.0</td>\n      <td>180</td>\n      <td>90</td>\n      <td>3</td>\n      <td>1</td>\n      <td>0</td>\n      <td>1</td>\n      <td>0</td>\n      <td>1</td>\n      <td>52</td>\n      <td>31.353579</td>\n      <td>0</td>\n      <td>0</td>\n      <td>1</td>\n      <td>0</td>\n    </tr>\n    <tr>\n      <th>68203</th>\n      <td>22431</td>\n      <td>1</td>\n      <td>163</td>\n      <td>72.0</td>\n      <td>135</td>\n      <td>80</td>\n      <td>1</td>\n      <td>2</td>\n      <td>0</td>\n      <td>0</td>\n      <td>0</td>\n      <td>1</td>\n      <td>61</td>\n      <td>27.099251</td>\n      <td>0</td>\n      <td>1</td>\n      <td>0</td>\n      <td>0</td>\n    </tr>\n    <tr>\n      <th>68204</th>\n      <td>20540</td>\n      <td>1</td>\n      <td>170</td>\n      <td>72.0</td>\n      <td>120</td>\n      <td>80</td>\n      <td>2</td>\n      <td>1</td>\n      <td>0</td>\n      <td>0</td>\n      <td>1</td>\n      <td>0</td>\n      <td>56</td>\n      <td>24.913495</td>\n      <td>0</td>\n      <td>1</td>\n      <td>0</td>\n      <td>0</td>\n    </tr>\n  </tbody>\n</table>\n<p>68053 rows × 18 columns</p>\n</div>"
     },
     "execution_count": 98,
     "metadata": {},
     "output_type": "execute_result"
    }
   ],
   "source": [
    "# One-hot encoding for categorical features\n",
    "# This converts categorical variables into binary vectors, creating new columns for each unique category and using binary values (0 or 1) to represent the presence or absence of each category. The new columns are prefixed with 'bp_category' to distinguish them.\n",
    "df = pd.get_dummies(df, columns=['bp_category'], prefix='bp_category')\n",
    "\n",
    "# Display the modified DataFrame after one-hot encoding\n",
    "df"
   ]
  },
  {
   "cell_type": "markdown",
   "source": [
    "### Dealing with missing and duplicate values"
   ],
   "metadata": {
    "collapsed": false
   }
  },
  {
   "cell_type": "code",
   "execution_count": 99,
   "outputs": [
    {
     "name": "stdout",
     "output_type": "stream",
     "text": [
      "None of the features contain data samples with null value\n",
      "Total data samples: 68053 | Variables (Features + Label): 18\n",
      "________________________________________________________________\n",
      "<class 'pandas.core.frame.DataFrame'>\n",
      "Int64Index: 68053 entries, 0 to 68204\n",
      "Data columns (total 18 columns):\n",
      " #   Column                            Non-Null Count  Dtype  \n",
      "---  ------                            --------------  -----  \n",
      " 0   age                               68053 non-null  int64  \n",
      " 1   gender                            68053 non-null  int64  \n",
      " 2   height                            68053 non-null  int64  \n",
      " 3   weight                            68053 non-null  float64\n",
      " 4   ap_hi                             68053 non-null  int64  \n",
      " 5   ap_lo                             68053 non-null  int64  \n",
      " 6   cholesterol                       68053 non-null  int64  \n",
      " 7   gluc                              68053 non-null  int64  \n",
      " 8   smoke                             68053 non-null  int64  \n",
      " 9   alco                              68053 non-null  int64  \n",
      " 10  active                            68053 non-null  int64  \n",
      " 11  cardio                            68053 non-null  int64  \n",
      " 12  age_years                         68053 non-null  int64  \n",
      " 13  bmi                               68053 non-null  float64\n",
      " 14  bp_category_Elevated              68053 non-null  uint8  \n",
      " 15  bp_category_Hypertension Stage 1  68053 non-null  uint8  \n",
      " 16  bp_category_Hypertension Stage 2  68053 non-null  uint8  \n",
      " 17  bp_category_Normal                68053 non-null  uint8  \n",
      "dtypes: float64(2), int64(12), uint8(4)\n",
      "memory usage: 8.0 MB\n"
     ]
    }
   ],
   "source": [
    "# Identifying features with null values\n",
    "# Create a list of features that have null values by checking the sum of null values for each feature\n",
    "features_containing_null_values = [feature for feature in df.columns if df[feature].isnull().sum() > 0]\n",
    "\n",
    "# Check if there are features with null values\n",
    "if features_containing_null_values:\n",
    "    # Print the features that contain null values\n",
    "    print('This features contain data samples with null value {}'.format(features_containing_null_values))\n",
    "\n",
    "    # Drop rows with null values in specified features\n",
    "    df.dropna(subset=features_containing_null_values, inplace=True)\n",
    "\n",
    "    # Display information about the modified DataFrame\n",
    "    print('Total data samples after dropping null values: {} | Variables (Features + Label): {}'.format(df.shape[0], df.shape[1]))\n",
    "    print('________________________________________________________________')\n",
    "\n",
    "else:\n",
    "    print('None of the features contain data samples with null value')\n",
    "\n",
    "    # Display information about the DataFrame\n",
    "    print('Total data samples: {} | Variables (Features + Label): {}'.format(df.shape[0], df.shape[1]))\n",
    "    print('________________________________________________________________')\n",
    "\n",
    "# Display information about the DataFrame after handling null values\n",
    "df.info()"
   ],
   "metadata": {
    "collapsed": false,
    "ExecuteTime": {
     "end_time": "2023-11-24T16:07:42.756856300Z",
     "start_time": "2023-11-24T16:07:42.554738Z"
    }
   }
  },
  {
   "cell_type": "code",
   "execution_count": 100,
   "id": "4f63f9f0",
   "metadata": {
    "ExecuteTime": {
     "end_time": "2023-11-24T16:07:42.817712600Z",
     "start_time": "2023-11-24T16:07:42.578601300Z"
    }
   },
   "outputs": [
    {
     "name": "stdout",
     "output_type": "stream",
     "text": [
      "Duplicates data samples in the Dataset : 24\n",
      "________________________________________________________________\n",
      "         age  gender  height  weight  ap_hi  ap_lo  cholesterol  gluc  smoke  \\\n",
      "10225  16937       2     170    70.0    120     80            1     1      0   \n",
      "43508  16937       2     170    70.0    120     80            1     1      0   \n",
      "1114   17493       2     169    74.0    120     80            1     1      0   \n",
      "49133  17493       2     169    74.0    120     80            1     1      0   \n",
      "31841  17535       2     165    65.0    120     80            1     1      0   \n",
      "55194  17535       2     165    65.0    120     80            1     1      0   \n",
      "2611   22077       1     175    69.0    120     80            1     1      0   \n",
      "44565  22077       1     175    69.0    120     80            1     1      0   \n",
      "22108  18353       1     169    67.0    120     80            1     1      0   \n",
      "41361  18353       1     169    67.0    120     80            1     1      0   \n",
      "16677  16160       1     168    65.0    120     80            1     1      0   \n",
      "62521  16160       1     168    65.0    120     80            1     1      0   \n",
      "53328  18955       1     165    75.0    120     80            1     1      0   \n",
      "56460  18955       1     165    75.0    120     80            1     1      0   \n",
      "2250   20495       1     165    70.0    120     80            1     1      0   \n",
      "10290  20495       1     165    70.0    120     80            1     1      0   \n",
      "1176   16793       1     165    68.0    120     80            1     1      0   \n",
      "15924  19858       1     165    68.0    120     80            1     1      0   \n",
      "21217  16793       1     165    68.0    120     80            1     1      0   \n",
      "57229  19858       1     165    68.0    120     80            1     1      0   \n",
      "19522  19059       1     165    65.0    120     80            1     1      0   \n",
      "21303  21280       1     165    65.0    120     80            1     1      0   \n",
      "39265  21943       1     165    65.0    120     80            1     1      0   \n",
      "43967  21280       1     165    65.0    120     80            1     1      0   \n",
      "46507  18979       1     165    65.0    120     80            1     1      0   \n",
      "51212  21943       1     165    65.0    120     80            1     1      0   \n",
      "60722  18979       1     165    65.0    120     80            1     1      0   \n",
      "64492  19059       1     165    65.0    120     80            1     1      0   \n",
      "1536   21945       1     165    60.0    120     80            1     1      0   \n",
      "47663  21945       1     165    60.0    120     80            1     1      0   \n",
      "23736  20516       1     164    66.0    120     80            1     1      0   \n",
      "58899  20516       1     164    66.0    120     80            1     1      0   \n",
      "10501  18988       1     164    65.0    120     80            1     1      0   \n",
      "37520  18988       1     164    65.0    120     80            1     1      0   \n",
      "16744  21230       1     164    62.0    120     80            1     1      0   \n",
      "44625  21230       1     164    62.0    120     80            1     1      0   \n",
      "1577   20293       1     162    70.0    110     70            1     1      0   \n",
      "55453  20293       1     162    70.0    110     70            1     1      0   \n",
      "28244  18210       1     160    60.0    120     80            1     1      0   \n",
      "37603  21119       1     160    60.0    120     80            1     1      0   \n",
      "63403  18210       1     160    60.0    120     80            1     1      0   \n",
      "66533  21119       1     160    60.0    120     80            1     1      0   \n",
      "7981   21778       1     160    58.0    120     80            1     1      0   \n",
      "63937  21778       1     160    58.0    120     80            1     1      0   \n",
      "6161   14552       1     158    64.0    120     80            1     1      0   \n",
      "39328  14552       1     158    64.0    120     80            1     1      0   \n",
      "27565  16805       1     157    67.0    120     80            1     1      0   \n",
      "58919  16805       1     157    67.0    120     80            1     1      0   \n",
      "\n",
      "       alco  active  cardio  age_years        bmi  bp_category_Elevated  \\\n",
      "10225     0       0       0         46  24.221453                     0   \n",
      "43508     0       0       0         46  24.221453                     0   \n",
      "1114      0       1       1         47  25.909457                     0   \n",
      "49133     0       1       1         47  25.909457                     0   \n",
      "31841     0       1       0         48  23.875115                     0   \n",
      "55194     0       1       0         48  23.875115                     0   \n",
      "2611      0       1       1         60  22.530612                     0   \n",
      "44565     0       1       1         60  22.530612                     0   \n",
      "22108     0       1       0         50  23.458562                     0   \n",
      "41361     0       1       0         50  23.458562                     0   \n",
      "16677     0       1       1         44  23.030045                     0   \n",
      "62521     0       1       1         44  23.030045                     0   \n",
      "53328     0       1       1         51  27.548209                     0   \n",
      "56460     0       1       1         51  27.548209                     0   \n",
      "2250      0       1       0         56  25.711662                     0   \n",
      "10290     0       1       0         56  25.711662                     0   \n",
      "1176      0       1       0         46  24.977043                     0   \n",
      "15924     0       1       0         54  24.977043                     0   \n",
      "21217     0       1       0         46  24.977043                     0   \n",
      "57229     0       1       0         54  24.977043                     0   \n",
      "19522     0       1       1         52  23.875115                     0   \n",
      "21303     0       1       0         58  23.875115                     0   \n",
      "39265     0       1       1         60  23.875115                     0   \n",
      "43967     0       1       0         58  23.875115                     0   \n",
      "46507     0       0       0         51  23.875115                     0   \n",
      "51212     0       1       1         60  23.875115                     0   \n",
      "60722     0       0       0         51  23.875115                     0   \n",
      "64492     0       1       1         52  23.875115                     0   \n",
      "1536      0       1       0         60  22.038567                     0   \n",
      "47663     0       1       0         60  22.038567                     0   \n",
      "23736     0       0       0         56  24.538965                     0   \n",
      "58899     0       0       0         56  24.538965                     0   \n",
      "10501     0       1       0         52  24.167162                     0   \n",
      "37520     0       1       0         52  24.167162                     0   \n",
      "16744     0       1       0         58  23.051755                     0   \n",
      "44625     0       1       0         58  23.051755                     0   \n",
      "1577      0       1       0         55  26.672763                     0   \n",
      "55453     0       1       0         55  26.672763                     0   \n",
      "28244     0       1       0         49  23.437500                     0   \n",
      "37603     0       0       1         57  23.437500                     0   \n",
      "63403     0       1       0         49  23.437500                     0   \n",
      "66533     0       0       1         57  23.437500                     0   \n",
      "7981      0       1       0         59  22.656250                     0   \n",
      "63937     0       1       0         59  22.656250                     0   \n",
      "6161      0       1       0         39  25.636917                     0   \n",
      "39328     0       1       0         39  25.636917                     0   \n",
      "27565     0       1       0         46  27.181630                     0   \n",
      "58919     0       1       0         46  27.181630                     0   \n",
      "\n",
      "       bp_category_Hypertension Stage 1  bp_category_Hypertension Stage 2  \\\n",
      "10225                                 1                                 0   \n",
      "43508                                 1                                 0   \n",
      "1114                                  1                                 0   \n",
      "49133                                 1                                 0   \n",
      "31841                                 1                                 0   \n",
      "55194                                 1                                 0   \n",
      "2611                                  1                                 0   \n",
      "44565                                 1                                 0   \n",
      "22108                                 1                                 0   \n",
      "41361                                 1                                 0   \n",
      "16677                                 1                                 0   \n",
      "62521                                 1                                 0   \n",
      "53328                                 1                                 0   \n",
      "56460                                 1                                 0   \n",
      "2250                                  1                                 0   \n",
      "10290                                 1                                 0   \n",
      "1176                                  1                                 0   \n",
      "15924                                 1                                 0   \n",
      "21217                                 1                                 0   \n",
      "57229                                 1                                 0   \n",
      "19522                                 1                                 0   \n",
      "21303                                 1                                 0   \n",
      "39265                                 1                                 0   \n",
      "43967                                 1                                 0   \n",
      "46507                                 1                                 0   \n",
      "51212                                 1                                 0   \n",
      "60722                                 1                                 0   \n",
      "64492                                 1                                 0   \n",
      "1536                                  1                                 0   \n",
      "47663                                 1                                 0   \n",
      "23736                                 1                                 0   \n",
      "58899                                 1                                 0   \n",
      "10501                                 1                                 0   \n",
      "37520                                 1                                 0   \n",
      "16744                                 1                                 0   \n",
      "44625                                 1                                 0   \n",
      "1577                                  0                                 0   \n",
      "55453                                 0                                 0   \n",
      "28244                                 1                                 0   \n",
      "37603                                 1                                 0   \n",
      "63403                                 1                                 0   \n",
      "66533                                 1                                 0   \n",
      "7981                                  1                                 0   \n",
      "63937                                 1                                 0   \n",
      "6161                                  1                                 0   \n",
      "39328                                 1                                 0   \n",
      "27565                                 1                                 0   \n",
      "58919                                 1                                 0   \n",
      "\n",
      "       bp_category_Normal  \n",
      "10225                   0  \n",
      "43508                   0  \n",
      "1114                    0  \n",
      "49133                   0  \n",
      "31841                   0  \n",
      "55194                   0  \n",
      "2611                    0  \n",
      "44565                   0  \n",
      "22108                   0  \n",
      "41361                   0  \n",
      "16677                   0  \n",
      "62521                   0  \n",
      "53328                   0  \n",
      "56460                   0  \n",
      "2250                    0  \n",
      "10290                   0  \n",
      "1176                    0  \n",
      "15924                   0  \n",
      "21217                   0  \n",
      "57229                   0  \n",
      "19522                   0  \n",
      "21303                   0  \n",
      "39265                   0  \n",
      "43967                   0  \n",
      "46507                   0  \n",
      "51212                   0  \n",
      "60722                   0  \n",
      "64492                   0  \n",
      "1536                    0  \n",
      "47663                   0  \n",
      "23736                   0  \n",
      "58899                   0  \n",
      "10501                   0  \n",
      "37520                   0  \n",
      "16744                   0  \n",
      "44625                   0  \n",
      "1577                    1  \n",
      "55453                   1  \n",
      "28244                   0  \n",
      "37603                   0  \n",
      "63403                   0  \n",
      "66533                   0  \n",
      "7981                    0  \n",
      "63937                   0  \n",
      "6161                    0  \n",
      "39328                   0  \n",
      "27565                   0  \n",
      "58919                   0  \n",
      "________________________________________________________________\n",
      "Total data samples after removing duplicates: 68029 | Variables (Features + Label): 18\n"
     ]
    }
   ],
   "source": [
    "# Counting the number of duplicate data samples\n",
    "duplicate_datasamples_sum = df.duplicated().sum()\n",
    "\n",
    "# Check if there are duplicate data samples\n",
    "if duplicate_datasamples_sum:\n",
    "    print('Duplicates data samples in the Dataset : {}'.format(duplicate_datasamples_sum))\n",
    "    print('________________________________________________________________')\n",
    "\n",
    "    # Identify the duplicate data samples\n",
    "    duplicate = df[df.duplicated(keep=False)]\n",
    "    # Sort the duplicates based on specified columns\n",
    "    duplicate = duplicate.sort_values(by=['gender', 'height', 'weight'], ascending=False)\n",
    "    print(duplicate)\n",
    "\n",
    "    # Remove duplicates, keeping the first occurrence\n",
    "    df.drop_duplicates(keep='first', inplace=True)\n",
    "\n",
    "    # Display information about the DataFrame after removing duplicates\n",
    "    print('________________________________________________________________')\n",
    "    print('Total data samples after removing duplicates: {} | Variables (Features + Label): {}'.format(df.shape[0], df.shape[1]))\n",
    "\n",
    "else:\n",
    "    print('Dataset contains no duplicate data samples')\n",
    "    print('________________________________________________________________')\n",
    "\n",
    "    # Display information about the DataFrame\n",
    "    print('Total data samples: {} | Variables (Features + Label): {}'.format(df.shape[0], df.shape[1]))"
   ]
  },
  {
   "cell_type": "markdown",
   "source": [
    "### Descriptive statistics about the Numerical features"
   ],
   "metadata": {
    "collapsed": false
   }
  },
  {
   "cell_type": "code",
   "execution_count": 101,
   "outputs": [
    {
     "name": "stdout",
     "output_type": "stream",
     "text": [
      "Numerical Values : ['age', 'height', 'weight', 'ap_hi', 'ap_lo', 'age_years', 'bmi']\n"
     ]
    },
    {
     "data": {
      "text/plain": "                age        height        weight         ap_hi         ap_lo  \\\ncount  68029.000000  68029.000000  68029.000000  68029.000000  68029.000000   \nmean   19462.553323    164.460554     74.096553    126.446016     81.270164   \nstd     2468.203413      7.839107     14.148827     15.956525      9.142772   \nmin    10798.000000    130.000000     40.000000     90.000000     60.000000   \n25%    17656.000000    159.000000     65.000000    120.000000     80.000000   \n50%    19700.000000    165.000000     72.000000    120.000000     80.000000   \n75%    21323.000000    170.000000     82.000000    140.000000     90.000000   \nmax    23713.000000    250.000000    200.000000    180.000000    120.000000   \n\n          age_years           bmi  \ncount  68029.000000  68029.000000  \nmean      52.823281     27.429481  \nstd        6.769480      5.147028  \nmin       29.000000     13.520822  \n25%       48.000000     23.875115  \n50%       53.000000     26.332889  \n75%       58.000000     30.116213  \nmax       64.000000     59.523810  ",
      "text/html": "<div>\n<style scoped>\n    .dataframe tbody tr th:only-of-type {\n        vertical-align: middle;\n    }\n\n    .dataframe tbody tr th {\n        vertical-align: top;\n    }\n\n    .dataframe thead th {\n        text-align: right;\n    }\n</style>\n<table border=\"1\" class=\"dataframe\">\n  <thead>\n    <tr style=\"text-align: right;\">\n      <th></th>\n      <th>age</th>\n      <th>height</th>\n      <th>weight</th>\n      <th>ap_hi</th>\n      <th>ap_lo</th>\n      <th>age_years</th>\n      <th>bmi</th>\n    </tr>\n  </thead>\n  <tbody>\n    <tr>\n      <th>count</th>\n      <td>68029.000000</td>\n      <td>68029.000000</td>\n      <td>68029.000000</td>\n      <td>68029.000000</td>\n      <td>68029.000000</td>\n      <td>68029.000000</td>\n      <td>68029.000000</td>\n    </tr>\n    <tr>\n      <th>mean</th>\n      <td>19462.553323</td>\n      <td>164.460554</td>\n      <td>74.096553</td>\n      <td>126.446016</td>\n      <td>81.270164</td>\n      <td>52.823281</td>\n      <td>27.429481</td>\n    </tr>\n    <tr>\n      <th>std</th>\n      <td>2468.203413</td>\n      <td>7.839107</td>\n      <td>14.148827</td>\n      <td>15.956525</td>\n      <td>9.142772</td>\n      <td>6.769480</td>\n      <td>5.147028</td>\n    </tr>\n    <tr>\n      <th>min</th>\n      <td>10798.000000</td>\n      <td>130.000000</td>\n      <td>40.000000</td>\n      <td>90.000000</td>\n      <td>60.000000</td>\n      <td>29.000000</td>\n      <td>13.520822</td>\n    </tr>\n    <tr>\n      <th>25%</th>\n      <td>17656.000000</td>\n      <td>159.000000</td>\n      <td>65.000000</td>\n      <td>120.000000</td>\n      <td>80.000000</td>\n      <td>48.000000</td>\n      <td>23.875115</td>\n    </tr>\n    <tr>\n      <th>50%</th>\n      <td>19700.000000</td>\n      <td>165.000000</td>\n      <td>72.000000</td>\n      <td>120.000000</td>\n      <td>80.000000</td>\n      <td>53.000000</td>\n      <td>26.332889</td>\n    </tr>\n    <tr>\n      <th>75%</th>\n      <td>21323.000000</td>\n      <td>170.000000</td>\n      <td>82.000000</td>\n      <td>140.000000</td>\n      <td>90.000000</td>\n      <td>58.000000</td>\n      <td>30.116213</td>\n    </tr>\n    <tr>\n      <th>max</th>\n      <td>23713.000000</td>\n      <td>250.000000</td>\n      <td>200.000000</td>\n      <td>180.000000</td>\n      <td>120.000000</td>\n      <td>64.000000</td>\n      <td>59.523810</td>\n    </tr>\n  </tbody>\n</table>\n</div>"
     },
     "execution_count": 101,
     "metadata": {},
     "output_type": "execute_result"
    }
   ],
   "source": [
    "# Identifying numerical features with more than 3 unique values\n",
    "Continuous_features = [feature for feature in df.columns if len(df[feature].unique()) > 3]\n",
    "print('Numerical Values : {}'.format(Continuous_features))\n",
    "\n",
    "# Display descriptive statistics for the identified continuous features\n",
    "df[Continuous_features].describe()"
   ],
   "metadata": {
    "collapsed": false,
    "ExecuteTime": {
     "end_time": "2023-11-24T16:07:42.880228400Z",
     "start_time": "2023-11-24T16:07:42.741190600Z"
    }
   }
  },
  {
   "cell_type": "code",
   "execution_count": 102,
   "outputs": [
    {
     "data": {
      "text/plain": "<Figure size 1500x500 with 2 Axes>",
      "image/png": "[encoded data removed]"
     },
     "metadata": {},
     "output_type": "display_data"
    }
   ],
   "source": [
    "# Box Plot for numerical features' outliers\n",
    "\n",
    "# Create a new figure for the box plots\n",
    "fig, axs = plt.subplots(1, 2, figsize=(15, 5))\n",
    "\n",
    "# Box plots for features (except 'age') with outliers displayed\n",
    "axs[0].boxplot([df['height'], df['weight'], df['ap_hi'], df['ap_lo'], df['age_years'], df['bmi']], labels=['Height', 'Weight', 'ap_hi', 'ap_lo', 'Age_years', 'BMI'], vert=False, flierprops=dict(markerfacecolor='red', marker='o'))\n",
    "\n",
    "# Box plot for the 'age' feature with outliers displayed\n",
    "axs[1].boxplot(df['age'], labels=['Age'], vert=False, flierprops=dict(markerfacecolor='red', marker='o'))\n",
    "\n",
    "# Set titles for the subplots\n",
    "axs[0].set_title(\"Box Plot for numerical features' outliers (except Age (Days))\")\n",
    "axs[1].set_title(\"Box Plot for Age (Days) with outliers\")\n",
    "\n",
    "plt.show()"
   ],
   "metadata": {
    "collapsed": false,
    "ExecuteTime": {
     "end_time": "2023-11-24T16:07:43.296547800Z",
     "start_time": "2023-11-24T16:07:42.817712600Z"
    }
   }
  },
  {
   "cell_type": "code",
   "execution_count": 103,
   "outputs": [
    {
     "data": {
      "text/plain": "<Figure size 1500x500 with 7 Axes>",
      "image/png": "[encoded data removed]"
     },
     "metadata": {},
     "output_type": "display_data"
    }
   ],
   "source": [
    "# Create subplots for distribution histograms of numerical features\n",
    "\n",
    "# Setting up a subplot with 1 row and 7 columns\n",
    "fig, axs = plt.subplots(1, 7, figsize=(15, 5), sharey=True)\n",
    "\n",
    "# Create histograms for each feature and add them to the subplot\n",
    "axs[0].hist(df['height'], bins=20, color='skyblue', edgecolor='black')\n",
    "axs[1].hist(df['weight'], bins=20, color='salmon', edgecolor='black')\n",
    "axs[2].hist(df['ap_lo'], bins=20, color='gold', edgecolor='black')\n",
    "axs[3].hist(df['ap_hi'], bins=20, color='lightgreen', edgecolor='black')\n",
    "axs[4].hist(df['bmi'], bins=20, color='lightcoral', edgecolor='black')\n",
    "axs[5].hist(df['age'], bins=20, color='darkblue', edgecolor='black')\n",
    "axs[6].hist(df['age_years'], bins=20, color='darkgreen', edgecolor='black')\n",
    "\n",
    "# Set titles for the subplots\n",
    "axs[0].set_title(\"Height Distribution\")\n",
    "axs[1].set_title(\"Weight Distribution\")\n",
    "axs[2].set_title(\"ap_lo Distribution\")\n",
    "axs[3].set_title(\"ap_hi Distribution\")\n",
    "axs[4].set_title(\"BMI Distribution\")\n",
    "axs[5].set_title(\"Age (D) Distribution\")\n",
    "axs[6].set_title(\"Age (Y) Distribution\")\n",
    "\n",
    "# Set common y-axis label\n",
    "axs[0].set_ylabel(\"Total Count\")\n",
    "\n",
    "# Set common title for the entire figure\n",
    "plt.suptitle(\"Distribution Histogram\")\n",
    "\n",
    "plt.show()"
   ],
   "metadata": {
    "collapsed": false,
    "ExecuteTime": {
     "end_time": "2023-11-24T16:07:44.806610700Z",
     "start_time": "2023-11-24T16:07:43.296547800Z"
    }
   }
  },
  {
   "cell_type": "code",
   "execution_count": 104,
   "outputs": [
    {
     "name": "stdout",
     "output_type": "stream",
     "text": [
      "Feature: age_years | Number of Outliers using IQR method: 4\n",
      "Feature: height | Number of Outliers using IQR method: 407\n",
      "Feature: weight | Number of Outliers using IQR method: 1636\n",
      "Feature: bmi | Number of Outliers using IQR method: 1875\n",
      "Feature: ap_hi | Number of Outliers using IQR method: 643\n",
      "Feature: ap_lo | Number of Outliers using IQR method: 3173\n"
     ]
    }
   ],
   "source": [
    "# Function to identify outliers in numerical features\n",
    "def outliers(df_out, drop=False):\n",
    "    # Loop through each feature in the DataFrame\n",
    "    for each_feature in df_out.columns:\n",
    "        feature_data = df_out[each_feature]\n",
    "\n",
    "        # Calculate the 25th and 75th percentiles (Q1 and Q3)\n",
    "        Q1 = np.percentile(feature_data, 25.)\n",
    "        Q3 = np.percentile(feature_data, 75.)\n",
    "\n",
    "        # Calculate the Interquartile Range (IQR)\n",
    "        IQR = Q3 - Q1\n",
    "\n",
    "        # Define the outlier step as 1.5 times the IQR\n",
    "        outlier_step = IQR * 1.5\n",
    "\n",
    "        # Identify the indices of outliers\n",
    "        outliers = feature_data[~((feature_data >= Q1 - outlier_step) & (feature_data <= Q3 + outlier_step))].index.tolist()\n",
    "\n",
    "        # Print the number of outliers for each feature\n",
    "        print('Feature: {} | Number of Outliers using IQR method: {}'.format(each_feature, len(outliers)))\n",
    "\n",
    "# Identify outliers for the 'height' and 'weight' features in the DataFrame\n",
    "outliers(df[['age_years', 'height', 'weight', 'bmi', 'ap_hi', 'ap_lo']])"
   ],
   "metadata": {
    "collapsed": false,
    "ExecuteTime": {
     "end_time": "2023-11-24T16:07:44.835284100Z",
     "start_time": "2023-11-24T16:07:44.806610700Z"
    }
   }
  },
  {
   "cell_type": "code",
   "execution_count": 122,
   "outputs": [
    {
     "name": "stdout",
     "output_type": "stream",
     "text": [
      "Number of outliers in numerical features after applying logarithm transformation\n",
      "Feature: height | Number of Outliers using IQR method: 373\n",
      "Feature: weight | Number of Outliers using IQR method: 1033\n",
      "Feature: bmi | Number of Outliers using IQR method: 986\n",
      "Feature: ap_hi | Number of Outliers using IQR method: 1554\n",
      "Feature: ap_lo | Number of Outliers using IQR method: 3274\n",
      "________________________________________________________________\n",
      "Number of outliers in numerical features after applying scaler transformation\n",
      "Feature: height | Number of Outliers using IQR method: 407\n",
      "Feature: weight | Number of Outliers using IQR method: 1636\n",
      "Feature: bmi | Number of Outliers using IQR method: 1875\n",
      "Feature: ap_hi | Number of Outliers using IQR method: 643\n",
      "Feature: ap_lo | Number of Outliers using IQR method: 3173\n"
     ]
    }
   ],
   "source": [
    "# Transformations (log and std) are applied to reduce the impact of extreme values and improve the data distribution\n",
    "\n",
    "# Create a copy of the DataFrame to modify without affecting the original\n",
    "outlier_free_df_log = df.copy()\n",
    "outlier_free_df_std = df.copy()\n",
    "\n",
    "# Apply the logarithm transformation to the numerical features\n",
    "outlier_free_df_log[['height', 'weight', 'bmi', 'ap_lo', 'ap_hi']] = np.log(outlier_free_df_log[['height', 'weight', 'bmi', 'ap_lo', 'ap_hi']])\n",
    "\n",
    "# Apply the scalar transformation to the numerical features\n",
    "scaler = StandardScaler()\n",
    "# scaler = RobustScaler()\n",
    "# scaler = MinMaxScaler()\n",
    "outlier_free_df_std[['height', 'weight', 'bmi', 'ap_lo', 'ap_hi']] = scaler.fit_transform(outlier_free_df_std[['height', 'weight', 'bmi', 'ap_lo', 'ap_hi']])\n",
    "\n",
    "# Identify outliers in the transformed numerical features\n",
    "print('Number of outliers in numerical features after applying logarithm transformation')\n",
    "outliers(outlier_free_df_log[['height', 'weight', 'bmi', 'ap_hi', 'ap_lo']])\n",
    "print('________________________________________________________________')\n",
    "print('Number of outliers in numerical features after applying scaler transformation')\n",
    "outliers(outlier_free_df_std[['height', 'weight', 'bmi', 'ap_hi', 'ap_lo']])"
   ],
   "metadata": {
    "collapsed": false,
    "ExecuteTime": {
     "end_time": "2023-11-24T16:13:37.855328200Z",
     "start_time": "2023-11-24T16:13:37.769017700Z"
    }
   }
  },
  {
   "cell_type": "code",
   "execution_count": 123,
   "outputs": [
    {
     "name": "stdout",
     "output_type": "stream",
     "text": [
      "Feature: height | Number of Outliers using IQR method: 0\n",
      "Feature: weight | Number of Outliers using IQR method: 304\n",
      "Feature: bmi | Number of Outliers using IQR method: 613\n",
      "Feature: ap_hi | Number of Outliers using IQR method: 1476\n",
      "Feature: ap_lo | Number of Outliers using IQR method: 3150\n",
      "Total number of deleted outliers in log transformed Dataframe: 6706 \n"
     ]
    }
   ],
   "source": [
    "# Dropping outliers from the log transformed Dataframe\n",
    "# outlier_free_df_log = outlier_free_df_log[(outlier_free_df_log['age_years'] > outlier_free_df_log['age_years'].quantile(0.005)) & (outlier_free_df_log['age_years'] < outlier_free_df_log['age_years'].quantile(0.995))]\n",
    "outlier_free_df_log = outlier_free_df_log[(outlier_free_df_log['weight'] > outlier_free_df_log['weight'].quantile(0.005)) & (outlier_free_df_log['weight'] < outlier_free_df_log['weight'].quantile(0.995))]\n",
    "outline_free_df_log = outlier_free_df_log[(outlier_free_df_log['height'] > outlier_free_df_log['height'].quantile(0.005)) & (outlier_free_df_log['height'] < outlier_free_df_log['height'].quantile(0.995))]\n",
    "outlier_free_df_log = outlier_free_df_log[(outlier_free_df_log['bmi'] > outlier_free_df_log['bmi'].quantile(0.005)) & (outlier_free_df_log['bmi'] < outlier_free_df_log['bmi'].quantile(0.995))]\n",
    "outlier_free_df_log = outlier_free_df_log[(outlier_free_df_log['ap_lo'] > outlier_free_df_log['ap_lo'].quantile(0.005)) & (outlier_free_df_log['ap_lo'] < outlier_free_df_log['ap_lo'].quantile(0.995))]\n",
    "outlier_free_df_log = outlier_free_df_log[(outlier_free_df_log['ap_hi'] > outlier_free_df_log['ap_hi'].quantile(0.005)) & (outlier_free_df_log['ap_hi'] < outlier_free_df_log['ap_hi'].quantile(0.995))]\n",
    "outliers(outline_free_df_log[['height', 'weight', 'bmi', 'ap_hi', 'ap_lo']])\n",
    "print('Total number of deleted outliers in log transformed Dataframe: {} '.format(len(df)-len(outlier_free_df_log)))"
   ],
   "metadata": {
    "collapsed": false,
    "ExecuteTime": {
     "end_time": "2023-11-24T16:13:48.609880900Z",
     "start_time": "2023-11-24T16:13:48.525218200Z"
    }
   }
  },
  {
   "cell_type": "code",
   "execution_count": 124,
   "outputs": [
    {
     "name": "stdout",
     "output_type": "stream",
     "text": [
      "Feature: height | Number of Outliers using IQR method: 0\n",
      "Feature: weight | Number of Outliers using IQR method: 900\n",
      "Feature: bmi | Number of Outliers using IQR method: 1091\n",
      "Feature: ap_hi | Number of Outliers using IQR method: 33\n",
      "Feature: ap_lo | Number of Outliers using IQR method: 39\n",
      "Total number of deleted outliers in std transformed Dataframe: 7339 \n"
     ]
    }
   ],
   "source": [
    "# Dropping outliers from the log transformed Dataframe\n",
    "# outlier_free_df_std = outlier_free_df_std[(outlier_free_df_std['age_years'] > outlier_free_df_std['age_years'].quantile(0.005)) & (outlier_free_df_std['age_years'] < outlier_free_df_std['age_years'].quantile(0.995))]\n",
    "outlier_free_df_std = outlier_free_df_std[(outlier_free_df_std['weight'] > outlier_free_df_std['weight'].quantile(0.005)) & (outlier_free_df_std['weight'] < outlier_free_df_std['weight'].quantile(0.995))]\n",
    "outlier_free_df_std = outlier_free_df_std[(outlier_free_df_std['height'] > outlier_free_df_std['height'].quantile(0.005)) & (outlier_free_df_std['height'] < outlier_free_df_std['height'].quantile(0.995))]\n",
    "outlier_free_df_std = outlier_free_df_std[(outlier_free_df_std['bmi'] > outlier_free_df_std['bmi'].quantile(0.005)) & (outlier_free_df_std['bmi'] < outlier_free_df_std['bmi'].quantile(0.995))]\n",
    "outlier_free_df_std = outlier_free_df_std[(outlier_free_df_std['ap_lo'] > outlier_free_df_std['ap_lo'].quantile(0.005)) & (outlier_free_df_std['ap_lo'] < outlier_free_df_std['ap_lo'].quantile(0.995))]\n",
    "outlier_free_df_std = outlier_free_df_std[(outlier_free_df_std['ap_hi'] > outlier_free_df_std['ap_hi'].quantile(0.005)) & (outlier_free_df_std['ap_hi'] < outlier_free_df_std['ap_hi'].quantile(0.995))]\n",
    "outliers(outlier_free_df_std[['height', 'weight', 'bmi', 'ap_hi', 'ap_lo']])\n",
    "print('Total number of deleted outliers in std transformed Dataframe: {} '.format(len(df)-len(outlier_free_df_std)))"
   ],
   "metadata": {
    "collapsed": false,
    "ExecuteTime": {
     "end_time": "2023-11-24T16:13:56.012155900Z",
     "start_time": "2023-11-24T16:13:55.941944400Z"
    }
   }
  },
  {
   "cell_type": "code",
   "execution_count": 125,
   "outputs": [
    {
     "name": "stdout",
     "output_type": "stream",
     "text": [
      "Number of data samples in which ap_hi is less than ap_lo: 0 \n",
      "Total data samples after cleaning the Dataframe : 61323 | Number of features: 17\n"
     ]
    }
   ],
   "source": [
    "# Using log transformation we lose fewer data samples, so we will continue with log transformed Dataframe\n",
    "outlier_free_df_log = outlier_free_df_log[outlier_free_df_log['ap_lo']>=0]\n",
    "outlier_free_df_log = outlier_free_df_log[outlier_free_df_log['ap_hi']>=0]\n",
    "\n",
    "# Systolic blood pressure - Diastolic blood pressure = Pulse Pressure => can't be negative, Therefore we must have ap_hi > ap_lo\n",
    "print('Number of data samples in which ap_hi is less than ap_lo: {} '.format(len(outlier_free_df_log[outlier_free_df_log['ap_hi'] < outlier_free_df_log['ap_lo']])))\n",
    "cleaned_data_log = outlier_free_df_log[outlier_free_df_log['ap_hi'] >= outlier_free_df_log['ap_lo']].reset_index(drop=True)\n",
    "\n",
    "# print('Total outliers related to the ap_lo and ap_hi values: {}'.format(len(cleaned_data[(cleaned_data[\"ap_hi\"]>250) | (cleaned_data[\"ap_lo\"]>200)])))\n",
    "# cleaned_data = cleaned_data[(cleaned_data[\"ap_hi\"]<=200) & (cleaned_data[\"ap_lo\"]<=140)]\n",
    "# cleaned_data = cleaned_data[(cleaned_data[\"ap_hi\"]>=80) & (cleaned_data[\"ap_lo\"]>=50)]\n",
    "print('Total data samples after cleaning the Dataframe : {} | Number of features: {}'.format(cleaned_data_log.shape[0], cleaned_data_log.shape[1]))"
   ],
   "metadata": {
    "collapsed": false,
    "ExecuteTime": {
     "end_time": "2023-11-24T16:13:59.994852700Z",
     "start_time": "2023-11-24T16:13:59.952600800Z"
    }
   }
  },
  {
   "cell_type": "code",
   "execution_count": 126,
   "outputs": [
    {
     "data": {
      "text/plain": "     age  gender    height    weight     ap_hi     ap_lo  cholesterol  gluc  \\\n0  18393       2  5.123964  4.127134  4.700480  4.382027            1     1   \n1  20228       1  5.049856  4.442651  4.941642  4.499810            3     1   \n2  18857       1  5.105945  4.158883  4.867534  4.248495            3     1   \n3  17623       2  5.129899  4.406719  5.010635  4.605170            1     1   \n4  21914       1  5.017280  4.204693  4.787492  4.382027            2     2   \n\n   smoke  alco  active  age_years       bmi  bp_category_Elevated  \\\n0      0     0       1         50  3.089547                     0   \n1      0     0       1         55  3.553280                     0   \n2      0     0       0         51  3.157333                     0   \n3      0     0       1         48  3.357262                     0   \n4      0     0       0         60  3.380473                     0   \n\n   bp_category_Hypertension Stage 1  bp_category_Hypertension Stage 2  \\\n0                                 1                                 0   \n1                                 0                                 1   \n2                                 1                                 0   \n3                                 0                                 1   \n4                                 1                                 0   \n\n   bp_category_Normal  \n0                   0  \n1                   0  \n2                   0  \n3                   0  \n4                   0  ",
      "text/html": "<div>\n<style scoped>\n    .dataframe tbody tr th:only-of-type {\n        vertical-align: middle;\n    }\n\n    .dataframe tbody tr th {\n        vertical-align: top;\n    }\n\n    .dataframe thead th {\n        text-align: right;\n    }\n</style>\n<table border=\"1\" class=\"dataframe\">\n  <thead>\n    <tr style=\"text-align: right;\">\n      <th></th>\n      <th>age</th>\n      <th>gender</th>\n      <th>height</th>\n      <th>weight</th>\n      <th>ap_hi</th>\n      <th>ap_lo</th>\n      <th>cholesterol</th>\n      <th>gluc</th>\n      <th>smoke</th>\n      <th>alco</th>\n      <th>active</th>\n      <th>age_years</th>\n      <th>bmi</th>\n      <th>bp_category_Elevated</th>\n      <th>bp_category_Hypertension Stage 1</th>\n      <th>bp_category_Hypertension Stage 2</th>\n      <th>bp_category_Normal</th>\n    </tr>\n  </thead>\n  <tbody>\n    <tr>\n      <th>0</th>\n      <td>18393</td>\n      <td>2</td>\n      <td>5.123964</td>\n      <td>4.127134</td>\n      <td>4.700480</td>\n      <td>4.382027</td>\n      <td>1</td>\n      <td>1</td>\n      <td>0</td>\n      <td>0</td>\n      <td>1</td>\n      <td>50</td>\n      <td>3.089547</td>\n      <td>0</td>\n      <td>1</td>\n      <td>0</td>\n      <td>0</td>\n    </tr>\n    <tr>\n      <th>1</th>\n      <td>20228</td>\n      <td>1</td>\n      <td>5.049856</td>\n      <td>4.442651</td>\n      <td>4.941642</td>\n      <td>4.499810</td>\n      <td>3</td>\n      <td>1</td>\n      <td>0</td>\n      <td>0</td>\n      <td>1</td>\n      <td>55</td>\n      <td>3.553280</td>\n      <td>0</td>\n      <td>0</td>\n      <td>1</td>\n      <td>0</td>\n    </tr>\n    <tr>\n      <th>2</th>\n      <td>18857</td>\n      <td>1</td>\n      <td>5.105945</td>\n      <td>4.158883</td>\n      <td>4.867534</td>\n      <td>4.248495</td>\n      <td>3</td>\n      <td>1</td>\n      <td>0</td>\n      <td>0</td>\n      <td>0</td>\n      <td>51</td>\n      <td>3.157333</td>\n      <td>0</td>\n      <td>1</td>\n      <td>0</td>\n      <td>0</td>\n    </tr>\n    <tr>\n      <th>3</th>\n      <td>17623</td>\n      <td>2</td>\n      <td>5.129899</td>\n      <td>4.406719</td>\n      <td>5.010635</td>\n      <td>4.605170</td>\n      <td>1</td>\n      <td>1</td>\n      <td>0</td>\n      <td>0</td>\n      <td>1</td>\n      <td>48</td>\n      <td>3.357262</td>\n      <td>0</td>\n      <td>0</td>\n      <td>1</td>\n      <td>0</td>\n    </tr>\n    <tr>\n      <th>4</th>\n      <td>21914</td>\n      <td>1</td>\n      <td>5.017280</td>\n      <td>4.204693</td>\n      <td>4.787492</td>\n      <td>4.382027</td>\n      <td>2</td>\n      <td>2</td>\n      <td>0</td>\n      <td>0</td>\n      <td>0</td>\n      <td>60</td>\n      <td>3.380473</td>\n      <td>0</td>\n      <td>1</td>\n      <td>0</td>\n      <td>0</td>\n    </tr>\n  </tbody>\n</table>\n</div>"
     },
     "execution_count": 126,
     "metadata": {},
     "output_type": "execute_result"
    }
   ],
   "source": [
    "cleaned_data_log.head()"
   ],
   "metadata": {
    "collapsed": false,
    "ExecuteTime": {
     "end_time": "2023-11-24T16:14:01.970799600Z",
     "start_time": "2023-11-24T16:14:01.924266300Z"
    }
   }
  },
  {
   "cell_type": "code",
   "execution_count": 133,
   "outputs": [
    {
     "data": {
      "text/plain": "<Figure size 640x480 with 1 Axes>",
      "image/png": "[encoded data removed]"
     },
     "metadata": {},
     "output_type": "display_data"
    }
   ],
   "source": [
    "# Create a new figure\n",
    "fig, ax = plt.subplots()\n",
    "\n",
    "# Add a histogram for the 'age' feature\n",
    "ax.hist(cleaned_data_log['age_years'], bins=20, color='gold', edgecolor='black')\n",
    "\n",
    "# Set title and labels\n",
    "ax.set_title(\"Age Distribution\")\n",
    "ax.set_xlabel(\"Age\")\n",
    "ax.set_ylabel(\"Frequency\")\n",
    "\n",
    "# Show the plot\n",
    "plt.show()"
   ],
   "metadata": {
    "collapsed": false,
    "ExecuteTime": {
     "end_time": "2023-11-24T16:27:58.064347300Z",
     "start_time": "2023-11-24T16:27:57.777117800Z"
    }
   }
  },
  {
   "cell_type": "code",
   "execution_count": 129,
   "outputs": [
    {
     "name": "stdout",
     "output_type": "stream",
     "text": [
      "Final data samples: 61323 | Number of features: 17\n"
     ]
    }
   ],
   "source": [
    "print('Final data samples: {} | Number of features: {}'.format(cleaned_data_log.shape[0], df.shape[1]))"
   ],
   "metadata": {
    "collapsed": false,
    "ExecuteTime": {
     "end_time": "2023-11-24T16:18:30.531372600Z",
     "start_time": "2023-11-24T16:18:30.523702200Z"
    }
   }
  },
  {
   "cell_type": "markdown",
   "source": [
    "| Preprocessing                             | Total Data samples | Lost data samples |\n",
    "|-------------------------------------------|:------------------:|------------------:|\n",
    "| Duplicates Removed                        |       68053        |                24 |\n",
    "| Outliner Removed                          |       68029        |              6706 |\n",
    "| Negative Values (ap_hi and ap_lo) Removed |       61323        |                 0 |\n",
    "| Samples with ap_hi < ap_lo Removed        |       61323        |                 0 |"
   ],
   "metadata": {
    "collapsed": false
   }
  },
  {
   "cell_type": "code",
   "execution_count": 109,
   "outputs": [],
   "source": [],
   "metadata": {
    "collapsed": false,
    "ExecuteTime": {
     "end_time": "2023-11-24T16:07:45.171250200Z",
     "start_time": "2023-11-24T16:07:45.165114800Z"
    }
   }
  },
  {
   "cell_type": "code",
   "execution_count": 109,
   "outputs": [],
   "source": [],
   "metadata": {
    "collapsed": false,
    "ExecuteTime": {
     "end_time": "2023-11-24T16:07:45.176338400Z",
     "start_time": "2023-11-24T16:07:45.171250200Z"
    }
   }
  },
  {
   "cell_type": "code",
   "execution_count": 109,
   "outputs": [],
   "source": [],
   "metadata": {
    "collapsed": false,
    "ExecuteTime": {
     "end_time": "2023-11-24T16:07:45.267312700Z",
     "start_time": "2023-11-24T16:07:45.176338400Z"
    }
   }
  },
  {
   "cell_type": "code",
   "execution_count": 109,
   "outputs": [],
   "source": [],
   "metadata": {
    "collapsed": false,
    "ExecuteTime": {
     "end_time": "2023-11-24T16:07:45.272482800Z",
     "start_time": "2023-11-24T16:07:45.186154800Z"
    }
   }
  },
  {
   "cell_type": "code",
   "execution_count": 109,
   "outputs": [],
   "source": [],
   "metadata": {
    "collapsed": false,
    "ExecuteTime": {
     "end_time": "2023-11-24T16:07:45.273004900Z",
     "start_time": "2023-11-24T16:07:45.186662700Z"
    }
   }
  },
  {
   "cell_type": "code",
   "execution_count": 109,
   "outputs": [],
   "source": [],
   "metadata": {
    "collapsed": false,
    "ExecuteTime": {
     "end_time": "2023-11-24T16:07:45.273004900Z",
     "start_time": "2023-11-24T16:07:45.193554200Z"
    }
   }
  },
  {
   "cell_type": "code",
   "execution_count": 110,
   "outputs": [],
   "source": [
    "# data-label separation\n",
    "labels = df['cardio'].to_numpy()\n",
    "df = df.drop(columns=['cardio'])\n",
    "# convert to numpy\n",
    "data = df.to_numpy()\n",
    "# train-test split\n",
    "trainx, testx, trainy, testy = train_test_split(data, labels, test_size=0.15, random_state=42)"
   ],
   "metadata": {
    "collapsed": false,
    "ExecuteTime": {
     "end_time": "2023-11-24T16:07:45.351138Z",
     "start_time": "2023-11-24T16:07:45.199964600Z"
    }
   }
  },
  {
   "cell_type": "code",
   "execution_count": 111,
   "outputs": [],
   "source": [
    "# normalization\n",
    "scaler = StandardScaler()\n",
    "# Fit the scaler on the training data and transform both the training and test data\n",
    "trainx = scaler.fit_transform(trainx)\n",
    "testx = scaler.transform(testx)"
   ],
   "metadata": {
    "collapsed": false,
    "ExecuteTime": {
     "end_time": "2023-11-24T16:07:45.351138Z",
     "start_time": "2023-11-24T16:07:45.236054200Z"
    }
   }
  },
  {
   "cell_type": "code",
   "execution_count": 112,
   "outputs": [
    {
     "name": "stdout",
     "output_type": "stream",
     "text": [
      "Accuracy: 0.728858402743753\n",
      "Classification Report:\n",
      "               precision    recall  f1-score   support\n",
      "\n",
      "           0       0.71      0.79      0.75      5136\n",
      "           1       0.76      0.67      0.71      5069\n",
      "\n",
      "    accuracy                           0.73     10205\n",
      "   macro avg       0.73      0.73      0.73     10205\n",
      "weighted avg       0.73      0.73      0.73     10205\n",
      "\n"
     ]
    }
   ],
   "source": [
    "from sklearn.linear_model import LogisticRegression\n",
    "from sklearn.metrics import accuracy_score, classification_report\n",
    "from sklearn.tree import DecisionTreeClassifier\n",
    "model = LogisticRegression()\n",
    "\n",
    "# Train the model on the training set\n",
    "model.fit(trainx, trainy)\n",
    "\n",
    "# Make predictions on the test set\n",
    "testy_pred = model.predict(testx)\n",
    "\n",
    "# Evaluate the model\n",
    "accuracy = accuracy_score(testy, testy_pred)\n",
    "report = classification_report(testy, testy_pred)\n",
    "\n",
    "# Print the results\n",
    "print(\"Accuracy:\", accuracy)\n",
    "print(\"Classification Report:\\n\", report)"
   ],
   "metadata": {
    "collapsed": false,
    "ExecuteTime": {
     "end_time": "2023-11-24T16:07:45.446842400Z",
     "start_time": "2023-11-24T16:07:45.273004900Z"
    }
   }
  },
  {
   "cell_type": "code",
   "execution_count": 112,
   "outputs": [],
   "source": [],
   "metadata": {
    "collapsed": false,
    "ExecuteTime": {
     "end_time": "2023-11-24T16:07:45.446842400Z",
     "start_time": "2023-11-24T16:07:45.432982200Z"
    }
   }
  }
 ],
 "metadata": {
  "kernelspec": {
   "display_name": "Python 3 (ipykernel)",
   "language": "python",
   "name": "python3"
  },
  "language_info": {
   "codemirror_mode": {
    "name": "ipython",
    "version": 3
   },
   "file_extension": ".py",
   "mimetype": "text/x-python",
   "name": "python",
   "nbconvert_exporter": "python",
   "pygments_lexer": "ipython3",
   "version": "3.11.4"
  }
 },
 "nbformat": 4,
 "nbformat_minor": 5
}
