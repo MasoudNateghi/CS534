{
  "cells": [
    {
      "cell_type": "markdown",
      "source": [
        "#\n",
        "---\n",
        "# Importing Libraries"
      ],
      "metadata": {
        "collapsed": false,
        "id": "Nc3aeTGUynL_"
      }
    },
    {
      "cell_type": "code",
      "execution_count": 1,
      "outputs": [],
      "source": [
        "import pandas as pd\n",
        "import numpy as np\n",
        "import seaborn as sns\n",
        "import matplotlib.pyplot as plt\n",
        "from sklearn.model_selection import train_test_split, GridSearchCV\n",
        "from sklearn.preprocessing import StandardScaler\n",
        "from sklearn.preprocessing import RobustScaler\n",
        "from sklearn.preprocessing import MinMaxScaler\n",
        "from sklearn.decomposition import PCA\n",
        "from sklearn.manifold import TSNE\n",
        "from sklearn.linear_model import LogisticRegression\n",
        "from sklearn.ensemble import RandomForestClassifier, VotingClassifier\n",
        "from sklearn.neighbors import KNeighborsClassifier\n",
        "from lightgbm import LGBMClassifier\n",
        "from sklearn.tree import DecisionTreeClassifier\n",
        "from sklearn.metrics import confusion_matrix\n",
        "from xgboost import XGBClassifier\n",
        "from sklearn.ensemble import VotingClassifier\n",
        "import torch\n",
        "%load_ext Cython\n",
        "import torch.nn as nn\n",
        "import torch.optim as optim\n",
        "import seaborn as sns\n",
        "import matplotlib.pyplot as plt\n",
        "import torch.nn.functional as F\n",
        "from sklearn.metrics import accuracy_score, classification_report, roc_auc_score, fbeta_score, precision_score, recall_score, average_precision_score"
      ],
      "metadata": {
        "ExecuteTime": {
          "end_time": "2023-12-04T13:45:26.380293600Z",
          "start_time": "2023-12-04T13:45:17.218806900Z"
        },
        "id": "XYTtSkSxynMB"
      }
    },
    {
      "cell_type": "markdown",
      "source": [
        "#\n",
        "---\n",
        "# Importing Dataset"
      ],
      "metadata": {
        "collapsed": false,
        "id": "s4l0DgbrynMC"
      }
    },
    {
      "cell_type": "code",
      "source": [
        "from google.colab import drive\n",
        "drive.mount('/content/drive')"
      ],
      "metadata": {
        "colab": {
          "base_uri": "https://localhost:8080/"
        },
        "id": "ugSJPra_38-o",
        "outputId": "cd8d0c45-7d3c-4c37-a444-130ecbaae01f"
      },
      "execution_count": 2,
      "outputs": [
        {
          "output_type": "stream",
          "name": "stdout",
          "text": [
            "Mounted at /content/drive\n"
          ]
        }
      ]
    },
    {
      "cell_type": "code",
      "execution_count": 3,
      "outputs": [],
      "source": [
        "\n",
        "data = np.load('/content/drive/MyDrive/Data/Cardio/data.npz')\n",
        "trainx = data['arr1']\n",
        "trainy = data['arr2']\n",
        "testx = data['arr3']\n",
        "testy = data['arr4']\n",
        "\n",
        "# df_log = pd.read_csv('df_log.csv')\n",
        "# labels = df_log['cardio'].to_numpy()\n",
        "# df_log_processed = df_log.drop(columns=['cardio'])\n",
        "# data = df_log_processed.to_numpy()\n",
        "# trainx, testx, trainy, testy = train_test_split(data, labels, test_size=0.15, random_state=42)\n",
        "\n",
        "# Standardization\n",
        "# scaler = StandardScaler()\n",
        "# # scaler = RobustScaler()\n",
        "# # scaler = MinMaxScaler()\n",
        "# # Fit the scaler on the training data and transform both the training and test data\n",
        "# trainx = scaler.fit_transform(trainx)\n",
        "# testx = scaler.transform(testx)"
      ],
      "metadata": {
        "ExecuteTime": {
          "end_time": "2023-12-04T13:45:44.624866100Z",
          "start_time": "2023-12-04T13:45:44.445373700Z"
        },
        "id": "0NVZZgkkynMC"
      }
    },
    {
      "cell_type": "code",
      "source": [
        "pca = PCA(n_components = 0.95)\n",
        "pca.fit(trainx)\n",
        "trainx = pca.transform(trainx)\n",
        "testx = pca.transform(testx)\n",
        "# number of PCs\n",
        "nPC = trainx.shape[1]\n",
        "# PCs\n",
        "PC = pca.components_\n",
        "print('nPC = ', nPC)"
      ],
      "metadata": {
        "id": "7JJicoTmJuoD",
        "colab": {
          "base_uri": "https://localhost:8080/"
        },
        "outputId": "c9020c66-20f6-468e-afca-bd3c344ec80c"
      },
      "execution_count": 4,
      "outputs": [
        {
          "output_type": "stream",
          "name": "stdout",
          "text": [
            "nPC =  26\n"
          ]
        }
      ]
    },
    {
      "cell_type": "code",
      "execution_count": null,
      "outputs": [
        {
          "data": {
            "text/plain": "         height  cholesterol  gluc  smoke  active  cardio  age_years  \\\n0      5.123964            1     1      0       1       0   3.931826   \n1      5.049856            3     1      0       1       1   4.025352   \n2      5.105945            3     1      0       0       1   3.951244   \n3      5.129899            1     1      0       1       1   3.891820   \n4      5.049856            1     1      0       0       0   3.871201   \n...         ...          ...   ...    ...     ...     ...        ...   \n65918  5.105945            1     1      0       1       1   4.060443   \n65919  5.123964            1     1      1       1       0   3.970292   \n65920  5.209486            3     1      0       0       1   3.970292   \n65921  5.093750            1     2      0       0       1   4.127134   \n65922  5.135798            2     1      0       1       0   4.043051   \n\n            bmi  bp_category_Elevated  bp_category_Hypertension Stage 1  \\\n0      3.089547                     0                                 1   \n1      3.553280                     0                                 0   \n2      3.157333                     0                                 1   \n3      3.357262                     0                                 0   \n4      3.135980                     0                                 0   \n...         ...                   ...                               ...   \n65918  3.380476                     0                                 1   \n65919  3.293146                     0                                 1   \n65920  3.445328                     0                                 0   \n65921  3.299506                     0                                 1   \n65922  3.215410                     0                                 1   \n\n       bp_category_Hypertension Stage 2  bp_category_Normal  pulse_pressure  \n0                                     0                   0        3.433987  \n1                                     1                   0        3.931826  \n2                                     0                   0        4.110874  \n3                                     1                   0        3.931826  \n4                                     0                   1        3.713572  \n...                                 ...                 ...             ...  \n65918                                 0                   0        4.262680  \n65919                                 0                   0        3.713572  \n65920                                 1                   0        4.510860  \n65921                                 0                   0        4.025352  \n65922                                 0                   0        3.713572  \n\n[65923 rows x 13 columns]",
            "text/html": "<div>\n<style scoped>\n    .dataframe tbody tr th:only-of-type {\n        vertical-align: middle;\n    }\n\n    .dataframe tbody tr th {\n        vertical-align: top;\n    }\n\n    .dataframe thead th {\n        text-align: right;\n    }\n</style>\n<table border=\"1\" class=\"dataframe\">\n  <thead>\n    <tr style=\"text-align: right;\">\n      <th></th>\n      <th>height</th>\n      <th>cholesterol</th>\n      <th>gluc</th>\n      <th>smoke</th>\n      <th>active</th>\n      <th>cardio</th>\n      <th>age_years</th>\n      <th>bmi</th>\n      <th>bp_category_Elevated</th>\n      <th>bp_category_Hypertension Stage 1</th>\n      <th>bp_category_Hypertension Stage 2</th>\n      <th>bp_category_Normal</th>\n      <th>pulse_pressure</th>\n    </tr>\n  </thead>\n  <tbody>\n    <tr>\n      <th>0</th>\n      <td>5.123964</td>\n      <td>1</td>\n      <td>1</td>\n      <td>0</td>\n      <td>1</td>\n      <td>0</td>\n      <td>3.931826</td>\n      <td>3.089547</td>\n      <td>0</td>\n      <td>1</td>\n      <td>0</td>\n      <td>0</td>\n      <td>3.433987</td>\n    </tr>\n    <tr>\n      <th>1</th>\n      <td>5.049856</td>\n      <td>3</td>\n      <td>1</td>\n      <td>0</td>\n      <td>1</td>\n      <td>1</td>\n      <td>4.025352</td>\n      <td>3.553280</td>\n      <td>0</td>\n      <td>0</td>\n      <td>1</td>\n      <td>0</td>\n      <td>3.931826</td>\n    </tr>\n    <tr>\n      <th>2</th>\n      <td>5.105945</td>\n      <td>3</td>\n      <td>1</td>\n      <td>0</td>\n      <td>0</td>\n      <td>1</td>\n      <td>3.951244</td>\n      <td>3.157333</td>\n      <td>0</td>\n      <td>1</td>\n      <td>0</td>\n      <td>0</td>\n      <td>4.110874</td>\n    </tr>\n    <tr>\n      <th>3</th>\n      <td>5.129899</td>\n      <td>1</td>\n      <td>1</td>\n      <td>0</td>\n      <td>1</td>\n      <td>1</td>\n      <td>3.891820</td>\n      <td>3.357262</td>\n      <td>0</td>\n      <td>0</td>\n      <td>1</td>\n      <td>0</td>\n      <td>3.931826</td>\n    </tr>\n    <tr>\n      <th>4</th>\n      <td>5.049856</td>\n      <td>1</td>\n      <td>1</td>\n      <td>0</td>\n      <td>0</td>\n      <td>0</td>\n      <td>3.871201</td>\n      <td>3.135980</td>\n      <td>0</td>\n      <td>0</td>\n      <td>0</td>\n      <td>1</td>\n      <td>3.713572</td>\n    </tr>\n    <tr>\n      <th>...</th>\n      <td>...</td>\n      <td>...</td>\n      <td>...</td>\n      <td>...</td>\n      <td>...</td>\n      <td>...</td>\n      <td>...</td>\n      <td>...</td>\n      <td>...</td>\n      <td>...</td>\n      <td>...</td>\n      <td>...</td>\n      <td>...</td>\n    </tr>\n    <tr>\n      <th>65918</th>\n      <td>5.105945</td>\n      <td>1</td>\n      <td>1</td>\n      <td>0</td>\n      <td>1</td>\n      <td>1</td>\n      <td>4.060443</td>\n      <td>3.380476</td>\n      <td>0</td>\n      <td>1</td>\n      <td>0</td>\n      <td>0</td>\n      <td>4.262680</td>\n    </tr>\n    <tr>\n      <th>65919</th>\n      <td>5.123964</td>\n      <td>1</td>\n      <td>1</td>\n      <td>1</td>\n      <td>1</td>\n      <td>0</td>\n      <td>3.970292</td>\n      <td>3.293146</td>\n      <td>0</td>\n      <td>1</td>\n      <td>0</td>\n      <td>0</td>\n      <td>3.713572</td>\n    </tr>\n    <tr>\n      <th>65920</th>\n      <td>5.209486</td>\n      <td>3</td>\n      <td>1</td>\n      <td>0</td>\n      <td>0</td>\n      <td>1</td>\n      <td>3.970292</td>\n      <td>3.445328</td>\n      <td>0</td>\n      <td>0</td>\n      <td>1</td>\n      <td>0</td>\n      <td>4.510860</td>\n    </tr>\n    <tr>\n      <th>65921</th>\n      <td>5.093750</td>\n      <td>1</td>\n      <td>2</td>\n      <td>0</td>\n      <td>0</td>\n      <td>1</td>\n      <td>4.127134</td>\n      <td>3.299506</td>\n      <td>0</td>\n      <td>1</td>\n      <td>0</td>\n      <td>0</td>\n      <td>4.025352</td>\n    </tr>\n    <tr>\n      <th>65922</th>\n      <td>5.135798</td>\n      <td>2</td>\n      <td>1</td>\n      <td>0</td>\n      <td>1</td>\n      <td>0</td>\n      <td>4.043051</td>\n      <td>3.215410</td>\n      <td>0</td>\n      <td>1</td>\n      <td>0</td>\n      <td>0</td>\n      <td>3.713572</td>\n    </tr>\n  </tbody>\n</table>\n<p>65923 rows × 13 columns</p>\n</div>"
          },
          "execution_count": 5,
          "metadata": {},
          "output_type": "execute_result"
        }
      ],
      "source": [
        "df_log"
      ],
      "metadata": {
        "ExecuteTime": {
          "end_time": "2023-12-04T13:45:45.996517500Z",
          "start_time": "2023-12-04T13:45:45.950547900Z"
        },
        "id": "OJYFUSfIynMD",
        "outputId": "e2f3c4de-95e0-4842-93a3-7a27c3c5b368"
      }
    },
    {
      "cell_type": "markdown",
      "source": [
        "#\n",
        "---\n",
        "# Machine Learning Models\n",
        "\n",
        "#### ◉ Logistic Regression (Python)"
      ],
      "metadata": {
        "collapsed": false,
        "id": "uUM5XaT0ynMD"
      }
    },
    {
      "cell_type": "code",
      "execution_count": 5,
      "outputs": [
        {
          "output_type": "stream",
          "name": "stdout",
          "text": [
            "Training Accuracy: 0.7285008119635241\n",
            "Accuracy: 0.7341490545050056\n",
            "AUC: 0.7331990981055291\n",
            "F1-score: 0.7108764984053667\n",
            "F2-score: 0.681080625447802\n",
            "Precision per class: [0.70990483 0.76678529]\n",
            "Average Precision: 0.6744939106272363\n",
            "Weighted Average Recall: 0.7341490545050056\n",
            "Classification Report:\n",
            "               precision    recall  f1-score   support\n",
            "\n",
            "           0    0.70990   0.80383   0.75395      5011\n",
            "           1    0.76679   0.66257   0.71088      4878\n",
            "\n",
            "    accuracy                        0.73415      9889\n",
            "   macro avg    0.73835   0.73320   0.73242      9889\n",
            "weighted avg    0.73796   0.73415   0.73271      9889\n",
            "\n"
          ]
        },
        {
          "output_type": "display_data",
          "data": {
            "text/plain": [
              "<Figure size 400x400 with 2 Axes>"
            ],
            "image/png": "[encoded data removed]"
          },
          "metadata": {}
        },
        {
          "output_type": "stream",
          "name": "stdout",
          "text": [
            "True Positive Cases: 3232\n",
            "True Negative Cases: 4028\n",
            "False Positive Cases: 983\n",
            "False Negative Cases: 1646\n"
          ]
        }
      ],
      "source": [
        "# Define the Logistic Regression model\n",
        "model = LogisticRegression(C=0.05, penalty='l2')\n",
        "\n",
        "# Fit the model to find the best parameters\n",
        "model.fit(trainx, trainy)\n",
        "\n",
        "# Make predictions on the training set\n",
        "trainy_pred = model.predict(trainx)\n",
        "\n",
        "# Evaluate the model on the training set\n",
        "accuracy_train = accuracy_score(trainy, trainy_pred)\n",
        "print(\"Training Accuracy:\", accuracy_train)\n",
        "\n",
        "# Make predictions on the test set\n",
        "testy_pred = model.predict(testx)\n",
        "\n",
        "# Evaluate the model on the test set\n",
        "accuracy = accuracy_score(testy, testy_pred)\n",
        "report = classification_report(testy, testy_pred, digits=5)\n",
        "auc = roc_auc_score(testy, testy_pred)\n",
        "f2 = fbeta_score(testy, testy_pred, beta=2)\n",
        "precision_per_class = precision_score(testy, testy_pred, average=None)\n",
        "f1 = fbeta_score(testy, testy_pred, beta=1)\n",
        "average_precision = average_precision_score(testy, testy_pred)\n",
        "weighted_recall = recall_score(testy, testy_pred, average='weighted')\n",
        "\n",
        "# Additional Metrics\n",
        "print(\"Accuracy:\", accuracy)\n",
        "print(\"AUC:\", auc)\n",
        "print(\"F1-score:\", f1)\n",
        "print(\"F2-score:\", f2)\n",
        "print(\"Precision per class:\", precision_per_class)\n",
        "print(\"Average Precision:\", average_precision)\n",
        "print(\"Weighted Average Recall:\", weighted_recall)\n",
        "print(\"Classification Report:\\n\", report)\n",
        "\n",
        "# Confusion Matrix Visualization\n",
        "plt.rcParams['figure.figsize'] = (4, 4)\n",
        "sns.heatmap(confusion_matrix(testy, testy_pred), annot=True, fmt='d', linewidths=.5, cmap=\"YlGnBu\")\n",
        "plt.title('Confusion Matrix')\n",
        "plt.show()\n",
        "\n",
        "# True Positive, True Negative, False Positive, False Negative\n",
        "tp = confusion_matrix(testy, testy_pred)[1][1]\n",
        "tn = confusion_matrix(testy, testy_pred)[0][0]\n",
        "fp = confusion_matrix(testy, testy_pred)[0][1]\n",
        "fn = confusion_matrix(testy, testy_pred)[1][0]\n",
        "\n",
        "print('True Positive Cases: {}'.format(tp))\n",
        "print('True Negative Cases: {}'.format(tn))\n",
        "print('False Positive Cases: {}'.format(fp))\n",
        "print('False Negative Cases: {}'.format(fn))"
      ],
      "metadata": {
        "ExecuteTime": {
          "end_time": "2023-12-04T03:25:53.749474200Z",
          "start_time": "2023-12-04T03:25:53.343801600Z"
        },
        "id": "klaVgYdrynML",
        "outputId": "2f266a3b-6e1a-4b10-eebc-10a660e20987",
        "colab": {
          "base_uri": "https://localhost:8080/",
          "height": 773
        }
      }
    },
    {
      "cell_type": "markdown",
      "source": [
        "---\n",
        "#### ◉ k-Nearst Neighbors (k-NN) (Python)"
      ],
      "metadata": {
        "collapsed": false,
        "id": "SoazHDKbynMM"
      }
    },
    {
      "cell_type": "code",
      "execution_count": null,
      "outputs": [
        {
          "output_type": "stream",
          "name": "stdout",
          "text": [
            "Training Accuracy: 0.736138622695719\n",
            "Accuracy: 0.7325310951562342\n",
            "AUC: 0.731852900249218\n",
            "F1-score: 0.7153771656085225\n",
            "F2-score: 0.6946127805408115\n",
            "Precision per class: [0.71611253 0.75288788]\n",
            "Average Precision: 0.6701822928314811\n",
            "Weighted Average Recall: 0.7325310951562342\n",
            "Classification Report:\n",
            "               precision    recall  f1-score   support\n",
            "\n",
            "           0    0.71611   0.78228   0.74773      5011\n",
            "           1    0.75289   0.68143   0.71538      4878\n",
            "\n",
            "    accuracy                        0.73253      9889\n",
            "   macro avg    0.73450   0.73185   0.73156      9889\n",
            "weighted avg    0.73425   0.73253   0.73177      9889\n",
            "\n"
          ]
        },
        {
          "output_type": "display_data",
          "data": {
            "text/plain": [
              "<Figure size 400x400 with 2 Axes>"
            ],
            "image/png": "[encoded data removed]"
          },
          "metadata": {}
        },
        {
          "output_type": "stream",
          "name": "stdout",
          "text": [
            "True Positive Cases: 3324\n",
            "True Negative Cases: 3920\n",
            "False Positive Cases: 1091\n",
            "False Negative Cases: 1554\n"
          ]
        }
      ],
      "source": [
        "# Define the Logistic Regression model\n",
        "model = KNeighborsClassifier(n_neighbors=35, p=2, weights='uniform')\n",
        "\n",
        "# Fit the model to find the best parameters\n",
        "model.fit(trainx, trainy)\n",
        "\n",
        "# Make predictions on the training set\n",
        "trainy_pred = model.predict(trainx)\n",
        "\n",
        "# Evaluate the model on the training set\n",
        "accuracy_train = accuracy_score(trainy, trainy_pred)\n",
        "print(\"Training Accuracy:\", accuracy_train)\n",
        "\n",
        "# Make predictions on the test set\n",
        "testy_pred = model.predict(testx)\n",
        "\n",
        "# Evaluate the model on the test set\n",
        "accuracy = accuracy_score(testy, testy_pred)\n",
        "report = classification_report(testy, testy_pred, digits=5)\n",
        "auc = roc_auc_score(testy, testy_pred)\n",
        "f2 = fbeta_score(testy, testy_pred, beta=2)\n",
        "precision_per_class = precision_score(testy, testy_pred, average=None)\n",
        "f1 = fbeta_score(testy, testy_pred, beta=1)\n",
        "average_precision = average_precision_score(testy, testy_pred)\n",
        "weighted_recall = recall_score(testy, testy_pred, average='weighted')\n",
        "\n",
        "# Additional Metrics\n",
        "print(\"Accuracy:\", accuracy)\n",
        "print(\"AUC:\", auc)\n",
        "print(\"F1-score:\", f1)\n",
        "print(\"F2-score:\", f2)\n",
        "print(\"Precision per class:\", precision_per_class)\n",
        "print(\"Average Precision:\", average_precision)\n",
        "print(\"Weighted Average Recall:\", weighted_recall)\n",
        "print(\"Classification Report:\\n\", report)\n",
        "\n",
        "# Confusion Matrix Visualization\n",
        "plt.rcParams['figure.figsize'] = (4, 4)\n",
        "sns.heatmap(confusion_matrix(testy, testy_pred), annot=True, fmt='d', linewidths=.5, cmap=\"YlGnBu\")\n",
        "plt.title('Confusion Matrix')\n",
        "plt.show()\n",
        "\n",
        "# True Positive, True Negative, False Positive, False Negative\n",
        "tp = confusion_matrix(testy, testy_pred)[1][1]\n",
        "tn = confusion_matrix(testy, testy_pred)[0][0]\n",
        "fp = confusion_matrix(testy, testy_pred)[0][1]\n",
        "fn = confusion_matrix(testy, testy_pred)[1][0]\n",
        "\n",
        "print('True Positive Cases: {}'.format(tp))\n",
        "print('True Negative Cases: {}'.format(tn))\n",
        "print('False Positive Cases: {}'.format(fp))\n",
        "print('False Negative Cases: {}'.format(fn))"
      ],
      "metadata": {
        "id": "iiAA6UN2ynMS",
        "colab": {
          "base_uri": "https://localhost:8080/",
          "height": 773
        },
        "outputId": "edc9cb06-db81-4fde-997d-87332b2109d2"
      }
    },
    {
      "cell_type": "markdown",
      "source": [
        "---\n",
        "#### ◉ Random Forest (Python)"
      ],
      "metadata": {
        "collapsed": false,
        "id": "FXudSxsMynMN"
      }
    },
    {
      "cell_type": "code",
      "source": [
        "# Define the Logistic Regression model\n",
        "model = RandomForestClassifier(max_depth=10, min_samples_leaf=1, min_samples_split=10, n_estimators=300, random_state=42)\n",
        "\n",
        "# Fit the model to find the best parameters\n",
        "model.fit(trainx, trainy)\n",
        "\n",
        "# Make predictions on the training set\n",
        "trainy_pred = model.predict(trainx)\n",
        "\n",
        "# Evaluate the model on the training set\n",
        "accuracy_train = accuracy_score(trainy, trainy_pred)\n",
        "print(\"Training Accuracy:\", accuracy_train)\n",
        "\n",
        "# Make predictions on the test set\n",
        "testy_pred = model.predict(testx)\n",
        "\n",
        "# Evaluate the model on the test set\n",
        "accuracy = accuracy_score(testy, testy_pred)\n",
        "report = classification_report(testy, testy_pred, digits=5)\n",
        "auc = roc_auc_score(testy, testy_pred)\n",
        "f2 = fbeta_score(testy, testy_pred, beta=2)\n",
        "precision_per_class = precision_score(testy, testy_pred, average=None)\n",
        "f1 = fbeta_score(testy, testy_pred, beta=1)\n",
        "average_precision = average_precision_score(testy, testy_pred)\n",
        "weighted_recall = recall_score(testy, testy_pred, average='weighted')\n",
        "\n",
        "# Additional Metrics\n",
        "print(\"Accuracy:\", accuracy)\n",
        "print(\"AUC:\", auc)\n",
        "print(\"F1-score:\", f1)\n",
        "print(\"F2-score:\", f2)\n",
        "print(\"Precision per class:\", precision_per_class)\n",
        "print(\"Average Precision:\", average_precision)\n",
        "print(\"Weighted Average Recall:\", weighted_recall)\n",
        "print(\"Classification Report:\\n\", report)\n",
        "\n",
        "# Confusion Matrix Visualization\n",
        "plt.rcParams['figure.figsize'] = (4, 4)\n",
        "sns.heatmap(confusion_matrix(testy, testy_pred), annot=True, fmt='d', linewidths=.5, cmap=\"YlGnBu\")\n",
        "plt.title('Confusion Matrix')\n",
        "plt.show()\n",
        "\n",
        "# True Positive, True Negative, False Positive, False Negative\n",
        "tp = confusion_matrix(testy, testy_pred)[1][1]\n",
        "tn = confusion_matrix(testy, testy_pred)[0][0]\n",
        "fp = confusion_matrix(testy, testy_pred)[0][1]\n",
        "fn = confusion_matrix(testy, testy_pred)[1][0]\n",
        "\n",
        "print('True Positive Cases: {}'.format(tp))\n",
        "print('True Negative Cases: {}'.format(tn))\n",
        "print('False Positive Cases: {}'.format(fp))\n",
        "print('False Negative Cases: {}'.format(fn))"
      ],
      "metadata": {
        "colab": {
          "base_uri": "https://localhost:8080/",
          "height": 773
        },
        "id": "z9UAC6WraLQg",
        "outputId": "ec35eb3d-17ff-41f5-a479-ecee0743b0d1"
      },
      "execution_count": null,
      "outputs": [
        {
          "output_type": "stream",
          "name": "stdout",
          "text": [
            "Training Accuracy: 0.759569570105466\n",
            "Accuracy: 0.7368793609060572\n",
            "AUC: 0.7362305183618589\n",
            "F1-score: 0.7206356023190895\n",
            "F2-score: 0.7006848171037247\n",
            "Precision per class: [0.72088758 0.75653742]\n",
            "Average Precision: 0.6743962028985143\n",
            "Weighted Average Recall: 0.7368793609060572\n",
            "Classification Report:\n",
            "               precision    recall  f1-score   support\n",
            "\n",
            "           0    0.72089   0.78447   0.75134      5011\n",
            "           1    0.75654   0.68799   0.72064      4878\n",
            "\n",
            "    accuracy                        0.73688      9889\n",
            "   macro avg    0.73871   0.73623   0.73599      9889\n",
            "weighted avg    0.73847   0.73688   0.73619      9889\n",
            "\n"
          ]
        },
        {
          "output_type": "display_data",
          "data": {
            "text/plain": [
              "<Figure size 400x400 with 2 Axes>"
            ],
            "image/png": "[encoded data removed]"
          },
          "metadata": {}
        },
        {
          "output_type": "stream",
          "name": "stdout",
          "text": [
            "True Positive Cases: 3356\n",
            "True Negative Cases: 3931\n",
            "False Positive Cases: 1080\n",
            "False Negative Cases: 1522\n"
          ]
        }
      ]
    },
    {
      "cell_type": "markdown",
      "source": [
        "---\n",
        "#### ◉ XGBoost (Python)"
      ],
      "metadata": {
        "collapsed": false,
        "id": "qWzGBLWgynMP"
      }
    },
    {
      "cell_type": "code",
      "source": [
        "# Define the Logistic Regression model\n",
        "model = XGBClassifier(colsample_bytree=1.0, learning_rate=0.1, max_depth=3, n_estimators=200, reg_alpha=10, reg_lambda=1, subsample=0.8, random_state=42)\n",
        "\n",
        "# Fit the model to find the best parameters\n",
        "model.fit(trainx, trainy)\n",
        "\n",
        "# Make predictions on the training set\n",
        "trainy_pred = model.predict(trainx)\n",
        "\n",
        "# Evaluate the model on the training set\n",
        "accuracy_train = accuracy_score(trainy, trainy_pred)\n",
        "print(\"Training Accuracy:\", accuracy_train)\n",
        "\n",
        "# Make predictions on the test set\n",
        "testy_pred = model.predict(testx)\n",
        "\n",
        "# Evaluate the model on the test set\n",
        "accuracy = accuracy_score(testy, testy_pred)\n",
        "report = classification_report(testy, testy_pred, digits=5)\n",
        "auc = roc_auc_score(testy, testy_pred)\n",
        "f2 = fbeta_score(testy, testy_pred, beta=2)\n",
        "precision_per_class = precision_score(testy, testy_pred, average=None)\n",
        "f1 = fbeta_score(testy, testy_pred, beta=1)\n",
        "average_precision = average_precision_score(testy, testy_pred)\n",
        "weighted_recall = recall_score(testy, testy_pred, average='weighted')\n",
        "\n",
        "# Additional Metrics\n",
        "print(\"Accuracy:\", accuracy)\n",
        "print(\"AUC:\", auc)\n",
        "print(\"F1-score:\", f1)\n",
        "print(\"F2-score:\", f2)\n",
        "print(\"Precision per class:\", precision_per_class)\n",
        "print(\"Average Precision:\", average_precision)\n",
        "print(\"Weighted Average Recall:\", weighted_recall)\n",
        "print(\"Classification Report:\\n\", report)\n",
        "\n",
        "# Confusion Matrix Visualization\n",
        "plt.rcParams['figure.figsize'] = (4, 4)\n",
        "sns.heatmap(confusion_matrix(testy, testy_pred), annot=True, fmt='d', linewidths=.5, cmap=\"YlGnBu\")\n",
        "plt.title('Confusion Matrix')\n",
        "plt.show()\n",
        "\n",
        "# True Positive, True Negative, False Positive, False Negative\n",
        "tp = confusion_matrix(testy, testy_pred)[1][1]\n",
        "tn = confusion_matrix(testy, testy_pred)[0][0]\n",
        "fp = confusion_matrix(testy, testy_pred)[0][1]\n",
        "fn = confusion_matrix(testy, testy_pred)[1][0]\n",
        "\n",
        "print('True Positive Cases: {}'.format(tp))\n",
        "print('True Negative Cases: {}'.format(tn))\n",
        "print('False Positive Cases: {}'.format(fp))\n",
        "print('False Negative Cases: {}'.format(fn))"
      ],
      "metadata": {
        "colab": {
          "base_uri": "https://localhost:8080/",
          "height": 773
        },
        "id": "RXEU1In4aeHG",
        "outputId": "f257be07-e729-47f4-bf06-d7e68b216ed8"
      },
      "execution_count": null,
      "outputs": [
        {
          "output_type": "stream",
          "name": "stdout",
          "text": [
            "Training Accuracy: 0.7390295697485589\n",
            "Accuracy: 0.7334411972899181\n",
            "AUC: 0.7328026148950375\n",
            "F1-score: 0.7172280626475005\n",
            "F2-score: 0.6977375187844381\n",
            "Precision per class: [0.71808999 0.75225023]\n",
            "Average Precision: 0.6707564933192316\n",
            "Weighted Average Recall: 0.7334411972899181\n",
            "Classification Report:\n",
            "               precision    recall  f1-score   support\n",
            "\n",
            "           0    0.71809   0.78028   0.74790      5011\n",
            "           1    0.75225   0.68532   0.71723      4878\n",
            "\n",
            "    accuracy                        0.73344      9889\n",
            "   macro avg    0.73517   0.73280   0.73256      9889\n",
            "weighted avg    0.73494   0.73344   0.73277      9889\n",
            "\n"
          ]
        },
        {
          "output_type": "display_data",
          "data": {
            "text/plain": [
              "<Figure size 400x400 with 2 Axes>"
            ],
            "image/png": "[encoded data removed]"
          },
          "metadata": {}
        },
        {
          "output_type": "stream",
          "name": "stdout",
          "text": [
            "True Positive Cases: 3343\n",
            "True Negative Cases: 3910\n",
            "False Positive Cases: 1101\n",
            "False Negative Cases: 1535\n"
          ]
        }
      ]
    },
    {
      "cell_type": "markdown",
      "source": [
        "---\n",
        "#### ◉ LGBM (Python)"
      ],
      "metadata": {
        "collapsed": false,
        "id": "i2qyw3EdynMQ"
      }
    },
    {
      "cell_type": "code",
      "source": [
        "# Define the Logistic Regression model\n",
        "model = LGBMClassifier(colsample_bytree=0.8, learning_rate=0.1, max_depth=-1, n_estimators=100, reg_alpha=1, reg_lambda=10, subsample=0.8, random_state=42)\n",
        "\n",
        "# Fit the model to find the best parameters\n",
        "model.fit(trainx, trainy)\n",
        "\n",
        "# Make predictions on the training set\n",
        "trainy_pred = model.predict(trainx)\n",
        "\n",
        "# Evaluate the model on the training set\n",
        "accuracy_train = accuracy_score(trainy, trainy_pred)\n",
        "print(\"Training Accuracy:\", accuracy_train)\n",
        "\n",
        "# Make predictions on the test set\n",
        "testy_pred = model.predict(testx)\n",
        "\n",
        "# Evaluate the model on the test set\n",
        "accuracy = accuracy_score(testy, testy_pred)\n",
        "report = classification_report(testy, testy_pred, digits=5)\n",
        "auc = roc_auc_score(testy, testy_pred)\n",
        "f2 = fbeta_score(testy, testy_pred, beta=2)\n",
        "precision_per_class = precision_score(testy, testy_pred, average=None)\n",
        "f1 = fbeta_score(testy, testy_pred, beta=1)\n",
        "average_precision = average_precision_score(testy, testy_pred)\n",
        "weighted_recall = recall_score(testy, testy_pred, average='weighted')\n",
        "\n",
        "# Additional Metrics\n",
        "print(\"Accuracy:\", accuracy)\n",
        "print(\"AUC:\", auc)\n",
        "print(\"F1-score:\", f1)\n",
        "print(\"F2-score:\", f2)\n",
        "print(\"Precision per class:\", precision_per_class)\n",
        "print(\"Average Precision:\", average_precision)\n",
        "print(\"Weighted Average Recall:\", weighted_recall)\n",
        "print(\"Classification Report:\\n\", report)\n",
        "\n",
        "# Confusion Matrix Visualization\n",
        "plt.rcParams['figure.figsize'] = (4, 4)\n",
        "sns.heatmap(confusion_matrix(testy, testy_pred), annot=True, fmt='d', linewidths=.5, cmap=\"YlGnBu\")\n",
        "plt.title('Confusion Matrix')\n",
        "plt.show()\n",
        "\n",
        "# True Positive, True Negative, False Positive, False Negative\n",
        "tp = confusion_matrix(testy, testy_pred)[1][1]\n",
        "tn = confusion_matrix(testy, testy_pred)[0][0]\n",
        "fp = confusion_matrix(testy, testy_pred)[0][1]\n",
        "fn = confusion_matrix(testy, testy_pred)[1][0]\n",
        "\n",
        "print('True Positive Cases: {}'.format(tp))\n",
        "print('True Negative Cases: {}'.format(tn))\n",
        "print('False Positive Cases: {}'.format(fp))\n",
        "print('False Negative Cases: {}'.format(fn))"
      ],
      "metadata": {
        "colab": {
          "base_uri": "https://localhost:8080/",
          "height": 912
        },
        "id": "UtGBxPxubNod",
        "outputId": "eaf7b3ca-3338-458d-c2f7-b2f48393f831"
      },
      "execution_count": null,
      "outputs": [
        {
          "output_type": "stream",
          "name": "stdout",
          "text": [
            "[LightGBM] [Info] Number of positive: 27668, number of negative: 28369\n",
            "[LightGBM] [Info] Auto-choosing row-wise multi-threading, the overhead of testing was 0.020615 seconds.\n",
            "You can set `force_row_wise=true` to remove the overhead.\n",
            "And if memory is not enough, you can set `force_col_wise=true`.\n",
            "[LightGBM] [Info] Total Bins 6630\n",
            "[LightGBM] [Info] Number of data points in the train set: 56037, number of used features: 26\n",
            "[LightGBM] [Info] [binary:BoostFromScore]: pavg=0.493745 -> initscore=-0.025020\n",
            "[LightGBM] [Info] Start training from score -0.025020\n",
            "Training Accuracy: 0.7495940182379499\n",
            "Accuracy: 0.7366771159874608\n",
            "AUC: 0.73607720661122\n",
            "F1-score: 0.7214973262032084\n",
            "F2-score: 0.7031771180787192\n",
            "Precision per class: [0.72217094 0.75424866]\n",
            "Average Precision: 0.6737310651855959\n",
            "Weighted Average Recall: 0.7366771159874608\n",
            "Classification Report:\n",
            "               precision    recall  f1-score   support\n",
            "\n",
            "           0    0.72217   0.78068   0.75029      5011\n",
            "           1    0.75425   0.69147   0.72150      4878\n",
            "\n",
            "    accuracy                        0.73668      9889\n",
            "   macro avg    0.73821   0.73608   0.73589      9889\n",
            "weighted avg    0.73799   0.73668   0.73609      9889\n",
            "\n"
          ]
        },
        {
          "output_type": "display_data",
          "data": {
            "text/plain": [
              "<Figure size 400x400 with 2 Axes>"
            ],
            "image/png": "[encoded data removed]"
          },
          "metadata": {}
        },
        {
          "output_type": "stream",
          "name": "stdout",
          "text": [
            "True Positive Cases: 3373\n",
            "True Negative Cases: 3912\n",
            "False Positive Cases: 1099\n",
            "False Negative Cases: 1505\n"
          ]
        }
      ]
    },
    {
      "cell_type": "markdown",
      "source": [
        "---\n",
        "#### ◉ Ensemble (LGBM + RF + XGBoost)"
      ],
      "metadata": {
        "collapsed": false,
        "id": "Skt-9UJ9ynMQ"
      }
    },
    {
      "cell_type": "code",
      "execution_count": null,
      "outputs": [
        {
          "output_type": "stream",
          "name": "stdout",
          "text": [
            "[LightGBM] [Info] Number of positive: 27668, number of negative: 28369\n",
            "[LightGBM] [Info] Auto-choosing col-wise multi-threading, the overhead of testing was 0.014461 seconds.\n",
            "You can set `force_col_wise=true` to remove the overhead.\n",
            "[LightGBM] [Info] Total Bins 6630\n",
            "[LightGBM] [Info] Number of data points in the train set: 56037, number of used features: 26\n",
            "[LightGBM] [Info] [binary:BoostFromScore]: pavg=0.493745 -> initscore=-0.025020\n",
            "[LightGBM] [Info] Start training from score -0.025020\n",
            "[LightGBM] [Warning] No further splits with positive gain, best gain: -inf\n",
            "[LightGBM] [Warning] No further splits with positive gain, best gain: -inf\n",
            "[LightGBM] [Warning] No further splits with positive gain, best gain: -inf\n",
            "[LightGBM] [Warning] No further splits with positive gain, best gain: -inf\n",
            "[LightGBM] [Warning] No further splits with positive gain, best gain: -inf\n",
            "[LightGBM] [Warning] No further splits with positive gain, best gain: -inf\n",
            "[LightGBM] [Warning] No further splits with positive gain, best gain: -inf\n",
            "[LightGBM] [Warning] No further splits with positive gain, best gain: -inf\n",
            "[LightGBM] [Warning] No further splits with positive gain, best gain: -inf\n",
            "[LightGBM] [Warning] No further splits with positive gain, best gain: -inf\n",
            "[LightGBM] [Warning] No further splits with positive gain, best gain: -inf\n",
            "[LightGBM] [Warning] No further splits with positive gain, best gain: -inf\n",
            "[LightGBM] [Warning] No further splits with positive gain, best gain: -inf\n",
            "[LightGBM] [Warning] No further splits with positive gain, best gain: -inf\n",
            "[LightGBM] [Warning] No further splits with positive gain, best gain: -inf\n",
            "Training Accuracy: 0.7994717775755305\n",
            "Accuracy: 0.7355647689351805\n",
            "AUC: 0.7349823418409798\n",
            "F1-score: 0.7207091744099113\n",
            "F2-score: 0.703004542234446\n",
            "Precision per class: [0.72168764 0.7522854 ]\n",
            "Average Precision: 0.6724266218567871\n",
            "Weighted Average Recall: 0.7355647689351805\n",
            "Classification Report:\n",
            "               precision    recall  f1-score   support\n",
            "\n",
            "           0    0.72169   0.77829   0.74892      5011\n",
            "           1    0.75229   0.69168   0.72071      4878\n",
            "\n",
            "    accuracy                        0.73556      9889\n",
            "   macro avg    0.73699   0.73498   0.73481      9889\n",
            "weighted avg    0.73678   0.73556   0.73500      9889\n",
            "\n"
          ]
        },
        {
          "output_type": "display_data",
          "data": {
            "text/plain": [
              "<Figure size 400x400 with 2 Axes>"
            ],
            "image/png": "[encoded data removed]"
          },
          "metadata": {}
        },
        {
          "output_type": "stream",
          "name": "stdout",
          "text": [
            "True Positive Cases: 3374\n",
            "True Negative Cases: 3900\n",
            "False Positive Cases: 1111\n",
            "False Negative Cases: 1504\n",
            "CPU times: user 3min 6s, sys: 427 ms, total: 3min 7s\n",
            "Wall time: 3min 6s\n"
          ]
        }
      ],
      "source": [
        "%%time\n",
        "# Define individual models with parameters\n",
        "lgbm_params = {\n",
        "    'random_state': 42,\n",
        "    'n_estimators': 200,\n",
        "    'max_depth': 3,\n",
        "    'learning_rate': 0.1,\n",
        "    'subsample': 0.8,\n",
        "    'colsample_bytree': 1.0,\n",
        "    'reg_alpha': 10,\n",
        "    'reg_lambda': 1\n",
        "}\n",
        "lgbm_model = LGBMClassifier(**lgbm_params)\n",
        "\n",
        "rf_params = {\n",
        "    'random_state': 42,\n",
        "    'n_estimators': 350,\n",
        "    'max_depth': 30,\n",
        "    'min_samples_split': 5,\n",
        "    'min_samples_leaf': 4\n",
        "}\n",
        "rf_model = RandomForestClassifier(**rf_params)\n",
        "\n",
        "xgb_params = {\n",
        "    'random_state': 42,\n",
        "    'n_estimators': 200,\n",
        "    'max_depth': 3,\n",
        "    'learning_rate': 0.1,\n",
        "    'subsample': 0.8,\n",
        "    'colsample_bytree': 1.0,\n",
        "    'reg_alpha': 10,\n",
        "    'reg_lambda': 1\n",
        "}\n",
        "xgb_model = XGBClassifier(**xgb_params)\n",
        "\n",
        "# Create a voting classifier\n",
        "voting_model = VotingClassifier(\n",
        "    estimators=[\n",
        "        ('lgbm', lgbm_model),\n",
        "        ('rf', rf_model),\n",
        "        ('xgb', xgb_model)\n",
        "    ],\n",
        "    voting='soft'  # Use 'soft' for probability voting\n",
        ")\n",
        "\n",
        "# Fit the ensemble model to the training data\n",
        "voting_model.fit(trainx, trainy)\n",
        "\n",
        "# Make predictions on the training set\n",
        "trainy_pred = voting_model.predict(trainx)\n",
        "\n",
        "# Evaluate the model on the training set\n",
        "accuracy_train = accuracy_score(trainy, trainy_pred)\n",
        "print(\"Training Accuracy:\", accuracy_train)\n",
        "\n",
        "# Make predictions on the test set\n",
        "testy_pred = voting_model.predict(testx)\n",
        "\n",
        "# Evaluate the model on the test set\n",
        "accuracy = accuracy_score(testy, testy_pred)\n",
        "report = classification_report(testy, testy_pred, digits=5)\n",
        "auc = roc_auc_score(testy, testy_pred)\n",
        "f2 = fbeta_score(testy, testy_pred, beta=2)\n",
        "precision_per_class = precision_score(testy, testy_pred, average=None)\n",
        "f1 = fbeta_score(testy, testy_pred, beta=1)\n",
        "average_precision = average_precision_score(testy, testy_pred)\n",
        "weighted_recall = recall_score(testy, testy_pred, average='weighted')\n",
        "\n",
        "# Additional Metrics\n",
        "print(\"Accuracy:\", accuracy)\n",
        "print(\"AUC:\", auc)\n",
        "print(\"F1-score:\", f1)\n",
        "print(\"F2-score:\", f2)\n",
        "print(\"Precision per class:\", precision_per_class)\n",
        "print(\"Average Precision:\", average_precision)\n",
        "print(\"Weighted Average Recall:\", weighted_recall)\n",
        "print(\"Classification Report:\\n\", report)\n",
        "\n",
        "# Confusion Matrix Visualization\n",
        "plt.rcParams['figure.figsize'] = (4, 4)\n",
        "sns.heatmap(confusion_matrix(testy, testy_pred), annot=True, fmt='d', linewidths=.5, cmap=\"YlGnBu\")\n",
        "plt.title('Confusion Matrix')\n",
        "plt.show()\n",
        "\n",
        "# True Positive, True Negative, False Positive, False Negative\n",
        "tp = confusion_matrix(testy, testy_pred)[1][1]\n",
        "tn = confusion_matrix(testy, testy_pred)[0][0]\n",
        "fp = confusion_matrix(testy, testy_pred)[0][1]\n",
        "fn = confusion_matrix(testy, testy_pred)[1][0]\n",
        "\n",
        "print('True Positive Cases: {}'.format(tp))\n",
        "print('True Negative Cases: {}'.format(tn))\n",
        "print('False Positive Cases: {}'.format(fp))\n",
        "print('False Negative Cases: {}'.format(fn))"
      ],
      "metadata": {
        "ExecuteTime": {
          "end_time": "2023-12-04T12:42:39.380517800Z",
          "start_time": "2023-12-04T12:42:04.226763300Z"
        },
        "id": "gzEi1QaFynMR",
        "outputId": "1db66ec2-ede5-4746-fc03-91978cbf7317",
        "colab": {
          "base_uri": "https://localhost:8080/",
          "height": 1000
        }
      }
    },
    {
      "cell_type": "markdown",
      "source": [
        "---\n",
        "#### ◉ TabNet (Python)"
      ],
      "metadata": {
        "collapsed": false,
        "id": "E-Se_eSAynMR"
      }
    },
    {
      "cell_type": "code",
      "source": [
        "!pip install pytorch_tabnet"
      ],
      "metadata": {
        "id": "2Z0afcW8Bhf7"
      },
      "execution_count": null,
      "outputs": []
    },
    {
      "cell_type": "code",
      "execution_count": 8,
      "outputs": [
        {
          "output_type": "stream",
          "name": "stderr",
          "text": [
            "/usr/local/lib/python3.10/dist-packages/pytorch_tabnet/abstract_model.py:82: UserWarning: Device used : cpu\n",
            "  warnings.warn(f\"Device used : {self.device}\")\n",
            "/usr/local/lib/python3.10/dist-packages/pytorch_tabnet/abstract_model.py:687: UserWarning: No early stopping will be performed, last training weights will be used.\n",
            "  warnings.warn(wrn_msg)\n"
          ]
        },
        {
          "output_type": "stream",
          "name": "stdout",
          "text": [
            "epoch 0  | loss: 0.70047 |  0:00:10s\n",
            "epoch 1  | loss: 0.59023 |  0:00:23s\n",
            "epoch 2  | loss: 0.58097 |  0:00:37s\n",
            "epoch 3  | loss: 0.57167 |  0:00:45s\n",
            "epoch 4  | loss: 0.56718 |  0:00:52s\n",
            "epoch 5  | loss: 0.5634  |  0:00:55s\n",
            "epoch 6  | loss: 0.56344 |  0:00:57s\n",
            "epoch 7  | loss: 0.56266 |  0:01:00s\n",
            "epoch 8  | loss: 0.5604  |  0:01:04s\n",
            "epoch 9  | loss: 0.55921 |  0:01:07s\n",
            "epoch 10 | loss: 0.55817 |  0:01:10s\n",
            "epoch 11 | loss: 0.55981 |  0:01:13s\n",
            "epoch 12 | loss: 0.55709 |  0:01:15s\n",
            "epoch 13 | loss: 0.55552 |  0:01:19s\n",
            "epoch 14 | loss: 0.55501 |  0:01:22s\n",
            "epoch 15 | loss: 0.55298 |  0:01:25s\n",
            "epoch 16 | loss: 0.55353 |  0:01:28s\n",
            "epoch 17 | loss: 0.55124 |  0:01:30s\n",
            "epoch 18 | loss: 0.55213 |  0:01:34s\n",
            "epoch 19 | loss: 0.55081 |  0:01:38s\n",
            "epoch 20 | loss: 0.55088 |  0:01:40s\n",
            "epoch 21 | loss: 0.54944 |  0:01:43s\n",
            "epoch 22 | loss: 0.54889 |  0:01:46s\n",
            "epoch 23 | loss: 0.54832 |  0:01:50s\n",
            "epoch 24 | loss: 0.54811 |  0:01:55s\n",
            "epoch 25 | loss: 0.54712 |  0:01:59s\n",
            "epoch 26 | loss: 0.54902 |  0:02:01s\n",
            "epoch 27 | loss: 0.54672 |  0:02:04s\n",
            "epoch 28 | loss: 0.54636 |  0:02:07s\n",
            "epoch 29 | loss: 0.54647 |  0:02:11s\n",
            "epoch 30 | loss: 0.54625 |  0:02:14s\n",
            "epoch 31 | loss: 0.54673 |  0:02:17s\n",
            "epoch 32 | loss: 0.54616 |  0:02:19s\n",
            "epoch 33 | loss: 0.54651 |  0:02:22s\n",
            "epoch 34 | loss: 0.54508 |  0:02:26s\n",
            "epoch 35 | loss: 0.54562 |  0:02:30s\n",
            "epoch 36 | loss: 0.5458  |  0:02:34s\n",
            "epoch 37 | loss: 0.54564 |  0:02:36s\n",
            "epoch 38 | loss: 0.54594 |  0:02:40s\n",
            "epoch 39 | loss: 0.54591 |  0:02:44s\n",
            "epoch 40 | loss: 0.54452 |  0:02:46s\n",
            "epoch 41 | loss: 0.54498 |  0:02:49s\n",
            "epoch 42 | loss: 0.54414 |  0:02:52s\n",
            "epoch 43 | loss: 0.54397 |  0:02:55s\n",
            "epoch 44 | loss: 0.54458 |  0:02:59s\n",
            "epoch 45 | loss: 0.54411 |  0:03:02s\n",
            "epoch 46 | loss: 0.54483 |  0:03:04s\n",
            "epoch 47 | loss: 0.54452 |  0:03:08s\n",
            "epoch 48 | loss: 0.54365 |  0:03:11s\n",
            "epoch 49 | loss: 0.54399 |  0:03:15s\n",
            "epoch 50 | loss: 0.5435  |  0:03:18s\n",
            "epoch 51 | loss: 0.54425 |  0:03:20s\n",
            "epoch 52 | loss: 0.5438  |  0:03:23s\n",
            "epoch 53 | loss: 0.54296 |  0:03:26s\n",
            "epoch 54 | loss: 0.54342 |  0:03:30s\n",
            "epoch 55 | loss: 0.54451 |  0:03:33s\n",
            "epoch 56 | loss: 0.54372 |  0:03:36s\n",
            "epoch 57 | loss: 0.54227 |  0:03:38s\n",
            "epoch 58 | loss: 0.54303 |  0:03:41s\n",
            "epoch 59 | loss: 0.54241 |  0:03:45s\n",
            "epoch 60 | loss: 0.542   |  0:03:48s\n",
            "epoch 61 | loss: 0.54269 |  0:03:51s\n",
            "epoch 62 | loss: 0.54247 |  0:03:54s\n",
            "epoch 63 | loss: 0.54347 |  0:03:57s\n",
            "epoch 64 | loss: 0.54578 |  0:04:01s\n",
            "epoch 65 | loss: 0.54506 |  0:04:04s\n",
            "epoch 66 | loss: 0.54419 |  0:04:06s\n",
            "epoch 67 | loss: 0.54245 |  0:04:09s\n",
            "epoch 68 | loss: 0.54273 |  0:04:12s\n",
            "epoch 69 | loss: 0.54265 |  0:04:16s\n",
            "epoch 70 | loss: 0.54236 |  0:04:19s\n",
            "epoch 71 | loss: 0.54211 |  0:04:22s\n",
            "epoch 72 | loss: 0.54308 |  0:04:24s\n",
            "epoch 73 | loss: 0.54247 |  0:04:27s\n",
            "epoch 74 | loss: 0.54222 |  0:04:31s\n",
            "epoch 75 | loss: 0.54121 |  0:04:34s\n",
            "epoch 76 | loss: 0.54254 |  0:04:37s\n",
            "epoch 77 | loss: 0.54194 |  0:04:40s\n",
            "epoch 78 | loss: 0.54298 |  0:04:42s\n",
            "epoch 79 | loss: 0.54124 |  0:04:46s\n",
            "epoch 80 | loss: 0.54119 |  0:04:50s\n",
            "epoch 81 | loss: 0.54142 |  0:04:52s\n",
            "epoch 82 | loss: 0.5401  |  0:04:55s\n",
            "epoch 83 | loss: 0.54116 |  0:04:58s\n",
            "epoch 84 | loss: 0.53975 |  0:05:01s\n",
            "epoch 85 | loss: 0.54033 |  0:05:05s\n",
            "epoch 86 | loss: 0.54152 |  0:05:08s\n",
            "epoch 87 | loss: 0.53999 |  0:05:10s\n",
            "epoch 88 | loss: 0.54045 |  0:05:13s\n",
            "epoch 89 | loss: 0.54149 |  0:05:16s\n",
            "epoch 90 | loss: 0.54066 |  0:05:20s\n",
            "epoch 91 | loss: 0.53992 |  0:05:23s\n",
            "epoch 92 | loss: 0.53987 |  0:05:26s\n",
            "epoch 93 | loss: 0.53925 |  0:05:28s\n",
            "epoch 94 | loss: 0.53979 |  0:05:32s\n",
            "epoch 95 | loss: 0.53964 |  0:05:36s\n",
            "epoch 96 | loss: 0.54015 |  0:05:38s\n",
            "epoch 97 | loss: 0.53958 |  0:05:41s\n",
            "epoch 98 | loss: 0.53947 |  0:05:44s\n",
            "epoch 99 | loss: 0.54071 |  0:05:47s\n",
            "Training Accuracy: 0.7393329407355854\n",
            "Accuracy: 0.7374860956618465\n",
            "AUC: 0.7369897132417742\n",
            "F1-score: 0.7245915552726501\n",
            "F2-score: 0.709684123025769\n",
            "Precision per class: [0.72608126 0.75087951]\n",
            "Average Precision: 0.6736193859216913\n",
            "Weighted Average Recall: 0.7374860956618465\n",
            "Classification Report:\n",
            "               precision    recall  f1-score   support\n",
            "\n",
            "           0    0.72608   0.77390   0.74923      5011\n",
            "           1    0.75088   0.70008   0.72459      4878\n",
            "\n",
            "    accuracy                        0.73749      9889\n",
            "   macro avg    0.73848   0.73699   0.73691      9889\n",
            "weighted avg    0.73831   0.73749   0.73708      9889\n",
            "\n"
          ]
        },
        {
          "output_type": "display_data",
          "data": {
            "text/plain": [
              "<Figure size 400x400 with 2 Axes>"
            ],
            "image/png": "[encoded data removed]"
          },
          "metadata": {}
        },
        {
          "output_type": "stream",
          "name": "stdout",
          "text": [
            "True Positive Cases: 3415\n",
            "True Negative Cases: 3878\n",
            "False Positive Cases: 1133\n",
            "False Negative Cases: 1463\n"
          ]
        }
      ],
      "source": [
        "from pytorch_tabnet.tab_model import TabNetClassifier\n",
        "\n",
        "# Define TabNet parameters\n",
        "tabnet_params = {\n",
        "    # TabNet parameters\n",
        "}\n",
        "\n",
        "# Create a TabNet model\n",
        "tabnet_model = TabNetClassifier(**tabnet_params)\n",
        "\n",
        "# Fit the TabNet model to the training data\n",
        "tabnet_model.fit(trainx, trainy)\n",
        "\n",
        "# Make predictions on the training set\n",
        "trainy_pred = tabnet_model.predict(trainx)\n",
        "\n",
        "# Evaluate the model on the training set\n",
        "accuracy_train = accuracy_score(trainy, trainy_pred)\n",
        "print(\"Training Accuracy:\", accuracy_train)\n",
        "\n",
        "# Make predictions on the test set\n",
        "testy_pred = tabnet_model.predict(testx)\n",
        "\n",
        "# Evaluate the model on the test set\n",
        "accuracy = accuracy_score(testy, testy_pred)\n",
        "report = classification_report(testy, testy_pred, digits=5)\n",
        "auc = roc_auc_score(testy, testy_pred)\n",
        "f2 = fbeta_score(testy, testy_pred, beta=2)\n",
        "precision_per_class = precision_score(testy, testy_pred, average=None)\n",
        "f1 = fbeta_score(testy, testy_pred, beta=1)\n",
        "average_precision = average_precision_score(testy, testy_pred)\n",
        "weighted_recall = recall_score(testy, testy_pred, average='weighted')\n",
        "\n",
        "# Additional Metrics\n",
        "print(\"Accuracy:\", accuracy)\n",
        "print(\"AUC:\", auc)\n",
        "print(\"F1-score:\", f1)\n",
        "print(\"F2-score:\", f2)\n",
        "print(\"Precision per class:\", precision_per_class)\n",
        "print(\"Average Precision:\", average_precision)\n",
        "print(\"Weighted Average Recall:\", weighted_recall)\n",
        "print(\"Classification Report:\\n\", report)\n",
        "\n",
        "# Confusion Matrix Visualization\n",
        "plt.rcParams['figure.figsize'] = (4, 4)\n",
        "sns.heatmap(confusion_matrix(testy, testy_pred), annot=True, fmt='d', linewidths=.5, cmap=\"YlGnBu\")\n",
        "plt.title('Confusion Matrix')\n",
        "plt.show()\n",
        "\n",
        "# True Positive, True Negative, False Positive, False Negative\n",
        "tp = confusion_matrix(testy, testy_pred)[1][1]\n",
        "tn = confusion_matrix(testy, testy_pred)[0][0]\n",
        "fp = confusion_matrix(testy, testy_pred)[0][1]\n",
        "fn = confusion_matrix(testy, testy_pred)[1][0]\n",
        "\n",
        "print('True Positive Cases: {}'.format(tp))\n",
        "print('True Negative Cases: {}'.format(tn))\n",
        "print('False Positive Cases: {}'.format(fp))\n",
        "print('False Negative Cases: {}'.format(fn))\n"
      ],
      "metadata": {
        "ExecuteTime": {
          "end_time": "2023-12-04T11:59:36.415708500Z",
          "start_time": "2023-12-04T11:54:28.161818800Z"
        },
        "id": "DEBjYWyMynMR",
        "outputId": "e2958c08-4aeb-4f23-81ce-d3d3751676c5",
        "colab": {
          "base_uri": "https://localhost:8080/",
          "height": 1000
        }
      }
    },
    {
      "cell_type": "markdown",
      "source": [
        "---\n",
        "#### ◉ Optimized Neural Network (Python)"
      ],
      "metadata": {
        "collapsed": false,
        "id": "twy0Zm3kynMR"
      }
    },
    {
      "cell_type": "code",
      "execution_count": 9,
      "outputs": [
        {
          "output_type": "display_data",
          "data": {
            "text/plain": [
              "<Figure size 400x400 with 1 Axes>"
            ],
            "image/png": "[encoded data removed]"
          },
          "metadata": {}
        },
        {
          "output_type": "stream",
          "name": "stdout",
          "text": [
            "Training Accuracy: 0.734086407195246\n",
            "Accuracy: 0.7383961977955303\n",
            "AUC: 0.7384128022082456\n",
            "F1-score: 0.73610119351219\n",
            "F2-score: 0.7382248230142815\n",
            "Precision per class: [0.74415794 0.73258883]\n",
            "Average Precision: 0.670282945943867\n",
            "Weighted Average Recall: 0.7383961977955303\n",
            "Classification Report:\n",
            "               precision    recall  f1-score   support\n",
            "\n",
            "           0    0.74416   0.73718   0.74065      5011\n",
            "           1    0.73259   0.73965   0.73610      4878\n",
            "\n",
            "    accuracy                        0.73840      9889\n",
            "   macro avg    0.73837   0.73841   0.73838      9889\n",
            "weighted avg    0.73845   0.73840   0.73841      9889\n",
            "\n"
          ]
        },
        {
          "output_type": "display_data",
          "data": {
            "text/plain": [
              "<Figure size 400x400 with 2 Axes>"
            ],
            "image/png": "[encoded data removed]"
          },
          "metadata": {}
        },
        {
          "output_type": "stream",
          "name": "stdout",
          "text": [
            "True Positive Cases: 3608\n",
            "True Negative Cases: 3694\n",
            "False Positive Cases: 1317\n",
            "False Negative Cases: 1270\n",
            "CPU times: user 5min 47s, sys: 18.2 s, total: 6min 5s\n",
            "Wall time: 6min 8s\n"
          ]
        }
      ],
      "source": [
        "%%time\n",
        "class ONN(nn.Module):\n",
        "    def __init__(self, input_size, hidden_sizes, output_size, dropout_rate=0.25):\n",
        "        super(ONN, self).__init__()\n",
        "\n",
        "        layers = []\n",
        "        layers.append(nn.Linear(input_size, hidden_sizes[0]))\n",
        "        layers.append(nn.PReLU())  # Using PReLU as an advanced activation function\n",
        "        layers.append(nn.BatchNorm1d(hidden_sizes[0]))\n",
        "        layers.append(nn.Dropout(p=dropout_rate))\n",
        "\n",
        "        for i in range(len(hidden_sizes) - 1):\n",
        "            layers.append(self._make_layer(hidden_sizes[i], hidden_sizes[i+1], dropout_rate))\n",
        "\n",
        "        self.hidden_layers = nn.Sequential(*layers)\n",
        "        self.output_layer = nn.Linear(hidden_sizes[-1], output_size)\n",
        "        self._initialize_weights()\n",
        "        self.threshold = 0.45\n",
        "\n",
        "    def _make_layer(self, in_features, out_features, dropout_rate):\n",
        "        layer = nn.Sequential(\n",
        "            nn.Linear(in_features, out_features),\n",
        "            nn.PReLU(),\n",
        "            nn.BatchNorm1d(out_features),\n",
        "            nn.Dropout(p=dropout_rate)\n",
        "        )\n",
        "        return layer\n",
        "\n",
        "    def _initialize_weights(self):\n",
        "        for m in self.modules():\n",
        "            if isinstance(m, nn.Linear):\n",
        "                nn.init.kaiming_normal_(m.weight, nonlinearity='relu')  # He initialization\n",
        "                if m.bias is not None:\n",
        "                    nn.init.constant_(m.bias, 0)\n",
        "\n",
        "    def set_threshold(self, threshold):\n",
        "        self.threshold = threshold\n",
        "\n",
        "    def forward(self, x):\n",
        "        x = self.hidden_layers(x)\n",
        "        x = self.output_layer(x)\n",
        "        return x\n",
        "\n",
        "    def predict(self, x):\n",
        "        with torch.no_grad():\n",
        "            self.eval()\n",
        "            y_prob = F.softmax(self.forward(x), dim=1)  # Ensure to use self.forward\n",
        "            y_pred = (y_prob[:, 1] > self.threshold).int().numpy()\n",
        "        return y_pred\n",
        "\n",
        "# Set the input, hidden, and output sizes\n",
        "input_size = 26  # The number of features\n",
        "hidden_sizes = [64, 128]\n",
        "output_size = 2\n",
        "\n",
        "# Create the neural network model\n",
        "neural_net_model = ONN(input_size, hidden_sizes, output_size)\n",
        "\n",
        "# Define loss function and optimizer\n",
        "criterion = nn.CrossEntropyLoss()\n",
        "optimizer = optim.Adam(neural_net_model.parameters(), lr=0.001)\n",
        "\n",
        "# Convert data to PyTorch tensors if not already\n",
        "trainx_tensor = torch.Tensor(trainx)\n",
        "trainy_tensor = torch.LongTensor(trainy)  # Assuming classification with integers\n",
        "\n",
        "# Training the neural network\n",
        "num_epochs = 1200\n",
        "train_losses = []\n",
        "\n",
        "for epoch in range(num_epochs):\n",
        "    # Forward pass\n",
        "    outputs = neural_net_model(trainx_tensor)\n",
        "    loss = criterion(outputs, trainy_tensor)\n",
        "    train_losses.append(loss.item())\n",
        "\n",
        "    # Backward and optimize\n",
        "    optimizer.zero_grad()\n",
        "    loss.backward()\n",
        "    optimizer.step()\n",
        "\n",
        "# Plot the training loss over epochs\n",
        "plt.plot(range(1, num_epochs+1), train_losses, label='Training Loss')\n",
        "plt.xlabel('Epoch')\n",
        "plt.ylabel('Loss')\n",
        "plt.title('Training Loss Over Epochs')\n",
        "plt.legend()\n",
        "plt.show()\n",
        "\n",
        "# Evaluation on the training set\n",
        "with torch.no_grad():\n",
        "    neural_net_model.eval()\n",
        "    trainy_pred = neural_net_model.predict(trainx_tensor)\n",
        "    accuracy_train = accuracy_score(trainy, trainy_pred)\n",
        "    print(\"Training Accuracy:\", accuracy_train)\n",
        "\n",
        "# Evaluation on the test set\n",
        "testx_tensor = torch.Tensor(testx)\n",
        "testy_tensor = torch.LongTensor(testy)\n",
        "with torch.no_grad():\n",
        "    neural_net_model.eval()\n",
        "    neural_net_model.set_threshold(0.45)  # Adjust the threshold\n",
        "    testy_pred = neural_net_model.predict(testx_tensor)\n",
        "    # Evaluate the model on the test set\n",
        "    accuracy = accuracy_score(testy, testy_pred)\n",
        "    report = classification_report(testy, testy_pred, digits=5)\n",
        "    auc = roc_auc_score(testy, testy_pred)\n",
        "    f2 = fbeta_score(testy, testy_pred, beta=2)\n",
        "    precision_per_class = precision_score(testy, testy_pred, average=None)\n",
        "    f1 = fbeta_score(testy, testy_pred, beta=1)\n",
        "    average_precision = average_precision_score(testy, testy_pred)\n",
        "    weighted_recall = recall_score(testy, testy_pred, average='weighted')\n",
        "\n",
        "    # Additional Metrics\n",
        "    print(\"Accuracy:\", accuracy)\n",
        "    print(\"AUC:\", auc)\n",
        "    print(\"F1-score:\", f1)\n",
        "    print(\"F2-score:\", f2)\n",
        "    print(\"Precision per class:\", precision_per_class)\n",
        "    print(\"Average Precision:\", average_precision)\n",
        "    print(\"Weighted Average Recall:\", weighted_recall)\n",
        "    print(\"Classification Report:\\n\", report)\n",
        "\n",
        "    # Confusion Matrix Visualization\n",
        "    plt.rcParams['figure.figsize'] = (4, 4)\n",
        "    sns.heatmap(confusion_matrix(testy, testy_pred), annot=True, fmt='d', linewidths=.5, cmap=\"YlGnBu\")\n",
        "    plt.title('Confusion Matrix')\n",
        "    plt.show()\n",
        "\n",
        "    # True Positive, True Negative, False Positive, False Negative\n",
        "    tp = confusion_matrix(testy, testy_pred)[1][1]\n",
        "    tn = confusion_matrix(testy, testy_pred)[0][0]\n",
        "    fp = confusion_matrix(testy, testy_pred)[0][1]\n",
        "    fn = confusion_matrix(testy, testy_pred)[1][0]\n",
        "\n",
        "    print('True Positive Cases: {}'.format(tp))\n",
        "    print('True Negative Cases: {}'.format(tn))\n",
        "    print('False Positive Cases: {}'.format(fp))\n",
        "    print('False Negative Cases: {}'.format(fn))"
      ],
      "metadata": {
        "ExecuteTime": {
          "end_time": "2023-12-04T13:49:05.815471400Z",
          "start_time": "2023-12-04T13:45:53.761262100Z"
        },
        "id": "hLHhpFIFynMR",
        "outputId": "21e7f711-bfb6-4513-e049-4577d2b00968",
        "colab": {
          "base_uri": "https://localhost:8080/",
          "height": 1000
        }
      }
    },
    {
      "cell_type": "code",
      "source": [],
      "metadata": {
        "id": "e7QyI-0rb34s"
      },
      "execution_count": null,
      "outputs": []
    }
  ],
  "metadata": {
    "kernelspec": {
      "display_name": "Python 3",
      "language": "python",
      "name": "python3"
    },
    "language_info": {
      "codemirror_mode": {
        "name": "ipython",
        "version": 2
      },
      "file_extension": ".py",
      "mimetype": "text/x-python",
      "name": "python",
      "nbconvert_exporter": "python",
      "pygments_lexer": "ipython2",
      "version": "2.7.6"
    },
    "colab": {
      "provenance": []
    }
  },
  "nbformat": 4,
  "nbformat_minor": 0
}